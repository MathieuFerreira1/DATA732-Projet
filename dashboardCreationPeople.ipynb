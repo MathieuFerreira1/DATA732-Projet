{
 "cells": [
  {
   "cell_type": "code",
   "execution_count": 188,
   "outputs": [],
   "source": [
    "import json\n",
    "import math\n",
    "import numpy as np\n",
    "\n",
    "import pandas as pd\n",
    "from dash import Dash, dcc, html, Input, Output\n",
    "import plotly.express as px\n",
    "\n",
    "import matplotlib.pyplot as plt\n",
    "import os\n",
    "\n",
    "import string\n",
    "from gensim.models import Word2Vec"
   ],
   "metadata": {
    "collapsed": false,
    "ExecuteTime": {
     "end_time": "2024-01-06T22:23:04.217991Z",
     "start_time": "2024-01-06T22:23:04.175482Z"
    }
   },
   "id": "42b7c9afb71a2ed1"
  },
  {
   "cell_type": "markdown",
   "source": [
    "----------------------------------------------------------------------------------------"
   ],
   "metadata": {
    "collapsed": false
   },
   "id": "6b0c520d865c5bb0"
  },
  {
   "cell_type": "markdown",
   "source": [
    "# PEOPLE"
   ],
   "metadata": {
    "collapsed": false
   },
   "id": "17b2974868195957"
  },
  {
   "cell_type": "markdown",
   "source": [
    "### Word2Vec"
   ],
   "metadata": {
    "collapsed": false
   },
   "id": "7eb0ed7d8536b7d"
  },
  {
   "cell_type": "markdown",
   "source": [
    "**Lecture fichier**"
   ],
   "metadata": {
    "collapsed": false
   },
   "id": "66f5b9a7f7fc7d7"
  },
  {
   "cell_type": "code",
   "execution_count": 189,
   "outputs": [],
   "source": [
    "# name of the lightest file\n",
    "file_name = \"./jsonBases/topaz-data732--france--fr.sputniknews.africa--20190101--20211231.json\"\n",
    "\n",
    "# open and load file\n",
    "f = open(file_name, 'r', encoding='utf-8')\n",
    "data = json.loads(f.read())\n",
    "f.close()"
   ],
   "metadata": {
    "collapsed": false,
    "ExecuteTime": {
     "end_time": "2024-01-06T22:23:09.908101300Z",
     "start_time": "2024-01-06T22:23:04.193966300Z"
    }
   },
   "id": "79bc7c8d283cfad0"
  },
  {
   "cell_type": "markdown",
   "source": [
    "**Ponctuations**"
   ],
   "metadata": {
    "collapsed": false
   },
   "id": "677165ca4a9b3cc"
  },
  {
   "cell_type": "code",
   "execution_count": 190,
   "outputs": [],
   "source": [
    "ponctuations = list(string.punctuation)\n",
    "ponctuations.append('’')"
   ],
   "metadata": {
    "collapsed": false,
    "ExecuteTime": {
     "end_time": "2024-01-06T22:23:09.921893800Z",
     "start_time": "2024-01-06T22:23:09.913318500Z"
    }
   },
   "id": "a608a8d8add3eb17"
  },
  {
   "cell_type": "markdown",
   "source": [
    "**Recréation des articles avec seulement les mots importants et dans leur forme simple**"
   ],
   "metadata": {
    "collapsed": false
   },
   "id": "509bdf59bf1eefb6"
  },
  {
   "cell_type": "code",
   "execution_count": 191,
   "outputs": [
    {
     "name": "stdout",
     "output_type": "stream",
     "text": [
      "[[], [], [], [], [], [], [], [], ['Président', 'Président', 'Président'], ['Kierzek', 'Kierzek', 'Kierzek', 'Kierzek', 'Kierzek', 'Kierzek', 'Kierzek', 'Kierzek', 'Kierzek', 'Kierzek'], [], [], ['Figaro', 'Figaro', 'Figaro', 'Figaro'], [], ['M.Anzorov', 'M.Anzorov'], [], [], [], [], [], [], ['Riquier', 'Riquier'], [], ['Legault', 'Legault', 'Legault', 'Legault', 'Legault'], [], [], [], [], [], [], ['Matignon', 'Cadène', 'Cadène', 'Cadène', 'Matignon', 'Cadène', 'Matignon', 'Cadène', 'Cadène', 'Cadène', 'Cadène', 'Cadène', 'Cadène', 'Cadène', 'Cadène', 'Cadène', 'Cadène'], [], [], [], [], [], [], [], [], [], [], [], [], [], [], [], [], ['M.Marquié', 'M.Marquié'], [], [], [], [], [], [], [], [], [], [], ['Asselineau', 'Macron', 'Macron', 'Asselineau', 'Asselineau', 'Asselineau', 'Asselineau', 'Asselineau', 'Asselineau', 'Macron', 'Macron', 'Macron', 'Asselineau', 'Macron', 'Asselineau'], [], [], [], [], [], [], [], [], [], ['Président', 'artémisia', 'Président', 'Président', 'artémisia', 'Président', 'Président', 'Président', 'Président', 'artémisia', 'artémisia', 'Président', 'artémisia', 'artémisia', 'artémisia', 'artémisia', 'artémisia', 'artémisia', 'artémisia', 'Président', 'artémisia', 'artémisia', 'artémisia'], ['Poutine', 'Poutine', 'Bolsonaro', 'Bolsonaro'], [], [], [], [], [], [], ['M.Mehenni', 'M.Mehenni'], [], [], [], [], [], [], [], [], [], [], [], [], [], [], [], [], [], [], [], [], [], [], [], [], [], [], [], ['Brigitte', 'Brigitte'], ['Prophète', 'Prophète', 'Prophète'], [], [], [], [], [], [], [], [], [], [], ['Trump', 'Biden', 'Trump', 'Trump', 'Trump', 'Trump', 'Biden', 'Trump', 'Trump', 'Trump', 'Trump', 'Trump', 'Biden'], [], [], ['Marianne', 'Marianne'], [], [], [], [], ['Thatcher', 'Thatcher', 'Thatcher'], [], [], [], ['Julia', 'Julia', 'Julia'], [], [], [], [], [], [], [], [], ['Kawasaki', 'Kawasaki', 'Kawasaki'], [], [], [], [], [], [], [], [], [], [], [], ['Président', 'Président', 'Président', 'Président'], [], [], [], [], ['Gbagbo', 'Gbagbo', 'Gbagbo', 'Gbagbo', 'Gbagbo', 'Gbagbo', 'Gbagbo', 'Gbagbo', 'Gbagbo', 'Gbagbo', 'Gbagbo', 'Gbagbo', 'Gbagbo', 'Gbagbo', 'Gbagbo', 'Gbagbo'], [], [], [], [], [], [], ['Haftar', 'Washington', 'Haftar', 'Haftar', 'Washington', 'Haftar', 'Washington', 'Washington', 'Haftar', 'Washington', 'Haftar', 'Washington', 'Haftar', 'Washington', 'Washington', 'Haftar'], [], [], [], ['Paul', 'Paul'], [], [], [], [], [], [], [], [], ['Cetelem', 'Cetelem'], [], ['Adama', 'Adama', 'Adama', 'Adama'], [], [], [], [], [], ['Jésus', 'Jésus'], [], [], [], [], [], [], [], ['Karima', 'Karima', 'Karima', 'Karima', 'Karima', 'Karima', 'Karima', 'Karima', 'Karima', 'Karima', 'Karima', 'Karima', 'Karima'], [], ['Afro-Américain', 'Afro-Américain', 'Akylbek', 'Akylbek', 'Mahomet', 'Mahomet'], ['Beauvau', 'Beauvau'], [], [], ['M.Véran'], ['Lutti', 'Lutti', 'Lutti'], [], [], [], [], ['Sah', 'Sah', 'Sah'], ['Monsieur', 'Monsieur'], [], [], [], [], ['Erdogan', 'Erdogan', 'Erdogan', 'Erdogan', 'Erdogan'], [], [], [], [], [], [], [], ['BHL', 'BHL', 'BHL', 'BHL', 'BHL', 'BHL'], [], [], [], [], [], ['Jean', 'Cyrille', 'Jean', 'Cyrille', 'Poutine', 'Poutine', 'Ronen', 'Ronen'], [], [], ['Macron', 'Macron'], [], [], [], [], [], [], [], ['Philippe', 'Buzyn', 'Philippe', 'Buzyn', 'Buzyn', 'Buzyn'], [], ['Girard', 'Girard', 'Girard', 'Girard'], [], [], ['Tabib', 'Tabib', 'Haftar', 'Tabib', 'Tabib', 'Tabib', 'Haftar', 'Haftar', 'Haftar'], [], [], ['Pen', 'Pen'], [], [], [], [], [], [], [], ['Boudiaf', 'Président', 'Boumaârafi', 'Boumaârafi', 'Président', 'Boudiaf', 'Président', 'Boudiaf', 'Président', 'Boudiaf', 'Boudiaf', 'Président', 'Président', 'Boumaârafi', 'Président', 'Boudiaf', 'Boudiaf', 'Boudiaf', 'Président', 'Boudiaf', 'Boumaârafi', 'Président', 'Boudiaf', 'Boudiaf', 'Boudiaf', 'Boumaârafi'], [], [], [], [], [], [], ['Béchir', 'Béchir', 'Béchir', 'Béchir', 'Béchir'], [], ['Erdogan', 'Erdogan'], [], [], ['Fabien', 'Fabien'], [], ['Mélenchon', 'Mélenchon', 'Mélenchon', 'Mélenchon', 'Mélenchon', 'Mélenchon', 'Mélenchon', 'Mélenchon', 'Mélenchon'], [], [], [], ['Président', 'Président', 'Président', 'Président', 'Président'], [], [], [], [], [], [], ['Drareni', 'Drareni', 'Drareni', 'Drareni', 'Drareni', 'Drareni', 'Drareni', 'Drareni', 'Drareni', 'Drareni'], [], ['Macron', 'Macron', 'Macron', 'Macron'], [], [], [], [], [], ['Rohani', 'Rohani', 'Rohani'], [], [], [], [], [], ['Président', 'Président', 'Président'], [], ['Emmanuel', 'Emmanuel', 'Emmanuel', 'Emmanuel', 'Emmanuel', 'Emmanuel', 'Emmanuel', 'Emmanuel', 'Emmanuel', 'Emmanuel'], [], [], [], ['Haftar', 'Haftar', 'Haftar', 'Haftar', 'Haftar', 'Haftar', 'Haftar', 'Haftar', 'Haftar', 'Haftar', 'Haftar', 'Haftar', 'Haftar', 'Haftar', 'Haftar', 'Haftar', 'Haftar', 'Haftar'], [], ['Mila', 'Mila', 'Mila', 'Mila', 'Mila', 'Mila', 'Mila', 'Mila', 'Mila', 'Mila', 'Mila'], [], ['Mila', 'Mila', 'Mila', 'Mila', 'Mila'], ['✯CECE✯', '✯CECE✯'], [], [], [], [], [], [], ['Serge', 'Serge', 'Serge'], [], [], ['Macron', 'Macron'], [], [], [], [], ['Trump', 'Trump', 'Bloomberg', 'Trump', 'Trump', 'Bloomberg', 'Bloomberg'], [], [], ['Mila', 'Mila', 'Mila', 'Mila'], [], [], ['Navalny', 'Navalny', 'Navalny', 'Navalny', 'Navalny', 'Navalny'], [], ['Mahomet', 'Mahomet', 'Mahomet', 'Mahomet', 'Mahomet', 'Charb', 'Cabu', 'Saïd', 'Mahomet', 'Charb', 'Cabu', 'Saïd', 'Mahomet'], [], [], [], [], [], [], [], [], [], [], [], [], [], [], [], [], [], [], [], [], [], ['Slate', 'Président', 'Président', 'Slate', 'Président', 'Président', 'Président', 'Slate', 'Président', 'Macron', 'Macron', 'Président', 'Macron'], [], [], ['Victor', 'Victor', 'Victor', 'Victor'], [], ['Huawei', 'Huawei', 'Huawei', 'Huawei', 'Huawei', 'Huawei', 'Huawei', 'Huawei'], ['Hidalgo', 'Hidalgo', 'Hidalgo', 'Hidalgo', 'Hidalgo', 'Hidalgo', 'Hidalgo', 'Hidalgo', 'Hidalgo'], [], [], [], [], ['Bloomberg', 'Bloomberg', 'Bloomberg'], [], [], ['Erdogan', 'Erdogan', 'Erdogan'], [], [], ['Griveaux', 'Griveaux', 'Griveaux', 'Griveaux', 'Griveaux', 'Griveaux', 'Griveaux'], [], [], ['Raimbaud', 'Raimbaud', 'Raimbaud'], [], [], [], [], [], [], [], [], ['Marianne', 'Marianne'], [], [], [], [], [], [], [], [], ['Président', 'McFly', 'Carlito', 'McFly', 'Carlito', 'McFly', 'Carlito', 'Président', 'McFly', 'Carlito', 'McFly', 'Carlito', 'Président', 'Président', 'Président'], [], [], ['Biden', 'Biden', 'Biden', 'Biden', 'Biden'], [], [], ['Staline', 'Staline', 'Staline', 'Staline'], ['Carlito', 'Carlito', 'Carlito'], [], ['Bertrand', 'Bertrand'], [], [], [], [], [], [], [], [], [], [], [], [], [], [], [], [], [], [], [], [], [], [], ['Camille', 'Camille', 'Camille', 'Camille', 'Camille', 'Camille', 'Camille', 'Camille', 'Camille', 'Camille', 'Camille', 'Camille', 'Camille', 'Camille', 'Camille', 'Camille', 'Camille', 'Camille', 'Camille', 'Camille', 'Camille', 'Camille', 'Camille', 'Camille'], ['M.Dupuy', 'M.Dupuy'], [], [], [], [], [], [], [], [], [], [], [], ['Bravo', 'Bravo', 'Pen', 'Pen'], [], [], [], [], ['Covid', 'Covid', 'Covid'], ['Robert', 'Robert', 'Robert'], [], [], [], ['Loukachenko', 'Loukachenko', 'Loukachenko'], [], [], ['Zemmour', 'Zemmour', 'Zemmour', 'Zemmour', 'Trump', 'Trump', 'Zemmour', 'Trump'], [], [], [], [], [], [], [], [], [], [], [], [], [], [], [], [], [], [], [], [], [], ['Washington', 'Washington'], [], [], ['Président', 'Elabe', 'Elabe', 'Président'], ['Audin', 'Audin', 'Audin', 'Audin', 'Audin', 'Audin', 'Audin', 'Audin', 'Audin', 'Audin', 'Audin', 'Audin', 'Audin', 'Audin', 'Audin', 'Audin'], [], [], [], [], [], [], [], [], [], ['Erdogan', 'Erdogan', 'Erdogan'], [], [], [], ['Soufi', 'Soufi', 'Soufi', 'Soufi'], [], ['M.Branco', 'M.Branco'], ['Marianne', 'Marianne'], ['Pen', 'Pen', 'Pen', 'Pen'], [], [], [], [], [], [], [], [], ['anti-Covid', 'anti-Covid'], [], [], [], [], [], [], [], [], [], [], [], ['Beauvau', 'Beauvau'], [], ['Renaud', 'Renaud', 'Macron', 'Macron', 'Renaud', 'Renaud', 'Renaud', 'Renaud', 'Renaud', 'Macron'], ['Biden', 'Biden', 'Trump', 'Biden', 'Biden', 'Biden', 'Biden', 'Biden', 'Biden', 'Trump', 'Biden', 'Trump', 'Biden', 'Biden'], [], [], [], [], [], [], ['Bouteflika', 'Bouteflika'], [], [], [], [], [], [], [], ['Pétain', 'Pétain', 'Pétain', 'Pétain'], ['Zemmour', 'Zemmour', 'Zemmour', 'Zemmour', 'Zemmour', 'Zemmour', 'Zemmour', 'Zemmour', 'Zemmour'], [], [], [], [], [], [], [], [], ['Babis', 'Babis', 'Babis', 'Babis', 'Babis'], ['Macron', 'Macron', 'Macron', 'Macron', 'Macron'], [], [], [], [], ['Mélenchon', 'Roussel', 'Mélenchon', 'Mélenchon', 'Roussel', 'Mélenchon', 'Mélenchon'], ['Zemmour', 'Zemmour', 'Zemmour', 'Zemmour', 'Zemmour'], [], [], [], [], [], [], [], [], [], [], [], [], [], [], [], [], [], [], [], [], [], [], [], [], [], [], [], [], [], [], [], [], [], [], [], [], [], [], [], [], [], [], [], [], [], [], [], [], [], ['Henry', 'Henry', 'Henry', 'Henry', 'Nayib', 'Nayib', 'Damian', 'Damian', 'Andreea', 'Andreea'], [], ['Ciotti', 'Ciotti', 'Ciotti', 'Ciotti', 'Ciotti', 'Ciotti', 'Ciotti', 'Ciotti', 'Ciotti', 'Ciotti'], [], [], [], [], [], [], [], [], [], [], [], [], [], [], ['Assange', 'Wikileaks', 'Assange', 'Assange', 'Wikileaks', 'Assange', 'Assange', 'Assange', 'Assange', 'Assange', 'Assange', 'Assange'], [], [], [], ['Derambarsh', 'Derambarsh', 'Derambarsh', 'Derambarsh'], [], [], [], [], [], [], [], [], ['Navalny', 'Janvier', 'Poutine', 'Navalny', 'Poutine', 'Poutine', 'Poutine', 'Navalny', 'Navalny', 'Navalny', 'Poutine', 'Navalny', 'Janvier', 'Navalny', 'Navalny', 'Navalny', 'Trump', 'Trump', 'Navalny', 'Navalny', 'Navalny', 'Navalny', 'Poutine', 'Poutine', 'Navalny', 'Navalny', 'Navalny', 'Navalny', 'Navalny', 'Navalny', 'Navalny', 'Navalny', 'Snowden', 'Assange', 'Navalny', 'Janvier', 'Navalny', 'Navalny', 'Navalny', 'Assange', 'Snowden', 'Navalny', 'Snowden', 'Navalny', 'Navalny', 'Navalny', 'Assange', 'Snowden', 'Snowden', 'Navalny', 'Poutine', 'Navalny', 'Janvier', 'Navalny', 'Snowden', 'Navalny', 'Navalny', 'Navalny', 'Navalny'], [], [], [], [], [], [], [], [], ['Mila', 'Mila', 'Mila', 'Mila'], ['Deschamps', 'Benzema', 'Deschamps', 'Deschamps', 'Benzema', 'Benzema', 'Deschamps', 'Deschamps', 'Benzema', 'Benzema', 'Benzema'], [], [], [], [], [], [], [], ['Trump', 'Trump', 'Président', 'Trump', 'Trump', 'Trump', 'Président', 'Trump'], [], [], [], [], [], [], [], [], [], [], [], [], [], [], ['February', 'February', 'February'], ['Marine', 'Pen', 'Marine', 'Pen', 'Macron', 'Marine', 'Pen', 'Pen', 'Macron', 'Marine', 'Pen', 'Macron', 'Marine', 'Pen', 'Marine', 'Pen', 'Marine', 'Pen', 'Macron', 'Pen', 'Marine', 'Pen', 'Macron', 'Marine', 'Pen', 'Macron'], [], ['Blanquer', 'Blanquer', 'Blanquer', 'Blanquer', 'Blanquer', 'Blanquer'], [], [], [], [], [], [], [], ['Erdogan', 'Erdogan', 'Erdogan', 'Erdogan', 'Erdogan', 'Erdogan', 'Erdogan', 'Erdogan', 'Erdogan', 'Erdogan', 'Erdogan'], [], [], [], [], [], ['Président', 'Président', 'Président'], [], ['Macron', 'Snowden', 'Macron', 'Snowden', 'Snowden', 'Snowden', 'Snowden', 'Macron', 'Macron', 'Macron', 'Macron', 'Macron'], [], [], [], [], ['Raoult', 'Raoult', 'Raoult', 'Raoult', 'Raoult'], [], [], [], [], [], [], [], [], [], [], ['BE-200', 'BE-200', 'BE-200', 'Il-76', 'Il-76', 'Il-76', 'BE-200', 'Il-76'], [], [], [], [], [], [], [], [], [], [], [], [], [], [], [], ['Hautemanière', 'Hautemanière'], [], ['Président', 'Bouteflika', 'Bouteflika', 'Président', 'Président', 'Bouteflika', 'Bouteflika', 'Président', 'Bouteflika', 'Bouteflika', 'Président', 'Bouteflika', 'Bouteflika', 'Bouteflika', 'Bouteflika', 'Bouteflika', 'Bouteflika', 'Président', 'Bouteflika', 'Bouteflika', 'Bouteflika', 'Bouteflika', 'Bouteflika', 'Président', 'Président', 'Président', 'Bouteflika', 'Président', 'Bouteflika', 'Bouteflika', 'Bouteflika', 'Bouteflika', 'Bouteflika'], ['Raoult', 'Raoult', 'Raoult', 'Raoult', 'Raoult'], [], [], [], [], [], [], ['Washington', 'Washington', 'Washington', 'Washington', 'Washington', 'Washington', 'Washington', 'Washington'], [], [], [], [], [], ['Morozov', 'Morozov'], [], [], [], [], ['Président'], ['Bitar', 'Bitar', 'Bitar', 'Bitar', 'Bitar', 'Bitar', 'Bitar', 'Bitar', 'Bitar', 'Bitar', 'Salamé', 'Salamé', 'Salamé', 'Salamé', 'Salamé'], [], [], [], [], [], [], [], [], [], [], ['Massoud', 'Massoud', 'Massoud'], [], [], [], [], [], ['Bardot', 'Bardot', 'Bardot', 'Bardot', 'Bardot', 'Bardot', 'Bardot', 'Bardot', 'Bardot', 'Bardot', 'Bardot', 'Bardot', 'Bardot', 'Bardot', 'Bardot', 'Bardot', 'Bardot', 'Bardot', 'Bardot', 'Bardot', 'Bardot', 'Bardot', 'Bardot', 'Bardot', 'Bardot', 'Bardot', 'Bardot', 'Bardot', 'Bardot', 'Bardot', 'Bardot', 'Bardot'], [], [], [], [], [], [], [], [], [], [], [], [], ['Président', 'Président', 'Président', 'Président', 'Président', 'Président', 'Président', 'Président', 'Président', 'Président', 'Président', 'Président', 'Président', 'Président', 'Président'], [], [], [], [], [], [], [], ['Président', 'Président'], [], [], [], [], [], [], ['Général', 'Général', 'Général'], [], [], ['Legault', 'Legault'], [], [], [], ['Necker', 'Necker'], [], ['Emmanuel', 'Emmanuel', 'Emmanuel', 'Emmanuel'], [], [], [], ['Chengriha', 'Chengriha', 'Chengriha', 'Chengriha', 'Chengriha', 'Chengriha'], ['Macron', 'Macron', 'Président', 'Macron', 'Macron', 'Macron', 'Macron', 'Macron', 'Macron', 'Président', 'Président'], [], [], [], [], [], [], [], [], [], [], [], [], [], [], [], [], [], [], ['Castaner', 'Castaner', 'Castaner', 'Castaner', 'Castaner'], [], [], [], ['Trump', 'Trump', 'Trump', 'Trump'], [], [], [], [], [], [], [], [], [], [], ['Erdogan', 'Erdogan', 'Erdogan', 'Erdogan'], [], [], [], [], [], ['Président', 'Président'], ['Hitler', 'Hitler', 'Hitler'], [], [], [], ['Théophane', 'Théophane', 'Théophane', 'Théophane', 'Théophane', 'Théophane', 'Théophane', 'Théophane', 'Théophane', 'Théophane', 'Théophane', 'Théophane', 'Théophane', 'Théophane', 'Théophane', 'Théophane', 'Théophane', 'Théophane'], [], [], [], [], [], ['Barkhane', 'Barkhane', 'Barkhane', 'Barkhane', 'Barkhane'], [], [], [], [], [], ['Noam', 'Noam', 'Noam', 'Noam', 'Noam', 'Noam', 'Noam', 'Noam'], [], [], [], [], ['francetvinfo', 'francetvinfo'], [], [], [], [], [], [], [], [], [], [], ['Satan'], ['Legault', 'Legault', 'Legault', 'Handfield', 'Handfield', 'Handfield', 'Handfield', 'Legault', 'Handfield', 'Handfield'], [], ['Galina', 'Galina', 'Galina', 'Galina', 'Galina', 'Galina', 'Galina', 'Galina', 'Galina', 'Galina', 'Galina', 'Galina', 'Galina', 'Galina', 'Galina', 'Galina', 'Galina', 'Galina', 'Galina', 'Galina', 'Galina', 'Galina', 'Galina', 'Galina', 'Galina', 'Galina', 'Galina', 'Galina', 'Galina', 'Galina', 'Galina', 'Galina', 'Galina', 'Galina', 'Galina', 'Galina', 'Galina', 'Galina', 'Galina', 'Galina', 'Galina', 'Galina', 'Galina'], ['Castaner', 'Castaner'], [], [], [], [], [], [], [], [], [], [], [], [], ['Rockefeller', 'Washington', 'Washington', 'Washington', 'Trump', 'Trump', 'Trump', 'Rockefeller', 'Washington', 'Trump', 'Trump', 'Trump'], [], ['Gaulle', 'Gaulle', 'Gaulle', 'Gaulle', 'Gaulle', 'Gaulle', 'Gaulle', 'Gaulle', 'Gaulle', 'Gaulle', 'Gaulle', 'Gaulle', 'Gaulle', 'Gaulle'], [], ['Staline', 'Churchill', 'Staline', 'Churchill'], [], [], [], ['Trudeau', 'Trudeau', 'Trudeau'], [], [], [], [], [], [], ['Mogherini', 'Pompeo', 'Mogherini', 'Pompeo', 'Mogherini', 'Pompeo', 'Pompeo', 'Mogherini', 'Pompeo'], [], [], [], [], [], ['BHL', 'BHL', 'BHL', 'BHL'], [], [], [], ['Pen', 'Pen'], ['Joon', 'Joon', 'Joon', 'Joon'], [], ['Président', 'Président', 'Président', 'Président', 'Président', 'Président', 'Président', 'Président', 'Président'], [], ['Marine', 'Pen', 'Pen', 'Marine', 'Pen', 'Marine', 'Pen', 'Marine', 'Pen', 'Marine', 'Pen', 'Marine', 'Pen'], [], [], [], [], [], [], [], [], [], [], [], [], [], [], [], ['Matignon', 'Matignon'], ['Macron', 'Macron', 'Macron', 'Macron'], [], [], ['Tolstoï', 'Tolstoï', 'Tolstoï'], [], [], [], [], ['Vitaly', 'Su-25SM3', 'Vitaly', 'Su-25SM3', 'Vitaly', 'Timour', 'Vitaly', 'Timour', 'Poutine', 'Poutine', 'Poutine', 'Poutine'], ['Legault', 'Macron', 'Legault', 'Macron', 'Macron', 'Macron', 'Macron', 'Legault', 'Legault', 'Legault', 'Macron', 'Legault', 'Legault', 'Legault', 'Legault'], ['Macron', 'Macron', 'Gaulle', 'Gaulle', 'Macron', 'Gaulle', 'Gaulle', 'Macron', 'Gaulle', 'Macron', 'Gaulle', 'Macron', 'Macron'], [], [], ['Macron', 'Macron', 'Macron', 'Macron'], ['Benalla', 'Macron', 'Benalla', 'Benalla', 'Macron', 'Benalla', 'Benalla', 'Macron', 'Benalla', 'Macron', 'Macron', 'Macron', 'Benalla', 'Macron', 'Benalla', 'Macron', 'Benalla', 'Benalla', 'Macron', 'Macron', 'Benalla', 'Macron'], [], ['Benalla', 'Benalla'], [], [], [], [], [], ['Président', 'Président', 'Président', 'Président', 'Président'], [], ['Président', 'Président', 'Président'], [], [], [], [], [], [], ['Benalla', 'Benalla', 'Benalla', 'Benalla', 'Benalla', 'Benalla', 'Benalla', 'Mars', 'Benalla', 'Benalla', 'Mars', 'Benalla'], ['Washington', 'Washington'], [], [], [], ['Matignon', 'Matignon', 'Matignon'], ['Julien', 'Julien'], [], [], [], [], ['Bouteflika', 'Bouteflika', 'Bouteflika', 'Bouteflika', 'Bouteflika'], [], ['Président', 'Président', 'Président', 'Président', 'Président'], [], ['Bloomberg', 'Bloomberg', 'Bloomberg'], [], [], [], [], [], [], [], ['Macron', 'Macron', 'Président', 'Président', 'Orban', 'Macron', 'Macron', 'Macron', 'Président', 'Macron', 'Macron', 'Macron', 'Macron', 'Orban', 'Président', 'Macron', 'Macron', 'Macron', 'Orban', 'Macron', 'Orban', 'Président', 'Orban', 'Macron', 'Macron', 'Macron', 'Macron', 'Macron', 'Macron', 'Président', 'Macron', 'Macron'], [], [], [], ['Rodtchenko', 'Rodtchenko', 'Rodtchenko'], ['Président', 'Président', 'Président', 'Président'], [], [], [], [], ['M.Pompeo', 'M.Pompeo', 'Président', 'Président', 'Président', 'Président'], [], [], ['Sergueï', 'Ioulia', 'Sergueï', 'Ioulia', 'Sergueï', 'Ioulia', 'Sergueï', 'Ioulia', 'Sergueï', 'Ioulia'], ['Pen', 'Pen', 'M.Bellamy', 'M.Bellamy', 'M.Bellamy', 'M.Bellamy'], [], [], [], [], [], [], [], [], ['Déby', 'Déby', 'Déby', 'Déby', 'Déby', 'Déby', 'Déby', 'Déby', 'Déby'], [], [], [], [], [], [], [], [], ['Epstein', 'Epstein', 'Epstein', 'Epstein', 'Epstein', 'Epstein', 'Epstein', 'Epstein', 'Epstein', 'Epstein', 'Epstein', 'Epstein', 'Epstein', 'Epstein'], [], ['Poutine', 'Poutine', 'Poutine'], [], ['Elena', 'Elena', 'Elena', 'Elena', 'Elena', 'Elena', 'Elena', 'Elena', 'Elena', 'Elena', 'Elena', 'Elena', 'Elena', 'Elena', 'Elena', 'Elena', 'Elena', 'Elena', 'Elena', 'Elena', 'Elena', 'Elena', 'Elena', 'Elena'], [], ['Legault', 'Legault'], [], [], [], [], [], [], [], [], [], ['Bolsonaro', 'Bolsonaro', 'Bolsonaro', 'Bolsonaro', 'Bolsonaro'], ['Retadup', 'Retadup', 'Retadup', 'Retadup'], ['Kadhafi', 'Kadhafi', 'Kadhafi'], ['Haftar', 'Haftar', 'Haftar', 'Haftar', 'Sarraj', 'Haftar', 'Sarraj', 'Haftar', 'Haftar', 'Sarraj'], [], [], [], [], ['Steve', 'Steve', 'Steve', 'Steve', 'Steve', 'Steve', 'Steve', 'Steve'], ['Epstein', 'Epstein', 'Epstein', 'Epstein'], [], [], [], [], ['Macron', 'Macron'], [], [], [], [], [], [], [], [], ['Washington', 'Washington'], [], [], [], [], [], [], ['Morano', 'Morano', 'Morano', 'Morano', 'Morano', 'Morano', 'Morano', 'Morano', 'Morano', 'Morano', 'Morano', 'Morano'], [], [], [], [], [], [], [], ['Napoléon', 'Napoléon', 'Napoléon'], ['Vincent', 'Vincent', 'François', 'François', 'Vincent', 'Vincent', 'Vincent', 'Vincent', 'François', 'Vincent', 'Vincent', 'Vincent', 'Vincent', 'François'], ['Jenny', 'Jenny'], ['Notre-Dame', 'Notre-Dame'], [], [], [], [], [], [], [], [], [], ['Benalla', 'Benalla', 'Benalla'], [], [], [], [], ['Bloomberg', 'Bloomberg', 'Bloomberg', 'Bloomberg'], [], [], [], ['Assange', 'Assange'], ['Macron', 'Macron', 'Macron', 'Macron', 'Président', 'Président', 'Macron', 'Macron', 'Macron', 'Macron', 'Macron'], ['Bouteflika', 'Bouteflika', 'Bouteflika', 'Macron', 'Macron', 'Macron', 'Macron', 'Dieudonné', 'Soral', 'Dieudonné', 'Soral', 'Soral', 'Soral', 'Soral', 'Soral'], ['Zelensky', 'Porochenko', 'Macron', 'Zelensky', 'Président', 'Porochenko', 'Zelenski', 'Président', 'Zelensky', 'Porochenko', 'Porochenko', 'Porochenko', 'Zelensky', 'Zelenski', 'Président', 'Macron', 'Merkel', 'Porochenko', 'Macron', 'Merkel', 'Porochenko', 'Président', 'Merkel', 'Zelensky', 'Porochenko', 'Président', 'Macron', 'Macron', 'Zelenski', 'Porochenko', 'Porochenko', 'Zelensky', 'Zelenski', 'Porochenko', 'Président', 'Macron', 'Merkel', 'Zelensky', 'Porochenko', 'Zelensky', 'Zelensky', 'Porochenko', 'Président', 'Porochenko', 'Porochenko', 'Zelensky', 'Macron', 'Président', 'Président', 'Porochenko', 'Porochenko', 'Président', 'Porochenko', 'Porochenko', 'Président', 'Porochenko', 'Porochenko', 'Président', 'Président', 'Porochenko', 'Porochenko', 'Poutine', 'Zelensky', 'Président', 'Porochenko', 'Zelenski', 'Porochenko', 'Macron', 'Zelensky', 'Macron', 'Zelensky', 'Macron', 'Macron', 'Zelensky', 'Zelenski'], [], [], [], [], ['Soral', 'Soral', 'Soral', 'Soral', 'Soral'], [], [], []]\n",
      "\n",
      "['Président', 'Kierzek', 'Figaro', 'M.Anzorov', 'Riquier', 'Legault', 'Matignon', 'Cadène', 'M.Marquié', 'Asselineau', 'Macron', 'artémisia', 'Poutine', 'Bolsonaro', 'M.Mehenni', 'Brigitte', 'Prophète', 'Trump', 'Biden', 'Marianne', 'Thatcher', 'Julia', 'Kawasaki', 'Gbagbo', 'Haftar', 'Washington', 'Paul', 'Cetelem', 'Adama', 'Jésus', 'Karima', 'Afro-Américain', 'Akylbek', 'Mahomet', 'Beauvau', 'M.Véran', 'Lutti', 'Sah', 'Monsieur', 'Erdogan', 'BHL', 'Jean', 'Cyrille', 'Ronen', 'Philippe', 'Buzyn', 'Girard', 'Tabib', 'Pen', 'Boudiaf', 'Boumaârafi', 'Béchir', 'Fabien', 'Mélenchon', 'Drareni', 'Rohani', 'Emmanuel', 'Mila', '✯CECE✯', 'Serge', 'Bloomberg', 'Navalny', 'Charb', 'Cabu', 'Saïd', 'Slate', 'Victor', 'Huawei', 'Hidalgo', 'Griveaux', 'Raimbaud', 'McFly', 'Carlito', 'Staline', 'Bertrand', 'Camille', 'M.Dupuy', 'Bravo', 'Covid', 'Robert', 'Loukachenko', 'Zemmour', 'Elabe', 'Audin', 'Soufi', 'M.Branco', 'anti-Covid', 'Renaud', 'Bouteflika', 'Pétain', 'Babis', 'Roussel', 'Henry', 'Nayib', 'Damian', 'Andreea', 'Ciotti', 'Assange', 'Wikileaks', 'Derambarsh', 'Janvier', 'Snowden', 'Deschamps', 'Benzema', 'February', 'Marine', 'Blanquer', 'Raoult', 'BE-200', 'Il-76', 'Hautemanière', 'Morozov', 'Bitar', 'Salamé', 'Massoud', 'Bardot', 'Général', 'Necker', 'Chengriha', 'Castaner', 'Hitler', 'Théophane', 'Barkhane', 'Noam', 'francetvinfo', 'Satan', 'Handfield', 'Galina', 'Rockefeller', 'Gaulle', 'Churchill', 'Trudeau', 'Mogherini', 'Pompeo', 'Joon', 'Tolstoï', 'Vitaly', 'Su-25SM3', 'Timour', 'Benalla', 'Mars', 'Julien', 'Orban', 'Rodtchenko', 'M.Pompeo', 'Sergueï', 'Ioulia', 'M.Bellamy', 'Déby', 'Epstein', 'Elena', 'Retadup', 'Kadhafi', 'Sarraj', 'Steve', 'Morano', 'Napoléon', 'Vincent', 'François', 'Jenny', 'Notre-Dame', 'Dieudonné', 'Soral', 'Zelensky', 'Porochenko', 'Zelenski', 'Merkel']\n"
     ]
    }
   ],
   "source": [
    "docFinal = []\n",
    "key = 'per'\n",
    "tabWord = []\n",
    "\n",
    "for annee in data[\"data-all\"]:\n",
    "    for mois in data[\"data-all\"][annee]:\n",
    "        for article in data[\"data-all\"][annee][mois]:\n",
    "            dat = data[\"data-all\"][annee][mois][article][0]['content'].split()\n",
    "            nDat = []\n",
    "            for mot in dat:\n",
    "                nMot = mot\n",
    "                for l in mot:\n",
    "                    if l in ponctuations:\n",
    "                        if l == mot[0] or l == mot[len(mot) - 1]:\n",
    "                            nMot = nMot.replace(l, \"\")\n",
    "                        elif l==\"’\":\n",
    "                            indice = mot.index(l)\n",
    "                            nMot = mot.replace(l, \"\")\n",
    "                            nMot = mot[:indice - 1] + mot[indice + 1:]\n",
    "\n",
    "                if nMot in data[\"data-all\"][annee][mois][article][0][key]:\n",
    "                    nDat.append(nMot)\n",
    "                    if nMot not in tabWord:\n",
    "                        tabWord.append(nMot)\n",
    "            docFinal.append(nDat)\n",
    "\n",
    "print(docFinal)\n",
    "documents = [\" \".join(doc) for doc in docFinal]\n",
    "print(documents[0])\n",
    "print(tabWord)"
   ],
   "metadata": {
    "collapsed": false,
    "ExecuteTime": {
     "end_time": "2024-01-06T22:23:12.400926700Z",
     "start_time": "2024-01-06T22:23:09.932486300Z"
    }
   },
   "id": "b10856b8a8a94126"
  },
  {
   "cell_type": "markdown",
   "source": [
    "**Création du modèle word2vec avec 2 dimensions**"
   ],
   "metadata": {
    "collapsed": false
   },
   "id": "9578c03dbe1e4b92"
  },
  {
   "cell_type": "code",
   "execution_count": 192,
   "outputs": [],
   "source": [
    "modele = Word2Vec(docFinal, vector_size=2, window=5)"
   ],
   "metadata": {
    "collapsed": false,
    "ExecuteTime": {
     "end_time": "2024-01-06T22:23:12.581575Z",
     "start_time": "2024-01-06T22:23:12.404922Z"
    }
   },
   "id": "d5650a1eaf3225c5"
  },
  {
   "cell_type": "markdown",
   "source": [
    "**Vectorisation des mots**"
   ],
   "metadata": {
    "collapsed": false
   },
   "id": "6f29a10123b1e9cb"
  },
  {
   "cell_type": "code",
   "execution_count": 193,
   "outputs": [],
   "source": [
    "words = modele.wv"
   ],
   "metadata": {
    "collapsed": false,
    "ExecuteTime": {
     "end_time": "2024-01-06T22:23:12.610974800Z",
     "start_time": "2024-01-06T22:23:12.583574900Z"
    }
   },
   "id": "a0aad9a36a66c416"
  },
  {
   "cell_type": "markdown",
   "source": [
    "**Similarité entre 2 mots**"
   ],
   "metadata": {
    "collapsed": false
   },
   "id": "29ded92189b611f0"
  },
  {
   "cell_type": "code",
   "execution_count": 194,
   "outputs": [
    {
     "name": "stdout",
     "output_type": "stream",
     "text": [
      "-0.9454024\n"
     ]
    }
   ],
   "source": [
    "mot1 = \"Trump\"\n",
    "mot2 = \"Macron\"\n",
    "print(words.similarity(mot1, mot2))"
   ],
   "metadata": {
    "collapsed": false,
    "ExecuteTime": {
     "end_time": "2024-01-06T22:23:12.630726100Z",
     "start_time": "2024-01-06T22:23:12.601351Z"
    }
   },
   "id": "8ff81a126ff3ef34"
  },
  {
   "cell_type": "markdown",
   "source": [
    "**Mots les plus proches d'un autre**"
   ],
   "metadata": {
    "collapsed": false
   },
   "id": "7947215545b92d67"
  },
  {
   "cell_type": "code",
   "execution_count": 195,
   "outputs": [
    {
     "name": "stdout",
     "output_type": "stream",
     "text": [
      "[('Zelensky', 0.9999963045120239), ('Audin', 0.9997468590736389), ('Boudiaf', 0.9996306300163269), ('Ciotti', 0.9971050024032593), ('Navalny', 0.9963686466217041), ('Griveaux', 0.9946802258491516), ('Boumaârafi', 0.9899868965148926), ('Président', 0.9887009859085083), ('Zelenski', 0.9816705584526062), ('Steve', 0.980051577091217)]\n"
     ]
    }
   ],
   "source": [
    "mot = \"Macron\"\n",
    "print(words.most_similar(mot))"
   ],
   "metadata": {
    "collapsed": false,
    "ExecuteTime": {
     "end_time": "2024-01-06T22:23:12.690573800Z",
     "start_time": "2024-01-06T22:23:12.614990500Z"
    }
   },
   "id": "91bfbd2558a5460"
  },
  {
   "cell_type": "markdown",
   "source": [
    "**Mots les plus proches de la conjonction de \"mot1\" et \"mot2\" avec \"nbMots\" mots**"
   ],
   "metadata": {
    "collapsed": false
   },
   "id": "392bdb3007e8d002"
  },
  {
   "cell_type": "code",
   "execution_count": 196,
   "outputs": [
    {
     "name": "stdout",
     "output_type": "stream",
     "text": [
      "[('Staline', 1.0), ('Morano', 0.9995846748352051), ('Gbagbo', 0.9864715337753296), ('Marine', 0.9763993620872498)]\n"
     ]
    }
   ],
   "source": [
    "mot1 = \"Trump\"\n",
    "mot2 = \"Macron\"\n",
    "nbMots = 4\n",
    "print(words.most_similar(positive=[mot1, mot2], topn=nbMots))"
   ],
   "metadata": {
    "collapsed": false,
    "ExecuteTime": {
     "end_time": "2024-01-06T22:23:12.692569100Z",
     "start_time": "2024-01-06T22:23:12.649726500Z"
    }
   },
   "id": "b0722d778caea8c5"
  },
  {
   "cell_type": "markdown",
   "source": [
    "**Mots les plus proches de \"mot1\" et loin de \"mot2\" avec \"nbMots\" mots**"
   ],
   "metadata": {
    "collapsed": false
   },
   "id": "529f86ad3b861d56"
  },
  {
   "cell_type": "code",
   "execution_count": 197,
   "outputs": [
    {
     "name": "stdout",
     "output_type": "stream",
     "text": [
      "[('Poutine', 0.9998409152030945), ('Erdogan', 0.999636173248291), ('Asselineau', 0.9901349544525146), ('Galina', 0.9783060550689697)]\n"
     ]
    }
   ],
   "source": [
    "mot1 = \"Trump\"\n",
    "mot2 = \"Macron\"\n",
    "nbMots = 4\n",
    "print(words.most_similar(positive=[mot1], negative=[mot2], topn=nbMots))"
   ],
   "metadata": {
    "collapsed": false,
    "ExecuteTime": {
     "end_time": "2024-01-06T22:23:12.693833400Z",
     "start_time": "2024-01-06T22:23:12.663217100Z"
    }
   },
   "id": "c7cf1e36cafc868"
  },
  {
   "cell_type": "markdown",
   "source": [
    "**Récupérer un ensemble de donnée dans un dataFrame**"
   ],
   "metadata": {
    "collapsed": false
   },
   "id": "f16fe6ba6a12364b"
  },
  {
   "cell_type": "code",
   "execution_count": 198,
   "outputs": [
    {
     "name": "stdout",
     "output_type": "stream",
     "text": [
      "Index(['Président', 'Macron', 'Galina', 'Navalny', 'Trump', 'Haftar',\n",
      "       'Bouteflika', 'Bardot', 'Pen', 'Erdogan', 'Washington', 'Benalla',\n",
      "       'Porochenko', 'Elena', 'Mila', 'Camille', 'Legault', 'Poutine',\n",
      "       'Gaulle', 'Biden', 'Zemmour', 'Théophane', 'Epstein', 'Gbagbo', 'Audin',\n",
      "       'Marine', 'Assange', 'Emmanuel', 'artémisia', 'Mélenchon', 'Zelensky',\n",
      "       'Cadène', 'Karima', 'Bloomberg', 'Morano', 'Boudiaf', 'Soral',\n",
      "       'Snowden', 'BHL', 'Vincent', 'Kierzek', 'Ciotti', 'Bitar', 'Drareni',\n",
      "       'Raoult', 'Déby', 'Mahomet', 'Hidalgo', 'Asselineau', 'Huawei',\n",
      "       'Matignon', 'Steve', 'Carlito', 'Noam', 'Bolsonaro', 'Castaner',\n",
      "       'Renaud', 'Griveaux', 'Zelenski', 'Blanquer', 'Benzema', 'Chengriha',\n",
      "       'Marianne', 'Staline', 'Handfield', 'Salamé', 'Deschamps', 'Babis',\n",
      "       'Barkhane', 'Tabib', 'Sergueï', 'Pompeo', 'Orban', 'Béchir',\n",
      "       'Boumaârafi', 'Ioulia', 'McFly'],\n",
      "      dtype='object')\n"
     ]
    }
   ],
   "source": [
    "df = pd.DataFrame(words.vectors, columns=['V1', 'V2'], index=words.key_to_index.keys())\n",
    "print(df.index)\n",
    "\n",
    "#sauvegarde du data frame\n",
    "# df.to_csv('./data/Dashboard/per/Word2VecVector/df_per_word2vec_vector----france--fr.sputniknews.africa.csv')"
   ],
   "metadata": {
    "collapsed": false,
    "ExecuteTime": {
     "end_time": "2024-01-06T22:23:12.758155300Z",
     "start_time": "2024-01-06T22:23:12.679214100Z"
    }
   },
   "id": "b564fc4688c7e88e"
  },
  {
   "cell_type": "markdown",
   "source": [
    "**Affichage de ces mots sur un graphique**"
   ],
   "metadata": {
    "collapsed": false
   },
   "id": "7721af05c3b31b65"
  },
  {
   "cell_type": "code",
   "execution_count": 199,
   "outputs": [
    {
     "name": "stderr",
     "output_type": "stream",
     "text": [
      "C:\\Users\\Mathieu\\AppData\\Local\\Temp\\ipykernel_30696\\2726915483.py:3: FutureWarning:\n",
      "\n",
      "Series.__getitem__ treating keys as positions is deprecated. In a future version, integer keys will always be treated as labels (consistent with DataFrame behavior). To access a value by position, use `ser.iloc[pos]`\n",
      "\n"
     ]
    },
    {
     "data": {
      "text/plain": "<Figure size 640x480 with 1 Axes>",
      "image/png": "[encoded data removed]"
     },
     "metadata": {},
     "output_type": "display_data"
    }
   ],
   "source": [
    "plt.scatter(df.V1, df.V2, s=0.5)\n",
    "for i in range(df.shape[0]):\n",
    "    plt.annotate(df.index[i], (df.V1[i], df.V2[i]))\n",
    "plt.show()"
   ],
   "metadata": {
    "collapsed": true,
    "ExecuteTime": {
     "end_time": "2024-01-06T22:23:13.374267600Z",
     "start_time": "2024-01-06T22:23:12.727878400Z"
    }
   },
   "id": "initial_id"
  },
  {
   "cell_type": "markdown",
   "source": [
    "# Matrice de cooccurrence"
   ],
   "metadata": {
    "collapsed": false
   },
   "id": "930cf27bb85ba94e"
  },
  {
   "cell_type": "markdown",
   "source": [
    "**Récupération des personnes les plus cités**"
   ],
   "metadata": {
    "collapsed": false
   },
   "id": "6ffe8d49cee68200"
  },
  {
   "cell_type": "code",
   "execution_count": 200,
   "outputs": [
    {
     "name": "stdout",
     "output_type": "stream",
     "text": [
      "      People  Somme des valeurs\n",
      "0     Macron                322\n",
      "1      Trump                 75\n",
      "2  Président                 70\n",
      "3    Poutine                 50\n",
      "4    Navalny                 49\n",
      "5     Haftar                 45\n",
      "6    Zemmour                 43\n",
      "7   Castaner                 37\n",
      "8    Benalla                 36\n",
      "9     Bardot                 36\n"
     ]
    }
   ],
   "source": [
    "articles = ['mali--www.egaliteetreconciliation.fr',\n",
    "               'mali--french.presstv.ir',\n",
    "               'mali--fr.sputniknews.africa',\n",
    "               'france--www.fdesouche.com',\n",
    "               'france--www.egaliteetreconciliation.fr',\n",
    "               'france--french.presstv.ir',\n",
    "               'france--fr.sputniknews.africa']\n",
    "\n",
    "doc = articles[6]\n",
    "\n",
    "per = pd.read_csv(f\"./data/Dashboard/per/df_per_occ----{doc}.csv\")\n",
    "df_subset_per = per.head(10)\n",
    "\n",
    "print(df_subset_per)"
   ],
   "metadata": {
    "collapsed": false,
    "ExecuteTime": {
     "end_time": "2024-01-06T22:23:13.501483800Z",
     "start_time": "2024-01-06T22:23:13.377827100Z"
    }
   },
   "id": "ec364376ee2235e5"
  },
  {
   "cell_type": "markdown",
   "source": [
    "**Création de la matrice**"
   ],
   "metadata": {
    "collapsed": false
   },
   "id": "65dde789a9b5ac8d"
  },
  {
   "cell_type": "code",
   "execution_count": 203,
   "outputs": [
    {
     "name": "stdout",
     "output_type": "stream",
     "text": [
      "           Macron  Trump  Président  Poutine  Navalny  Haftar  Zemmour  \\\n",
      "Macron          0      0          0        0        0       0        0   \n",
      "Trump           0      0          0        0        0       0        0   \n",
      "Président       0      0          0        0        0       0        0   \n",
      "Poutine         0      0          0        0        0       0        0   \n",
      "Navalny         0      0          0        0        0       0        0   \n",
      "Haftar          0      0          0        0        0       0        0   \n",
      "Zemmour         0      0          0        0        0       0        0   \n",
      "Castaner        0      0          0        0        0       0        0   \n",
      "Benalla         0      0          0        0        0       0        0   \n",
      "Bardot          0      0          0        0        0       0        0   \n",
      "\n",
      "           Castaner  Benalla  Bardot  \n",
      "Macron            0        0       0  \n",
      "Trump             0        0       0  \n",
      "Président         0        0       0  \n",
      "Poutine           0        0       0  \n",
      "Navalny           0        0       0  \n",
      "Haftar            0        0       0  \n",
      "Zemmour           0        0       0  \n",
      "Castaner          0        0       0  \n",
      "Benalla           0        0       0  \n",
      "Bardot            0        0       0  \n",
      "           Macron  Trump  Président  Poutine  Navalny  Haftar  Zemmour  \\\n",
      "Macron        100    -94         98      -98       99      40       -7   \n",
      "Trump         -94    100        -88       98      -96     -68       39   \n",
      "Président      98    -88        100      -94       97      26        7   \n",
      "Poutine       -98     98        -94      100      -99     -56       25   \n",
      "Navalny        99    -96         97      -99      100      48      -16   \n",
      "Haftar         40    -68         26      -56       48     100      -94   \n",
      "Zemmour        -7     39          7       25      -16     -94       99   \n",
      "Castaner      -83     61        -90       72      -78      15      -48   \n",
      "Benalla        63    -85         51      -76       70      96      -81   \n",
      "Bardot        -84     97        -75       92      -88     -83       59   \n",
      "\n",
      "           Castaner  Benalla  Bardot  \n",
      "Macron          -83       63     -84  \n",
      "Trump            61      -85      97  \n",
      "Président       -90       51     -75  \n",
      "Poutine          72      -76      92  \n",
      "Navalny         -78       70     -88  \n",
      "Haftar           15       96     -83  \n",
      "Zemmour         -48      -81      59  \n",
      "Castaner        100      -11      41  \n",
      "Benalla         -11      100     -95  \n",
      "Bardot           41      -95     100  \n"
     ]
    },
    {
     "data": {
      "application/vnd.plotly.v1+json": {
       "data": [
        {
         "coloraxis": "coloraxis",
         "name": "0",
         "texttemplate": "%{z}",
         "x": [
          "Macron",
          "Trump",
          "Président",
          "Poutine",
          "Navalny",
          "Haftar",
          "Zemmour",
          "Castaner",
          "Benalla",
          "Bardot"
         ],
         "y": [
          "Macron",
          "Trump",
          "Président",
          "Poutine",
          "Navalny",
          "Haftar",
          "Zemmour",
          "Castaner",
          "Benalla",
          "Bardot"
         ],
         "z": [
          [
           100,
           -94,
           98,
           -98,
           99,
           40,
           -7,
           -83,
           63,
           -84
          ],
          [
           -94,
           100,
           -88,
           98,
           -96,
           -68,
           39,
           61,
           -85,
           97
          ],
          [
           98,
           -88,
           100,
           -94,
           97,
           26,
           7,
           -90,
           51,
           -75
          ],
          [
           -98,
           98,
           -94,
           100,
           -99,
           -56,
           25,
           72,
           -76,
           92
          ],
          [
           99,
           -96,
           97,
           -99,
           100,
           48,
           -16,
           -78,
           70,
           -88
          ],
          [
           40,
           -68,
           26,
           -56,
           48,
           100,
           -94,
           15,
           96,
           -83
          ],
          [
           -7,
           39,
           7,
           25,
           -16,
           -94,
           99,
           -48,
           -81,
           59
          ],
          [
           -83,
           61,
           -90,
           72,
           -78,
           15,
           -48,
           100,
           -11,
           41
          ],
          [
           63,
           -85,
           51,
           -76,
           70,
           96,
           -81,
           -11,
           100,
           -95
          ],
          [
           -84,
           97,
           -75,
           92,
           -88,
           -83,
           59,
           41,
           -95,
           100
          ]
         ],
         "type": "heatmap",
         "xaxis": "x",
         "yaxis": "y",
         "hovertemplate": "x: %{x}<br>y: %{y}<br>color: %{z}<extra></extra>"
        }
       ],
       "layout": {
        "template": {
         "data": {
          "histogram2dcontour": [
           {
            "type": "histogram2dcontour",
            "colorbar": {
             "outlinewidth": 0,
             "ticks": ""
            },
            "colorscale": [
             [
              0.0,
              "#0d0887"
             ],
             [
              0.1111111111111111,
              "#46039f"
             ],
             [
              0.2222222222222222,
              "#7201a8"
             ],
             [
              0.3333333333333333,
              "#9c179e"
             ],
             [
              0.4444444444444444,
              "#bd3786"
             ],
             [
              0.5555555555555556,
              "#d8576b"
             ],
             [
              0.6666666666666666,
              "#ed7953"
             ],
             [
              0.7777777777777778,
              "#fb9f3a"
             ],
             [
              0.8888888888888888,
              "#fdca26"
             ],
             [
              1.0,
              "#f0f921"
             ]
            ]
           }
          ],
          "choropleth": [
           {
            "type": "choropleth",
            "colorbar": {
             "outlinewidth": 0,
             "ticks": ""
            }
           }
          ],
          "histogram2d": [
           {
            "type": "histogram2d",
            "colorbar": {
             "outlinewidth": 0,
             "ticks": ""
            },
            "colorscale": [
             [
              0.0,
              "#0d0887"
             ],
             [
              0.1111111111111111,
              "#46039f"
             ],
             [
              0.2222222222222222,
              "#7201a8"
             ],
             [
              0.3333333333333333,
              "#9c179e"
             ],
             [
              0.4444444444444444,
              "#bd3786"
             ],
             [
              0.5555555555555556,
              "#d8576b"
             ],
             [
              0.6666666666666666,
              "#ed7953"
             ],
             [
              0.7777777777777778,
              "#fb9f3a"
             ],
             [
              0.8888888888888888,
              "#fdca26"
             ],
             [
              1.0,
              "#f0f921"
             ]
            ]
           }
          ],
          "heatmap": [
           {
            "type": "heatmap",
            "colorbar": {
             "outlinewidth": 0,
             "ticks": ""
            },
            "colorscale": [
             [
              0.0,
              "#0d0887"
             ],
             [
              0.1111111111111111,
              "#46039f"
             ],
             [
              0.2222222222222222,
              "#7201a8"
             ],
             [
              0.3333333333333333,
              "#9c179e"
             ],
             [
              0.4444444444444444,
              "#bd3786"
             ],
             [
              0.5555555555555556,
              "#d8576b"
             ],
             [
              0.6666666666666666,
              "#ed7953"
             ],
             [
              0.7777777777777778,
              "#fb9f3a"
             ],
             [
              0.8888888888888888,
              "#fdca26"
             ],
             [
              1.0,
              "#f0f921"
             ]
            ]
           }
          ],
          "heatmapgl": [
           {
            "type": "heatmapgl",
            "colorbar": {
             "outlinewidth": 0,
             "ticks": ""
            },
            "colorscale": [
             [
              0.0,
              "#0d0887"
             ],
             [
              0.1111111111111111,
              "#46039f"
             ],
             [
              0.2222222222222222,
              "#7201a8"
             ],
             [
              0.3333333333333333,
              "#9c179e"
             ],
             [
              0.4444444444444444,
              "#bd3786"
             ],
             [
              0.5555555555555556,
              "#d8576b"
             ],
             [
              0.6666666666666666,
              "#ed7953"
             ],
             [
              0.7777777777777778,
              "#fb9f3a"
             ],
             [
              0.8888888888888888,
              "#fdca26"
             ],
             [
              1.0,
              "#f0f921"
             ]
            ]
           }
          ],
          "contourcarpet": [
           {
            "type": "contourcarpet",
            "colorbar": {
             "outlinewidth": 0,
             "ticks": ""
            }
           }
          ],
          "contour": [
           {
            "type": "contour",
            "colorbar": {
             "outlinewidth": 0,
             "ticks": ""
            },
            "colorscale": [
             [
              0.0,
              "#0d0887"
             ],
             [
              0.1111111111111111,
              "#46039f"
             ],
             [
              0.2222222222222222,
              "#7201a8"
             ],
             [
              0.3333333333333333,
              "#9c179e"
             ],
             [
              0.4444444444444444,
              "#bd3786"
             ],
             [
              0.5555555555555556,
              "#d8576b"
             ],
             [
              0.6666666666666666,
              "#ed7953"
             ],
             [
              0.7777777777777778,
              "#fb9f3a"
             ],
             [
              0.8888888888888888,
              "#fdca26"
             ],
             [
              1.0,
              "#f0f921"
             ]
            ]
           }
          ],
          "surface": [
           {
            "type": "surface",
            "colorbar": {
             "outlinewidth": 0,
             "ticks": ""
            },
            "colorscale": [
             [
              0.0,
              "#0d0887"
             ],
             [
              0.1111111111111111,
              "#46039f"
             ],
             [
              0.2222222222222222,
              "#7201a8"
             ],
             [
              0.3333333333333333,
              "#9c179e"
             ],
             [
              0.4444444444444444,
              "#bd3786"
             ],
             [
              0.5555555555555556,
              "#d8576b"
             ],
             [
              0.6666666666666666,
              "#ed7953"
             ],
             [
              0.7777777777777778,
              "#fb9f3a"
             ],
             [
              0.8888888888888888,
              "#fdca26"
             ],
             [
              1.0,
              "#f0f921"
             ]
            ]
           }
          ],
          "mesh3d": [
           {
            "type": "mesh3d",
            "colorbar": {
             "outlinewidth": 0,
             "ticks": ""
            }
           }
          ],
          "scatter": [
           {
            "marker": {
             "line": {
              "color": "#283442"
             }
            },
            "type": "scatter"
           }
          ],
          "parcoords": [
           {
            "type": "parcoords",
            "line": {
             "colorbar": {
              "outlinewidth": 0,
              "ticks": ""
             }
            }
           }
          ],
          "scatterpolargl": [
           {
            "type": "scatterpolargl",
            "marker": {
             "colorbar": {
              "outlinewidth": 0,
              "ticks": ""
             }
            }
           }
          ],
          "bar": [
           {
            "error_x": {
             "color": "#f2f5fa"
            },
            "error_y": {
             "color": "#f2f5fa"
            },
            "marker": {
             "line": {
              "color": "rgb(17,17,17)",
              "width": 0.5
             },
             "pattern": {
              "fillmode": "overlay",
              "size": 10,
              "solidity": 0.2
             }
            },
            "type": "bar"
           }
          ],
          "scattergeo": [
           {
            "type": "scattergeo",
            "marker": {
             "colorbar": {
              "outlinewidth": 0,
              "ticks": ""
             }
            }
           }
          ],
          "scatterpolar": [
           {
            "type": "scatterpolar",
            "marker": {
             "colorbar": {
              "outlinewidth": 0,
              "ticks": ""
             }
            }
           }
          ],
          "histogram": [
           {
            "marker": {
             "pattern": {
              "fillmode": "overlay",
              "size": 10,
              "solidity": 0.2
             }
            },
            "type": "histogram"
           }
          ],
          "scattergl": [
           {
            "marker": {
             "line": {
              "color": "#283442"
             }
            },
            "type": "scattergl"
           }
          ],
          "scatter3d": [
           {
            "type": "scatter3d",
            "line": {
             "colorbar": {
              "outlinewidth": 0,
              "ticks": ""
             }
            },
            "marker": {
             "colorbar": {
              "outlinewidth": 0,
              "ticks": ""
             }
            }
           }
          ],
          "scattermapbox": [
           {
            "type": "scattermapbox",
            "marker": {
             "colorbar": {
              "outlinewidth": 0,
              "ticks": ""
             }
            }
           }
          ],
          "scatterternary": [
           {
            "type": "scatterternary",
            "marker": {
             "colorbar": {
              "outlinewidth": 0,
              "ticks": ""
             }
            }
           }
          ],
          "scattercarpet": [
           {
            "type": "scattercarpet",
            "marker": {
             "colorbar": {
              "outlinewidth": 0,
              "ticks": ""
             }
            }
           }
          ],
          "carpet": [
           {
            "aaxis": {
             "endlinecolor": "#A2B1C6",
             "gridcolor": "#506784",
             "linecolor": "#506784",
             "minorgridcolor": "#506784",
             "startlinecolor": "#A2B1C6"
            },
            "baxis": {
             "endlinecolor": "#A2B1C6",
             "gridcolor": "#506784",
             "linecolor": "#506784",
             "minorgridcolor": "#506784",
             "startlinecolor": "#A2B1C6"
            },
            "type": "carpet"
           }
          ],
          "table": [
           {
            "cells": {
             "fill": {
              "color": "#506784"
             },
             "line": {
              "color": "rgb(17,17,17)"
             }
            },
            "header": {
             "fill": {
              "color": "#2a3f5f"
             },
             "line": {
              "color": "rgb(17,17,17)"
             }
            },
            "type": "table"
           }
          ],
          "barpolar": [
           {
            "marker": {
             "line": {
              "color": "rgb(17,17,17)",
              "width": 0.5
             },
             "pattern": {
              "fillmode": "overlay",
              "size": 10,
              "solidity": 0.2
             }
            },
            "type": "barpolar"
           }
          ],
          "pie": [
           {
            "automargin": true,
            "type": "pie"
           }
          ]
         },
         "layout": {
          "autotypenumbers": "strict",
          "colorway": [
           "#636efa",
           "#EF553B",
           "#00cc96",
           "#ab63fa",
           "#FFA15A",
           "#19d3f3",
           "#FF6692",
           "#B6E880",
           "#FF97FF",
           "#FECB52"
          ],
          "font": {
           "color": "#f2f5fa"
          },
          "hovermode": "closest",
          "hoverlabel": {
           "align": "left"
          },
          "paper_bgcolor": "rgb(17,17,17)",
          "plot_bgcolor": "rgb(17,17,17)",
          "polar": {
           "bgcolor": "rgb(17,17,17)",
           "angularaxis": {
            "gridcolor": "#506784",
            "linecolor": "#506784",
            "ticks": ""
           },
           "radialaxis": {
            "gridcolor": "#506784",
            "linecolor": "#506784",
            "ticks": ""
           }
          },
          "ternary": {
           "bgcolor": "rgb(17,17,17)",
           "aaxis": {
            "gridcolor": "#506784",
            "linecolor": "#506784",
            "ticks": ""
           },
           "baxis": {
            "gridcolor": "#506784",
            "linecolor": "#506784",
            "ticks": ""
           },
           "caxis": {
            "gridcolor": "#506784",
            "linecolor": "#506784",
            "ticks": ""
           }
          },
          "coloraxis": {
           "colorbar": {
            "outlinewidth": 0,
            "ticks": ""
           }
          },
          "colorscale": {
           "sequential": [
            [
             0.0,
             "#0d0887"
            ],
            [
             0.1111111111111111,
             "#46039f"
            ],
            [
             0.2222222222222222,
             "#7201a8"
            ],
            [
             0.3333333333333333,
             "#9c179e"
            ],
            [
             0.4444444444444444,
             "#bd3786"
            ],
            [
             0.5555555555555556,
             "#d8576b"
            ],
            [
             0.6666666666666666,
             "#ed7953"
            ],
            [
             0.7777777777777778,
             "#fb9f3a"
            ],
            [
             0.8888888888888888,
             "#fdca26"
            ],
            [
             1.0,
             "#f0f921"
            ]
           ],
           "sequentialminus": [
            [
             0.0,
             "#0d0887"
            ],
            [
             0.1111111111111111,
             "#46039f"
            ],
            [
             0.2222222222222222,
             "#7201a8"
            ],
            [
             0.3333333333333333,
             "#9c179e"
            ],
            [
             0.4444444444444444,
             "#bd3786"
            ],
            [
             0.5555555555555556,
             "#d8576b"
            ],
            [
             0.6666666666666666,
             "#ed7953"
            ],
            [
             0.7777777777777778,
             "#fb9f3a"
            ],
            [
             0.8888888888888888,
             "#fdca26"
            ],
            [
             1.0,
             "#f0f921"
            ]
           ],
           "diverging": [
            [
             0,
             "#8e0152"
            ],
            [
             0.1,
             "#c51b7d"
            ],
            [
             0.2,
             "#de77ae"
            ],
            [
             0.3,
             "#f1b6da"
            ],
            [
             0.4,
             "#fde0ef"
            ],
            [
             0.5,
             "#f7f7f7"
            ],
            [
             0.6,
             "#e6f5d0"
            ],
            [
             0.7,
             "#b8e186"
            ],
            [
             0.8,
             "#7fbc41"
            ],
            [
             0.9,
             "#4d9221"
            ],
            [
             1,
             "#276419"
            ]
           ]
          },
          "xaxis": {
           "gridcolor": "#283442",
           "linecolor": "#506784",
           "ticks": "",
           "title": {
            "standoff": 15
           },
           "zerolinecolor": "#283442",
           "automargin": true,
           "zerolinewidth": 2
          },
          "yaxis": {
           "gridcolor": "#283442",
           "linecolor": "#506784",
           "ticks": "",
           "title": {
            "standoff": 15
           },
           "zerolinecolor": "#283442",
           "automargin": true,
           "zerolinewidth": 2
          },
          "scene": {
           "xaxis": {
            "backgroundcolor": "rgb(17,17,17)",
            "gridcolor": "#506784",
            "linecolor": "#506784",
            "showbackground": true,
            "ticks": "",
            "zerolinecolor": "#C8D4E3",
            "gridwidth": 2
           },
           "yaxis": {
            "backgroundcolor": "rgb(17,17,17)",
            "gridcolor": "#506784",
            "linecolor": "#506784",
            "showbackground": true,
            "ticks": "",
            "zerolinecolor": "#C8D4E3",
            "gridwidth": 2
           },
           "zaxis": {
            "backgroundcolor": "rgb(17,17,17)",
            "gridcolor": "#506784",
            "linecolor": "#506784",
            "showbackground": true,
            "ticks": "",
            "zerolinecolor": "#C8D4E3",
            "gridwidth": 2
           }
          },
          "shapedefaults": {
           "line": {
            "color": "#f2f5fa"
           }
          },
          "annotationdefaults": {
           "arrowcolor": "#f2f5fa",
           "arrowhead": 0,
           "arrowwidth": 1
          },
          "geo": {
           "bgcolor": "rgb(17,17,17)",
           "landcolor": "rgb(17,17,17)",
           "subunitcolor": "#506784",
           "showland": true,
           "showlakes": true,
           "lakecolor": "rgb(17,17,17)"
          },
          "title": {
           "x": 0.05
          },
          "updatemenudefaults": {
           "bgcolor": "#506784",
           "borderwidth": 0
          },
          "sliderdefaults": {
           "bgcolor": "#C8D4E3",
           "borderwidth": 1,
           "bordercolor": "rgb(17,17,17)",
           "tickwidth": 0
          },
          "mapbox": {
           "style": "dark"
          }
         }
        },
        "xaxis": {
         "anchor": "y",
         "domain": [
          0.0,
          1.0
         ],
         "scaleanchor": "y",
         "constrain": "domain"
        },
        "yaxis": {
         "anchor": "x",
         "domain": [
          0.0,
          1.0
         ],
         "autorange": "reversed",
         "constrain": "domain"
        },
        "coloraxis": {
         "colorscale": [
          [
           0.0,
           "#0d0887"
          ],
          [
           0.1111111111111111,
           "#46039f"
          ],
          [
           0.2222222222222222,
           "#7201a8"
          ],
          [
           0.3333333333333333,
           "#9c179e"
          ],
          [
           0.4444444444444444,
           "#bd3786"
          ],
          [
           0.5555555555555556,
           "#d8576b"
          ],
          [
           0.6666666666666666,
           "#ed7953"
          ],
          [
           0.7777777777777778,
           "#fb9f3a"
          ],
          [
           0.8888888888888888,
           "#fdca26"
          ],
          [
           1.0,
           "#f0f921"
          ]
         ]
        },
        "margin": {
         "t": 60
        }
       },
       "config": {
        "plotlyServerURL": "https://plot.ly"
       }
      },
      "text/html": "<div>                            <div id=\"8eaec2a1-e00b-4062-a9a2-58ca619d0f56\" class=\"plotly-graph-div\" style=\"height:525px; width:100%;\"></div>            <script type=\"text/javascript\">                require([\"plotly\"], function(Plotly) {                    window.PLOTLYENV=window.PLOTLYENV || {};                                    if (document.getElementById(\"8eaec2a1-e00b-4062-a9a2-58ca619d0f56\")) {                    Plotly.newPlot(                        \"8eaec2a1-e00b-4062-a9a2-58ca619d0f56\",                        [{\"coloraxis\":\"coloraxis\",\"name\":\"0\",\"texttemplate\":\"%{z}\",\"x\":[\"Macron\",\"Trump\",\"Pr\\u00e9sident\",\"Poutine\",\"Navalny\",\"Haftar\",\"Zemmour\",\"Castaner\",\"Benalla\",\"Bardot\"],\"y\":[\"Macron\",\"Trump\",\"Pr\\u00e9sident\",\"Poutine\",\"Navalny\",\"Haftar\",\"Zemmour\",\"Castaner\",\"Benalla\",\"Bardot\"],\"z\":[[100,-94,98,-98,99,40,-7,-83,63,-84],[-94,100,-88,98,-96,-68,39,61,-85,97],[98,-88,100,-94,97,26,7,-90,51,-75],[-98,98,-94,100,-99,-56,25,72,-76,92],[99,-96,97,-99,100,48,-16,-78,70,-88],[40,-68,26,-56,48,100,-94,15,96,-83],[-7,39,7,25,-16,-94,99,-48,-81,59],[-83,61,-90,72,-78,15,-48,100,-11,41],[63,-85,51,-76,70,96,-81,-11,100,-95],[-84,97,-75,92,-88,-83,59,41,-95,100]],\"type\":\"heatmap\",\"xaxis\":\"x\",\"yaxis\":\"y\",\"hovertemplate\":\"x: %{x}\\u003cbr\\u003ey: %{y}\\u003cbr\\u003ecolor: %{z}\\u003cextra\\u003e\\u003c\\u002fextra\\u003e\"}],                        {\"template\":{\"data\":{\"histogram2dcontour\":[{\"type\":\"histogram2dcontour\",\"colorbar\":{\"outlinewidth\":0,\"ticks\":\"\"},\"colorscale\":[[0.0,\"#0d0887\"],[0.1111111111111111,\"#46039f\"],[0.2222222222222222,\"#7201a8\"],[0.3333333333333333,\"#9c179e\"],[0.4444444444444444,\"#bd3786\"],[0.5555555555555556,\"#d8576b\"],[0.6666666666666666,\"#ed7953\"],[0.7777777777777778,\"#fb9f3a\"],[0.8888888888888888,\"#fdca26\"],[1.0,\"#f0f921\"]]}],\"choropleth\":[{\"type\":\"choropleth\",\"colorbar\":{\"outlinewidth\":0,\"ticks\":\"\"}}],\"histogram2d\":[{\"type\":\"histogram2d\",\"colorbar\":{\"outlinewidth\":0,\"ticks\":\"\"},\"colorscale\":[[0.0,\"#0d0887\"],[0.1111111111111111,\"#46039f\"],[0.2222222222222222,\"#7201a8\"],[0.3333333333333333,\"#9c179e\"],[0.4444444444444444,\"#bd3786\"],[0.5555555555555556,\"#d8576b\"],[0.6666666666666666,\"#ed7953\"],[0.7777777777777778,\"#fb9f3a\"],[0.8888888888888888,\"#fdca26\"],[1.0,\"#f0f921\"]]}],\"heatmap\":[{\"type\":\"heatmap\",\"colorbar\":{\"outlinewidth\":0,\"ticks\":\"\"},\"colorscale\":[[0.0,\"#0d0887\"],[0.1111111111111111,\"#46039f\"],[0.2222222222222222,\"#7201a8\"],[0.3333333333333333,\"#9c179e\"],[0.4444444444444444,\"#bd3786\"],[0.5555555555555556,\"#d8576b\"],[0.6666666666666666,\"#ed7953\"],[0.7777777777777778,\"#fb9f3a\"],[0.8888888888888888,\"#fdca26\"],[1.0,\"#f0f921\"]]}],\"heatmapgl\":[{\"type\":\"heatmapgl\",\"colorbar\":{\"outlinewidth\":0,\"ticks\":\"\"},\"colorscale\":[[0.0,\"#0d0887\"],[0.1111111111111111,\"#46039f\"],[0.2222222222222222,\"#7201a8\"],[0.3333333333333333,\"#9c179e\"],[0.4444444444444444,\"#bd3786\"],[0.5555555555555556,\"#d8576b\"],[0.6666666666666666,\"#ed7953\"],[0.7777777777777778,\"#fb9f3a\"],[0.8888888888888888,\"#fdca26\"],[1.0,\"#f0f921\"]]}],\"contourcarpet\":[{\"type\":\"contourcarpet\",\"colorbar\":{\"outlinewidth\":0,\"ticks\":\"\"}}],\"contour\":[{\"type\":\"contour\",\"colorbar\":{\"outlinewidth\":0,\"ticks\":\"\"},\"colorscale\":[[0.0,\"#0d0887\"],[0.1111111111111111,\"#46039f\"],[0.2222222222222222,\"#7201a8\"],[0.3333333333333333,\"#9c179e\"],[0.4444444444444444,\"#bd3786\"],[0.5555555555555556,\"#d8576b\"],[0.6666666666666666,\"#ed7953\"],[0.7777777777777778,\"#fb9f3a\"],[0.8888888888888888,\"#fdca26\"],[1.0,\"#f0f921\"]]}],\"surface\":[{\"type\":\"surface\",\"colorbar\":{\"outlinewidth\":0,\"ticks\":\"\"},\"colorscale\":[[0.0,\"#0d0887\"],[0.1111111111111111,\"#46039f\"],[0.2222222222222222,\"#7201a8\"],[0.3333333333333333,\"#9c179e\"],[0.4444444444444444,\"#bd3786\"],[0.5555555555555556,\"#d8576b\"],[0.6666666666666666,\"#ed7953\"],[0.7777777777777778,\"#fb9f3a\"],[0.8888888888888888,\"#fdca26\"],[1.0,\"#f0f921\"]]}],\"mesh3d\":[{\"type\":\"mesh3d\",\"colorbar\":{\"outlinewidth\":0,\"ticks\":\"\"}}],\"scatter\":[{\"marker\":{\"line\":{\"color\":\"#283442\"}},\"type\":\"scatter\"}],\"parcoords\":[{\"type\":\"parcoords\",\"line\":{\"colorbar\":{\"outlinewidth\":0,\"ticks\":\"\"}}}],\"scatterpolargl\":[{\"type\":\"scatterpolargl\",\"marker\":{\"colorbar\":{\"outlinewidth\":0,\"ticks\":\"\"}}}],\"bar\":[{\"error_x\":{\"color\":\"#f2f5fa\"},\"error_y\":{\"color\":\"#f2f5fa\"},\"marker\":{\"line\":{\"color\":\"rgb(17,17,17)\",\"width\":0.5},\"pattern\":{\"fillmode\":\"overlay\",\"size\":10,\"solidity\":0.2}},\"type\":\"bar\"}],\"scattergeo\":[{\"type\":\"scattergeo\",\"marker\":{\"colorbar\":{\"outlinewidth\":0,\"ticks\":\"\"}}}],\"scatterpolar\":[{\"type\":\"scatterpolar\",\"marker\":{\"colorbar\":{\"outlinewidth\":0,\"ticks\":\"\"}}}],\"histogram\":[{\"marker\":{\"pattern\":{\"fillmode\":\"overlay\",\"size\":10,\"solidity\":0.2}},\"type\":\"histogram\"}],\"scattergl\":[{\"marker\":{\"line\":{\"color\":\"#283442\"}},\"type\":\"scattergl\"}],\"scatter3d\":[{\"type\":\"scatter3d\",\"line\":{\"colorbar\":{\"outlinewidth\":0,\"ticks\":\"\"}},\"marker\":{\"colorbar\":{\"outlinewidth\":0,\"ticks\":\"\"}}}],\"scattermapbox\":[{\"type\":\"scattermapbox\",\"marker\":{\"colorbar\":{\"outlinewidth\":0,\"ticks\":\"\"}}}],\"scatterternary\":[{\"type\":\"scatterternary\",\"marker\":{\"colorbar\":{\"outlinewidth\":0,\"ticks\":\"\"}}}],\"scattercarpet\":[{\"type\":\"scattercarpet\",\"marker\":{\"colorbar\":{\"outlinewidth\":0,\"ticks\":\"\"}}}],\"carpet\":[{\"aaxis\":{\"endlinecolor\":\"#A2B1C6\",\"gridcolor\":\"#506784\",\"linecolor\":\"#506784\",\"minorgridcolor\":\"#506784\",\"startlinecolor\":\"#A2B1C6\"},\"baxis\":{\"endlinecolor\":\"#A2B1C6\",\"gridcolor\":\"#506784\",\"linecolor\":\"#506784\",\"minorgridcolor\":\"#506784\",\"startlinecolor\":\"#A2B1C6\"},\"type\":\"carpet\"}],\"table\":[{\"cells\":{\"fill\":{\"color\":\"#506784\"},\"line\":{\"color\":\"rgb(17,17,17)\"}},\"header\":{\"fill\":{\"color\":\"#2a3f5f\"},\"line\":{\"color\":\"rgb(17,17,17)\"}},\"type\":\"table\"}],\"barpolar\":[{\"marker\":{\"line\":{\"color\":\"rgb(17,17,17)\",\"width\":0.5},\"pattern\":{\"fillmode\":\"overlay\",\"size\":10,\"solidity\":0.2}},\"type\":\"barpolar\"}],\"pie\":[{\"automargin\":true,\"type\":\"pie\"}]},\"layout\":{\"autotypenumbers\":\"strict\",\"colorway\":[\"#636efa\",\"#EF553B\",\"#00cc96\",\"#ab63fa\",\"#FFA15A\",\"#19d3f3\",\"#FF6692\",\"#B6E880\",\"#FF97FF\",\"#FECB52\"],\"font\":{\"color\":\"#f2f5fa\"},\"hovermode\":\"closest\",\"hoverlabel\":{\"align\":\"left\"},\"paper_bgcolor\":\"rgb(17,17,17)\",\"plot_bgcolor\":\"rgb(17,17,17)\",\"polar\":{\"bgcolor\":\"rgb(17,17,17)\",\"angularaxis\":{\"gridcolor\":\"#506784\",\"linecolor\":\"#506784\",\"ticks\":\"\"},\"radialaxis\":{\"gridcolor\":\"#506784\",\"linecolor\":\"#506784\",\"ticks\":\"\"}},\"ternary\":{\"bgcolor\":\"rgb(17,17,17)\",\"aaxis\":{\"gridcolor\":\"#506784\",\"linecolor\":\"#506784\",\"ticks\":\"\"},\"baxis\":{\"gridcolor\":\"#506784\",\"linecolor\":\"#506784\",\"ticks\":\"\"},\"caxis\":{\"gridcolor\":\"#506784\",\"linecolor\":\"#506784\",\"ticks\":\"\"}},\"coloraxis\":{\"colorbar\":{\"outlinewidth\":0,\"ticks\":\"\"}},\"colorscale\":{\"sequential\":[[0.0,\"#0d0887\"],[0.1111111111111111,\"#46039f\"],[0.2222222222222222,\"#7201a8\"],[0.3333333333333333,\"#9c179e\"],[0.4444444444444444,\"#bd3786\"],[0.5555555555555556,\"#d8576b\"],[0.6666666666666666,\"#ed7953\"],[0.7777777777777778,\"#fb9f3a\"],[0.8888888888888888,\"#fdca26\"],[1.0,\"#f0f921\"]],\"sequentialminus\":[[0.0,\"#0d0887\"],[0.1111111111111111,\"#46039f\"],[0.2222222222222222,\"#7201a8\"],[0.3333333333333333,\"#9c179e\"],[0.4444444444444444,\"#bd3786\"],[0.5555555555555556,\"#d8576b\"],[0.6666666666666666,\"#ed7953\"],[0.7777777777777778,\"#fb9f3a\"],[0.8888888888888888,\"#fdca26\"],[1.0,\"#f0f921\"]],\"diverging\":[[0,\"#8e0152\"],[0.1,\"#c51b7d\"],[0.2,\"#de77ae\"],[0.3,\"#f1b6da\"],[0.4,\"#fde0ef\"],[0.5,\"#f7f7f7\"],[0.6,\"#e6f5d0\"],[0.7,\"#b8e186\"],[0.8,\"#7fbc41\"],[0.9,\"#4d9221\"],[1,\"#276419\"]]},\"xaxis\":{\"gridcolor\":\"#283442\",\"linecolor\":\"#506784\",\"ticks\":\"\",\"title\":{\"standoff\":15},\"zerolinecolor\":\"#283442\",\"automargin\":true,\"zerolinewidth\":2},\"yaxis\":{\"gridcolor\":\"#283442\",\"linecolor\":\"#506784\",\"ticks\":\"\",\"title\":{\"standoff\":15},\"zerolinecolor\":\"#283442\",\"automargin\":true,\"zerolinewidth\":2},\"scene\":{\"xaxis\":{\"backgroundcolor\":\"rgb(17,17,17)\",\"gridcolor\":\"#506784\",\"linecolor\":\"#506784\",\"showbackground\":true,\"ticks\":\"\",\"zerolinecolor\":\"#C8D4E3\",\"gridwidth\":2},\"yaxis\":{\"backgroundcolor\":\"rgb(17,17,17)\",\"gridcolor\":\"#506784\",\"linecolor\":\"#506784\",\"showbackground\":true,\"ticks\":\"\",\"zerolinecolor\":\"#C8D4E3\",\"gridwidth\":2},\"zaxis\":{\"backgroundcolor\":\"rgb(17,17,17)\",\"gridcolor\":\"#506784\",\"linecolor\":\"#506784\",\"showbackground\":true,\"ticks\":\"\",\"zerolinecolor\":\"#C8D4E3\",\"gridwidth\":2}},\"shapedefaults\":{\"line\":{\"color\":\"#f2f5fa\"}},\"annotationdefaults\":{\"arrowcolor\":\"#f2f5fa\",\"arrowhead\":0,\"arrowwidth\":1},\"geo\":{\"bgcolor\":\"rgb(17,17,17)\",\"landcolor\":\"rgb(17,17,17)\",\"subunitcolor\":\"#506784\",\"showland\":true,\"showlakes\":true,\"lakecolor\":\"rgb(17,17,17)\"},\"title\":{\"x\":0.05},\"updatemenudefaults\":{\"bgcolor\":\"#506784\",\"borderwidth\":0},\"sliderdefaults\":{\"bgcolor\":\"#C8D4E3\",\"borderwidth\":1,\"bordercolor\":\"rgb(17,17,17)\",\"tickwidth\":0},\"mapbox\":{\"style\":\"dark\"}}},\"xaxis\":{\"anchor\":\"y\",\"domain\":[0.0,1.0],\"scaleanchor\":\"y\",\"constrain\":\"domain\"},\"yaxis\":{\"anchor\":\"x\",\"domain\":[0.0,1.0],\"autorange\":\"reversed\",\"constrain\":\"domain\"},\"coloraxis\":{\"colorscale\":[[0.0,\"#0d0887\"],[0.1111111111111111,\"#46039f\"],[0.2222222222222222,\"#7201a8\"],[0.3333333333333333,\"#9c179e\"],[0.4444444444444444,\"#bd3786\"],[0.5555555555555556,\"#d8576b\"],[0.6666666666666666,\"#ed7953\"],[0.7777777777777778,\"#fb9f3a\"],[0.8888888888888888,\"#fdca26\"],[1.0,\"#f0f921\"]]},\"margin\":{\"t\":60}},                        {\"responsive\": true}                    ).then(function(){\n                            \nvar gd = document.getElementById('8eaec2a1-e00b-4062-a9a2-58ca619d0f56');\nvar x = new MutationObserver(function (mutations, observer) {{\n        var display = window.getComputedStyle(gd).display;\n        if (!display || display === 'none') {{\n            console.log([gd, 'removed!']);\n            Plotly.purge(gd);\n            observer.disconnect();\n        }}\n}});\n\n// Listen for the removal of the full notebook cells\nvar notebookContainer = gd.closest('#notebook-container');\nif (notebookContainer) {{\n    x.observe(notebookContainer, {childList: true});\n}}\n\n// Listen for the clearing of the current output cell\nvar outputEl = gd.closest('.output');\nif (outputEl) {{\n    x.observe(outputEl, {childList: true});\n}}\n\n                        })                };                });            </script>        </div>"
     },
     "metadata": {},
     "output_type": "display_data"
    }
   ],
   "source": [
    "#Création de la matrice vide\n",
    "df = pd.DataFrame(index=df_subset_per['People'].tolist(), columns=df_subset_per['People'].tolist())\n",
    "\n",
    "#On la remplie de 0\n",
    "df = df.fillna(0)\n",
    "print(df)\n",
    "\n",
    "#On la remplie\n",
    "for per1 in df_subset_per['People'].tolist() :\n",
    "    for per2 in df_subset_per['People'].tolist() :\n",
    "        if per1 in modele.wv.key_to_index and per2 in modele.wv.key_to_index :\n",
    "            df.at[per1,per2] = int(words.similarity(per1, per2)*100)\n",
    "\n",
    "# Supprimer les lignes où toutes les valeurs sont zéros\n",
    "df = df.loc[(df != 0).any(axis=1)]\n",
    "\n",
    "# Supprimer les colonnes où toutes les valeurs sont zéros\n",
    "df = df.loc[:, (df != 0).any(axis=0)]\n",
    "\n",
    "\n",
    "print(df)\n",
    "\n",
    "fig = px.imshow(df, text_auto=True)\n",
    "fig.show()"
   ],
   "metadata": {
    "collapsed": false,
    "ExecuteTime": {
     "end_time": "2024-01-06T22:34:16.690110400Z",
     "start_time": "2024-01-06T22:34:16.597563200Z"
    }
   },
   "id": "88551d5817d6664e"
  },
  {
   "cell_type": "markdown",
   "source": [
    "**Sauvegarde du data frame**"
   ],
   "metadata": {
    "collapsed": false
   },
   "id": "16b38056c1f5b495"
  },
  {
   "cell_type": "code",
   "execution_count": 202,
   "outputs": [],
   "source": [
    "# df.to_csv('./data/Dashboard/per/Word2VecMatrice/df_per_word2vec----france--fr.sputniknews.africa.csv', index=False)"
   ],
   "metadata": {
    "collapsed": false,
    "ExecuteTime": {
     "end_time": "2024-01-06T22:23:13.610924100Z",
     "start_time": "2024-01-06T22:23:13.572570700Z"
    }
   },
   "id": "2daba82f4ae8f0dd"
  }
 ],
 "metadata": {
  "kernelspec": {
   "display_name": "Python 3",
   "language": "python",
   "name": "python3"
  },
  "language_info": {
   "codemirror_mode": {
    "name": "ipython",
    "version": 2
   },
   "file_extension": ".py",
   "mimetype": "text/x-python",
   "name": "python",
   "nbconvert_exporter": "python",
   "pygments_lexer": "ipython2",
   "version": "2.7.6"
  }
 },
 "nbformat": 4,
 "nbformat_minor": 5
}
