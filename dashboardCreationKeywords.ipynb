{
 "cells": [
  {
   "cell_type": "code",
   "execution_count": 16,
   "outputs": [],
   "source": [
    "import json\n",
    "import math\n",
    "import numpy as np\n",
    "\n",
    "import pandas as pd\n",
    "from dash import Dash, dcc, html, Input, Output\n",
    "import plotly.express as px\n",
    "\n",
    "import matplotlib.pyplot as plt\n",
    "import os\n",
    "\n",
    "import string\n",
    "from gensim.models import Word2Vec"
   ],
   "metadata": {
    "collapsed": false,
    "ExecuteTime": {
     "end_time": "2024-01-06T22:36:10.716396200Z",
     "start_time": "2024-01-06T22:36:10.505329900Z"
    }
   },
   "id": "42b7c9afb71a2ed1"
  },
  {
   "cell_type": "markdown",
   "source": [
    "----------------------------------------------------------------------------------------"
   ],
   "metadata": {
    "collapsed": false
   },
   "id": "6b0c520d865c5bb0"
  },
  {
   "cell_type": "markdown",
   "source": [
    "# PEOPLE"
   ],
   "metadata": {
    "collapsed": false
   },
   "id": "7e3e583fa7c8e265"
  },
  {
   "cell_type": "markdown",
   "source": [
    "### Word2Vec"
   ],
   "metadata": {
    "collapsed": false
   },
   "id": "ac73c4d218797b4d"
  },
  {
   "cell_type": "markdown",
   "source": [
    "**Lecture fichier**"
   ],
   "metadata": {
    "collapsed": false
   },
   "id": "47607cd32e16959b"
  },
  {
   "cell_type": "code",
   "execution_count": 17,
   "outputs": [],
   "source": [
    "# name of the lightest file\n",
    "file_name = \"./jsonBases/topaz-data732--mali--www.egaliteetreconciliation.fr--20190101--20211231.json\"\n",
    "\n",
    "# open and load file\n",
    "f = open(file_name, 'r', encoding='utf-8')\n",
    "data = json.loads(f.read())\n",
    "f.close()"
   ],
   "metadata": {
    "collapsed": false,
    "ExecuteTime": {
     "end_time": "2024-01-06T22:36:10.809069600Z",
     "start_time": "2024-01-06T22:36:10.722405200Z"
    }
   },
   "id": "79bc7c8d283cfad0"
  },
  {
   "cell_type": "markdown",
   "source": [
    "**Ponctuations**"
   ],
   "metadata": {
    "collapsed": false
   },
   "id": "76bf294fad3e7a23"
  },
  {
   "cell_type": "code",
   "execution_count": 18,
   "outputs": [],
   "source": [
    "ponctuations = list(string.punctuation)\n",
    "ponctuations.append('’')"
   ],
   "metadata": {
    "collapsed": false,
    "ExecuteTime": {
     "end_time": "2024-01-06T22:36:10.814065800Z",
     "start_time": "2024-01-06T22:36:10.796074800Z"
    }
   },
   "id": "a608a8d8add3eb17"
  },
  {
   "cell_type": "markdown",
   "source": [
    "**Recréation des articles avec seulement les mots importants et dans leur forme simple**"
   ],
   "metadata": {
    "collapsed": false
   },
   "id": "ebba531a570a1148"
  },
  {
   "cell_type": "code",
   "execution_count": 19,
   "outputs": [
    {
     "name": "stdout",
     "output_type": "stream",
     "text": [
      "burkina faso violence djihadiste mardi attaque arbinda nord pays histoire pays deuil national président burkinabé roch kaboré personne compte twitter attaque barbare chef état burkinabé manque poigne face roch kaboré mardi matin détachement militaire arbinda province soum attaque rare intensité armée burkinabée fuite gouvernement soirée mardi décembre dizaine attaque hallalé pays pauvre afrique ouest niger mali début novembre société attaque convoi burkina nord pays décompte afp bilan février dernier peur soum opération sahel preuve situation expert militaire tiers burkina faso nord sud gars moto expert militaire article entier\n",
      "['burkina', 'faso', 'violence', 'djihadiste', 'mardi', 'attaque', 'arbinda', 'nord', 'pays', 'histoire', 'deuil', 'national', 'président', 'burkinabé', 'roch', 'kaboré', 'personne', 'compte', 'twitter', 'barbare', 'chef', 'état', 'manque', 'poigne', 'face', 'matin', 'détachement', 'militaire', 'province', 'soum', 'rare', 'intensité', 'armée', 'burkinabée', 'fuite', 'gouvernement', 'soirée', 'décembre', 'dizaine', 'hallalé', 'pauvre', 'afrique', 'ouest', 'niger', 'mali', 'début', 'novembre', 'société', 'convoi', 'décompte', 'afp', 'bilan', 'février', 'dernier', 'peur', 'opération', 'sahel', 'preuve', 'situation', 'expert', 'tiers', 'sud', 'gars', 'moto', 'article', 'entier', 'breteuil', 'justice', 'vaste', 'chantier', 'groupe', 'assurance', 'covéa', 'discrimination', 'systémique', 'conseil', 'fois', 'france', 'concept', 'décision', 'titre', 'retard', 'total', 'affaire', 'septembre', 'ouvrier', 'échafaudage', 'branlant', 'chute', 'sol', 'victime', 'fracture', 'manœuvre', 'dépourvu', 'sécurité', 'œil', 'secours', 'entreprise', 'cgt', 'bâtiment', 'grève', 'avenue', 'inspection', 'travail', 'défenseur', 'autorité', 'charge', 'lutte', 'enquête', 'contradictoire', 'lieu', 'rapport', 'vitriol', 'audience', 'équipe', 'métier', 'force', 'interchangeable', 'mamadou', 'content', 'rapide', 'gérant', 'marvin', 'attuil', 'profil', 'facebook', 'riche', 'enseignement', 'maroc', 'israël', 'rédaction', 'point', 'presse', 'ivoirien', 'alassane', 'ouattara', 'emmanuel', 'macron', 'réforme', 'franc', 'cfa', 'monnaie', 'fait', 'place', 'eco', 'taux', 'change', 'euro', 'mois', 'nom', 'présence', 'changement', 'arrêt', 'centralisation', 'trésor', 'français', 'cours', 'conférence', 'jour', 'visite', 'côte', 'ivoire', 'gouvernance', 'sein', 'banque', 'bceao', 'historique', 'françafrique', 'côté', 'souveraineté', 'source', 'union', 'économique', 'monétaire', 'uemoa', 'bénin', 'sénégal', 'togo', 'instant', 'zone', 'cameroun', 'république', 'congo', 'gabon', 'guinée', 'tchad', 'parité', 'évolution', 'polémique', 'sujet', 'pris', 'ampleur', 'communauté', 'moitié', 'obligation', 'dépendance', 'fcfa', 'revanche', 'futur', 'garantie', 'convertibilité', 'analyse', 'olivier', 'soir', 'peine', 'exemplaire', 'police', 'linda', 'kebbab', 'syndicat', 'unité', 'sgp', 'borne', 'îlot', 'sensible', 'régional', 'cité', 'journée', 'octobre', 'cauchemar', 'ordre', 'assaut', 'meute', 'molotov', 'voiture', 'terre', 'vincent', 'corps', 'visage', 'supplier', 'gorge', 'policière', 'partie', 'procès', 'verdict', 'surveillance', 'mineur', 'cerveau', 'minorité', 'indifférence', 'aise', 'souriant', 'tentative', 'homicide', 'tribunal', 'reconnaissance', 'sanction', 'attente', 'tgi', 'soutien', 'hauteur', 'engagement', 'sombre', 'instance', 'évry', 'minuit', 'parquet', 'individualisation', 'coaction', 'effet', 'principe', 'simple', 'doute', 'accusé', 'cas', 'détention', 'provisoire', 'message', 'puissance', 'hésitation', 'circonstance', 'policier', 'psychologie', 'risque', 'flic', 'braquage', 'main', 'sentiment', 'impunité', 'vrai', 'vainqueur', 'appel', 'paix', 'esprit', 'erreur', 'réalité', 'loi', 'silence', 'territoire', 'tabassage', 'témoin', 'bamako', 'contexte', 'social', 'nuit', 'colère', 'inquiétant', 'particulier', 'général', 'espace', 'désertique', 'guerre', 'daech', 'terrorisme', 'international', 'grand', 'europe', 'propension', 'amérique', 'pouvoir', 'argent', 'marché', 'expulsion', 'collusion', 'chaos', 'mode', 'fin', 'récré', 'traduction', 'scénario', 'africom', 'décor', 'intervention', 'réponse', 'camp', 'nigérien', 'islamique', 'épisode', 'tragique', 'africain', 'insurrection', 'islamiste', 'michael', 'shurkin', 'politologue', 'institut', 'recherche', 'rand', 'pensée', 'washington', 'importance', 'mission', 'qualité', 'ancien', 'analyste', 'cia', 'offensive', 'jihadiste', 'série', 'part', 'août', 'base', 'koutougou', 'frontière', 'monde', 'contrôle', 'responsable', 'département', 'américain', 'défense', 'couvert', 'anonymat', 'ennemi', 'semaine', 'menaçant', 'idée', 'acteur', 'signal', 'train', 'rôle', 'terrain', 'chiffre', 'faible', 'important', 'feu', 'gros', 'pire', 'barkhane', 'bande', 'terreau', 'fertile', 'fort', 'écho', 'antifrançais', 'accident', 'collision', 'mort', 'débris', 'nombre', 'argentine', 'tournage', 'jeu', 'irak', 'vidéo', 'diffa', 'rumeur', 'sérieux', 'ambassade', 'sondage', 'édifiant', 'opinion', 'défavorable', 'complice', 'imam', 'mahmoud', 'dicko', 'ingérence', 'rejet', 'quasi', 'départ', 'moment', 'fleur', 'jeunesse', 'retrait', 'temps', 'vie', 'région', 'commerce', 'extérieur', 'uranium', 'production', 'acte', 'cadeau', 'gracieux', 'perte', 'service', 'milieu', 'hostile', 'opportunité', 'ingratitude', 'paradigme', 'constance', 'abnégation', 'fardeau', 'homme', 'blanc', 'question', 'iconoclaste', 'période', 'anarchie', 'terme', 'contentieux', 'parenthèse', 'colonisation', 'démocratie', 'indispensable', 'réorganisation', 'politique', 'crise', 'profondeur', 'indépendance', 'sagesse', 'développement', 'démographique', 'faveur', 'touareg', 'peul', 'confort', 'indochine', 'descente', 'vietminh', 'hanoï', 'vivier', 'négoce', 'étendard', 'prophète', 'engerbage', 'confluence', 'islamisme', 'contrebande', 'possibilité', 'recomposition', 'reprise', 'mouvement', 'livre', 'soumette', 'bon', 'introduction', 'abandon', 'protection', 'taille', 'esclavage', 'règlement', 'prise', 'négation', 'recentrage', 'ligne', 'méditerranée', 'renforcement', 'coût', 'nouveau', 'établissement', 'priorité', 'abcès', 'libyen', 'haftar', 'bernard', 'lugan', 'syrie', 'site', 'russe', 'télé', 'chasse', 'air', 'district', 'mig', 'sukhoi', 'vingtaine', 'opérationnel', 'dimanche', 'révolution', 'ville', 'relation', 'juillet', 'youssef', 'hindi', 'géopolitiqueinternational', 'russie', 'échiquier', 'géopolitique', 'iii', 'système', 'impérial', 'iran', 'sorte', 'cartographie', 'empire', 'suite', 'défenseinternational', 'fermeture', 'ciel', 'hébreu', 'journal', 'média', 'mesure', 'riposte', 'incident', 'avion', 'limitation', 'foispopularité', 'précédent', 'brésil', 'libération', 'lula', 'rencontre', 'virage', 'avertissement', 'égard', 'climat', 'délétère', 'actuel', 'commentaire', 'manière', 'charte', 'caractère', 'raciste', 'haine', 'orthographe', 'responsabilité', 'association', 'egalité', 'réconciliation', 'king', 'bullshit', 'maître', 'occupation', 'bénévole', 'nico', 'invité', 'occupant', 'prix', 'cul', 'post', 'malicieux', 'nicoça', 'marche', 'bertin', 'aviation', 'artifice', 'anonyme', 'libye', 'commandement', 'direct', 'tête', 'angleterre', 'allemagne', 'immense', 'cimetière', 'rêve', 'constitutionnel', 'volonté', 'majorité', 'diable', 'poutine', 'peuple', 'syrien', 'phosphore', 'malheur', 'malicieuxsauf', 'triste', 'mensonge', 'grossier', 'commentateur', 'régulier', 'er', 'beau', 'bénévolat', 'accord', 'population', 'pro', 'sarcastique', 'dos', 'hourrah', 'spirit', 'otan', 'norbert', 'brave', 'antisionisme', 'antisémitisme', 'dupond', 'führer', 'champagne', 'belge', 'patati', 'patata', 'découverte', 'date', 'dutroux', 'réseau', 'femme', 'pote', 'dalle', 'lynchage', 'lelièvre', 'mercredi', 'nihoul', 'prison', 'chose', 'espoir', 'gaffe', 'nauséabond', 'bam', 'pc', 'écran', 'noir', 'ortf', 'jus', 'pression', 'édouard', 'philippe', 'congèle', 'énergie', 'électricité', 'nucléaire', 'kazakhstan', 'canada', 'australie', 'info', 'milliard', 'naturel', 'an', 'facture', 'edf', 'pétrole', 'gaz', 'brut', 'énergétique', 'aphatie', 'fou', 'rage', 'humour', 'signe', 'coupe', 'plaisir', 'public', 'étonnant', 'december', 'illégitime', 'haut', 'légitime', 'greve', 'douche', 'exécutif', 'difficulté', 'appréhension', 'syndicalisme', 'c', 'aplati', 'adn', 'truc', 'table', 'zéro', 'mépris', 'masse', 'drôle', 'staline', 'hitler', 'droit', 'tsar', 'samedi', 'moscou', 'horrific', 'beat', 'bryan', 'macdonald', 'blague', 'it', 'effort', 'euphorie', 'châtiment', 'sourire', 'déprime', 'disparition', 'alain', 'barrière', 'genre', 'nick', 'conrad', 'pen', 'coup', 'bête', 'amour', 'ingénieur', 'auteur', 'compositeur', 'chanteur', 'vieux', 'copain', 'enfance', 'sang', 'breton', 'âme', 'jusant', 'aber', 'crach', 'large', 'intellectuel', 'antiraciste', 'enfant', 'petit', 'saut', 'parachute', 'kolwezi', 'voyage', 'amie', 'rockhaya', 'diallo', 'essentialiste', 'légendaire', 'réalisateur', 'oumar', 'sissoko', 'rokhaya', 'envie', 'route', 'tournée', 'pognon', 'campagne', 'user', 'habitude', 'artiste', 'bourre', 'niveau', 'booba', 'élysée', 'rappeur', 'vegedream', 'invitation', 'valeur', 'chanson', 'lien', 'culturel', 'conard', 'ballo', 'vegecream', 'sûr', 'problème', 'cause', 'racisme', 'posture', 'facilité', 'laurent', 'béchade', 'pierre', 'monument', 'vivant', 'génie', 'incompris', 'tocard', 'brise', 'rouleau', 'seigneur', 'dieu', 'lumière', 'surface', 'couleur', 'vérité', 'bla', 'charlatan', 'vermeer', 'staël', 'ère', 'astrologue', 'chapeau', 'pointu', 'bonus', 'claudine', 'plage', 'appli', 'inutile', 'créature', 'année', 'tonnerre', 'enfer', 'page', 'défrancisation', 'maghreb', 'leadership', 'chinois', 'aspect', 'néocolonialisme', 'drapeau', 'indéfini', 'vitam', 'æternam', 'avantage', 'maintien', 'épreuve', 'lundi', 'menace', 'merkel', 'figaro', 'interventionnisme', 'test', 'grandeur', 'nature', 'canon', 'multipolaire', 'hasard', 'décomposition', 'qatar', 'turquie', 'conflit', 'frère', 'saoudien', 'scène', 'champ', 'trump', 'désengagement', 'grondant', 'forme', 'dominance', 'pentagone', 'chine', 'fidèle', 'morale', 'suprématie', 'technologique', 'matière', 'pau', 'solidarité', 'combat', 'coalition', 'fléau', 'issoufou', 'asymétrique', 'pied', 'lettre', 'logique', 'investissement', 'us', 'formation', 'eei', 'partenaire', 'inébranlable', 'lwili', 'usembassyouaga', 'quotidien', 'djibouti', 'centre', 'centcom', 'second', 'île', 'ascension', 'continent', 'maillage', 'csl', 'contingency', 'cl', 'tremplin', 'urgence', 'capitale', 'ghana', 'hub', 'logistique', 'west', 'aéroport', 'kotoka', 'waln', 'fret', 'territorial', 'garde', 'cadre', 'type', 'caroline', 'botswana', 'californie', 'nigeria', 'new', 'york', 'michigan', 'liberia', 'utah', 'vermont', 'wyoming', 'tunisie', 'kentucky', 'massachusetts', 'indiana', 'dakota', 'partenariat', 'constitution', 'task', 'réunion', 'plan', 'action', 'propos', 'rwanda', 'américanisation', 'dirigeant', 'museveni', 'porte', 'documentaire', 'arte', 'kony', 'croisade', 'méthode', 'pénétration', 'realpolitik', 'djihadisme', 'indécence', 'd', 'régiment', 'sommet', 'chance', 'produit', 'vue', 'inexistant', 'pib', 'apd', 'aide', 'destination', 'poche', 'somme', 'financement', 'dette', 'sort', 'zambèze', 'corrèze', 'oukase', 'cœur', 'générosité', 'vocation', 'âge', 'montreuil', 'comble', 'diaspora', 'crédible', 'incorporation', 'million', 'ouagadougou', 'surinfection', 'but', 'désintégration', 'janvier', 'hollande', 'aqmi', 'irrédentisme', 'immigration', 'narcotrafic', 'beautiful', 'cocaïne', 'carrière', 'honneur', 'tristesse', 'mondialisme', 'faux', 'mauritanie', 'sécheresse', 'affrontement', 'eau', 'pâture', 'immensité', 'désert', 'attentat', 'drakkar', 'beyrouth', 'libanais', 'drame', 'immédiat', 'mars', 'terrible', 'exemple', 'impuissance', 'prestigieux', 'choix', 'théâtre', 'impossible', 'regard', 'demeurant', 'variable', 'ajustement', 'austérité', 'maintenance', 'véritable', 'bataille', 'front', 'intérieur', 'brûlant', 'dépit', 'complicité', 'terroriste', 'bruit', 'européen', 'lourd', 'tribut', 'improbable', 'londres', 'haye', 'black', 'friday', 'mérité', 'multiplication', 'travers', 'mémoire', 'villeurbanne', 'jeune', 'grièvement', 'migrant', 'clandestin', 'afghan', 'âgé', 'voix', 'accrédité', 'secret', 'harpon', 'charcutier', 'halal', 'préfecture', 'procureur', 'soixantaine', 'thorax', 'rue', 'qualification', 'liste', 'mai', 'khamzat', 'tchéchène', 's', 'surinait', 'tueur', 'pont', 'ultime', 'mention', 'couteau', 'gare', 'suspect', 'circonlocution', 'euphémisme', 'commun', 'section', 'antiterroriste', 'ministre', 'revendication', 'organe', 'propagande', 'falsification', 'biais', 'flagrant', 'déni', 'évidence', 'pantois', 'facto', 'légal', 'réel', 'didier', 'lallement', 'préfet', 'lendemain', 'italie', 'éclat', 'moloch', 'répression', 'recrudescence', 'arme', 'britannique', 'épidémie', 'juin', 'véhicule', 'utilitaire', 'scrutin', 'législatif', 'vendredi', 'instar', 'bataclan', 'proximité', 'parlement', 'individu', 'sortie', 'concert', 'ei', 'communiqué', 'agence', 'amak', 'pointe', 'événement', 'khan', 'assaillant', 'nationalité', 'privation', 'liberté', 'grotesque', 'incarcération', 'appartenance', 'intention', 'bombe', 'cynique', 'institutionnel', 'perpétuité', 'bracelet', 'sinistre', 'ironie', 'destin', 'jack', 'saskia', 'ensemble', 'coordonnateur', 'croyant', 'rédemption', 'volontaire', 'programme', 'université', 'réhabilitation', 'rousseau', 'angélisme', 'maladie', 'négationniste', 'fanatique', 'incroyable', 'faiblesse', 'coupable', 'naïveté', 'impotence', 'correction', 'conduite', 'éthique', 'mystique', 'idéologique', 'diversité', 'ethnique', 'bras', 'nez', 'univers', 'mental', 'représentation', 'hétérogénéité', 'théorie', 'palais', 'bourbon', 'belkacem', 'm', 'cahuzac', 'emblématique', 'communautariste', 'boîte', 'machette', 'hache', 'bureau', 'statistique', 'vertigineux', 'sociétal', 'drogue', 'instrument', 'pakistanais', 'anglais', 'grooming', 'drague', 'sympa', 'interethnique', 'manteau', 'libéralisation', 'rochdale', 'gang', 'déferlement', 'nécessité', 'tarir', 'demande', 'régal', 'liquide', 'scrupule', 'confins', 'gloire', 'profit', 'exclusif', 'messianique', 'finance', 'pouilleux', 'naguère', 'imajaghen', 'fil', 'terreur', 'lit', 'moelleux', 'couvent', 'enlisement', 'heure', 'mortifère', 'charia', 'wahhabite', 'idéologie', 'importation', 'internationalisme', 'confessionnel', 'oumma', 'algérie', 'armé', 'gia', 'prédication', 'présent', 'maison', 'arabe', 'gspc', 'annulation', 'aval', 'tour', 'putride', 'sarkozy', 'kouchner', 'lévy', 'assistance', 'obama', 'humanitaire', 'bain', 'démocratique', 'correct', 'éclosion', 'printemps', 'brasier', 'contrecoup', 'poussée', 'migratoire', 'contenu', 'guide', 'jamahiriya', 'mouammar', 'assassinat', 'agent', 'direction', 'authentique', 'exécution', 'extrajudiciaire', 'scandale', 'rappel', 'utile', 'origine', 'parcours', 'final', 'long', 'moderne', 'brillant', 'entité', 'usage', 'discours', 'notion', 'sens', 'exsangue', 'fibre', 'patriotique', 'avatar', 'héritage', 'ancestral', 'tribu', 'nation', 'village', 'royaume', 'micro', 'vocable', 'patrie', 'mot', 'creux', 'ridicule', 'constat', 'arrivée', 'vague', 'big', 'bizness', 'showbiz', 'verdun', 'occasion', 'gaulle', 'fln', 'fils', 'torpeur', 'hexagone', 'approprié', 'clique', 'abîme', 'ambition', 'récapitulatif', 'décennie', 'optique', 'conséquence', 'goldman', 'austère', 'grèce', 'espagne', 'irlande', 'lettonie', 'hongrie', 'portugal', 'bce', 'fmi', 'culture', 'éric', 'woerth', 'fonction', 'bettencourt', 'illégal', 'nicolas', 'grippe', 'santé', 'roselyne', 'bachelot', 'étranger', 'ministère', 'haïti', 'tremblement', 'magnitude', 'port', 'percée', 'parti', 'séparatiste', 'néolibéral', 'demi', 'énorme', 'balai', 'impérialiste', 'révolutionnaire', 'moubarak', 'poste', 'égypte', 'commando', 'annonce', 'élimination', 'oussama', 'laden', 'kadhafi', 'consigne', 'bhl', 'gbagbo', 'présidence', 'bachar', 'tempête', 'norvège', 'behring', 'breivik', 'nationaliste', 'sioniste', 'plupart', 'travailliste', 'norvégien', 'publicité', 'manifeste', 'islam', 'multiculturalisme', 'geek', 'proie', 'désœuvrement', 'familial', 'prolongeables', 'japon', 'séisme', 'tsunami', 'industriel', 'fukushima', 'grave', 'catastrophe', 'siècle', 'contestation', 'populaire', 'globalisation', 'dénonciation', 'excès', 'capitalisme', 'représentant', 'oligarchie', 'apatride', 'viol', 'chambre', 'hôtel', 'manhattan', 'institution', 'stabilité', 'bretton', 'christine', 'lagarde', 'économie', 'complexe', 'domination', 'dollar', 'référence', 'exploitation', 'édition', 'kontre', 'kulture', 'soral', 'révolte', 'alternance', 'maya', 'gestion', 'douceur', 'renouvellement', 'frais', 'françois', 'dmitri', 'medvedev', 'vladimir', 'fédération', 'barack', 'mandat', 'xi', 'jinping', 'secrétaire', 'communiste', 'commission', 'numéro', 'successeur', 'jintao', 'diplomatie', 'embargo', 'iranien', 'passation', 'merah', 'confession', 'rabbin', 'fille', 'directeur', 'juif', 'orthodoxe', 'ozar', 'hatorah', 'toulouse', 'montauban', 'mohammed', 'valls', 'feuille', 'progressisme', 'raphaël', 'glucksmann', 'ukraine', 'euromaïdan', 'influence', 'extrême', 'droite', 'nazisme', 'serval', 'paternaliste', 'servile', 'dispositif', 'hystérique', 'manuel', 'hystérie', 'mariage', 'homosexuel', 'progrès', 'religieux', 'majeur', 'renonciation', 'pape', 'pontificat', 'allemand', 'joseph', 'benoît', 'xvi', 'église', 'catholique', 'argentin', 'jorge', 'bergoglio', 'jésuite', 'venezuela', 'socialiste', 'hugo', 'chávez', 'cancer', 'caracas', 'maduro', 'décès', 'symbole', 'père', 'nelson', 'mandela', 'johannesburg', 'égalité', 'apartheid', 'masque', 'échec', 'cuisant', 'néocon', 'célèbre', 'débarquement', 'normandie', 'profond', 'néoconservatisme', 'israélien', 'spectacle', 'mur', 'humoriste', 'orbite', 'dilcrah', 'censure', 'gouvernemental', 'organisation', 'instauration', 'califat', 'totalitaire', 'officieux', 'lignée', 'arabie', 'blocus', 'houthis', 'apothéose', 'séquence', 'siège', 'satirique', 'hebdo', 'charb', 'magasin', 'incongru', 'expression', 'danger', 'collectif', 'clou', 'salle', 'metal', 'officiel', 'absolu', 'néolibéralisme', 'compagnie', 'suppression', 'afghanistan', 'schengen', 'flux', 'mécanisme', 'répartition', 'obligatoire', 'basculement', 'extravagant', 'milliardaire', 'donald', 'surprise', 'marionnette', 'hillary', 'clinton', 'élection', 'fédéral', 'régénérescence', 'industrie', 'conscience', 'manipulation', 'connaissance', 'populisme', 'incontournable', 'horreur', 'brexit', 'référendum', 'survie', 'ue', 'financier', 'establishment', 'mise', 'application', 'semonce', 'symbolique', 'erdoğan', 'purge', 'retournement', 'alliance', 'intenable', 'ingénierie', 'œuvre', 'convergence', 'parallèle', 'égorgement', 'prêtre', 'hamel', 'rouen', 'nice', 'camion', 'poids', 'promenade', 'procédé', 'berlin', 'noël', 'breitscheidplatz', 'bruxelles', 'métro', 'bourgeois', 'hécatombe', 'juppé', 'course', 'cabale', 'rang', 'fillon', 'gauche', 'marine', 'égocentrique', 'win', 'juridique', 'modèle', 'empereur', 'agenda', 'desiderata', 'couple', 'fondateur', 'crif', 'roue', 'destitution', 'meurtre', 'boomerang', 'weinstein', 'hollywood', 'festin', 'criminel', 'sexuel', 'pédocriminalité', 'potentiel', 'bec', 'jakubowicz', 'existence', 'résistance', 'court', 'arnaque', 'libertaire', 'aseptisation', 'fake', 'news', 'beltrame', 'strasbourg', 'victoire', 'football', 'élite', 'protestation', 'augmentation', 'énième', 'taxe', 'physique', 'benalla', 'populiste', 'structure', 'lega', 'matteo', 'salvini', 'luigi', 'maio', 'jair', 'bolsonaro', 'inauguration', 'jérusalem', 'singapour', 'kim', 'corée', 'nettoyage', 'éclatement', 'epstein', 'névralgique', 'entrelacement', 'jeffrey', 'prostitution', 'pédophilie', 'satanisme', 'trafic', 'tribaliste', 'soumission', 'vision', 'réélection', 'démocrate', 'implication', 'pillage', 'plagiat', 'intouchable', 'polanski', 'bruel', 'elmaleh', 'marge', 'yann', 'moix', 'thierry', 'ardisson', 'jamel', 'debbouze', 'génération', 'chirac', 'tactique', 'zemmour', 'frayeur', 'hanouna', 'abêtissement', 'ferme', 'insoumission', 'entente', 'réchauffement', 'climatique', 'autiste', 'greta', 'thunberg', 'égérie', 'éphémère', 'bol', 'populo', 'bout', 'spectaculaire', 'dimension', 'incendie', 'projet', 'spéculation', 'pharaonique', 'profane', 'transformation', 'touristique', 'candidature', 'momie', 'abdelaziz', 'algérien', 'pilier', 'axe', 'assad', 'recul', 'impérialisme', 'liban', 'effondrement', 'équivalent', 'hassan', 'nasrallah', 'géant', 'mondialisation', 'hong', 'kong', 'leader', 'participez', 'journalier', 'participatif', 'audition', 'assemblée', 'éclair', 'succès', 'extension', 'déstabilisation', 'emprise', 'daesh', 'échelle', 'document', 'stabilisation', 'minusma', 'suivi', 'onu', 'flèche', 'recrutement', 'porosité', 'gravité', 'gsim', 'objectif', 'radicalisation', 'ansar', 'actif', 'kidal', 'émirat', 'tombouctou', 'attrition', 'al', 'mourabitoune', 'secteur', 'katiba', 'macina', 'bastion', 'stratégie', 'provenance', 'tendance', 'montée', 'iswap', 'abdullah', 'ibn', 'umar', 'yusuf', 'boko', 'haram', 'position', 'rythme', 'membre', 'branche', 'intégralité', 'gat', 'chevauchée', 'limité', 'fraction', 'solution', 'satisfaction', 'embrasement', 'progression', 'reconquête', 'illusion', 'mirage', 'activité', 'vain', 'suicidaire', 'démographie', 'éventualité', 'sécuritaire', 'conflictualité', 'besoin', 'vital', 'lisibilité', 'passé', 'nouveauté', 'chaîne', 'lac', 'transsaharien', 'articulé', 'contact', 'soudanien', 'méditerranéen', 'interdisant', 'destruction', 'songhay', 'exception', 'bambara', 'mossi', 'djerma', 'razzia', 'nomade', 'expansion', 'alibi', 'religion', 'marqueterie', 'ousmane', 'dan', 'fodio', 'haoussa', 'seku', 'ahmadou', 'el', 'hadj', 'omar', 'désolation', 'massacre', 'soubassement', 'pruderie', 'prudence', 'peulitude', 'héros', 'dogon', 'contraire', 'pillard', 'liptako', 'surpopulation', 'péjoration', 'anecdotique', 'fleuve', 'tenaille', 'dallol', 'gwando', 'échange', 'gao', 'ménaka', 'imghad', 'daoussak', 'ouelleminden', 'ataram', 'rive', 'tributaire', 'kourtey', 'ayorou', 'say', 'localisation', 'géographique', 'écroulement', 'allégresse', 'occidental', 'prédation', 'aof', 'opportunisme', 'local', 'superficialité', 'inadaptation', 'définitive', 'impasse', 'passage', 'charlie', 'merde', 'haute', 'hebdomadaire', 'indignation', 'incompréhension', 'dessin', 'november', 'abri', 'contradiction', 'étron', 'singe', 'talent', 'synchronisation', 'timing', 'houspiller', 'antimilitarisme', 'cabu', 'cemat', 'burkhard', 'tweet', 'détournement', 'dessinateur', 'tradition', 'antimilitariste', 'réaction', 'partage', 'latent', 'libéralisme', 'prestige', 'hiérarchie', 'sale', 'boulot', 'shoah', 'gentillet', 'pain', 'carnage', 'samu', 'exercice', 'docteur', 'pelloux', 'urgentiste', 'tuerie', 'répétition', 'marianne', 'vertu', 'laïcité', 'humaniste', 'bergé', 'val', 'dérisoire', 'texte', 'malheureux', 'formidable', 'caricature', 'degré', 'radical', 'récent', 'mainmise', 'centaine', 'mine', 'phase', 'propre', 'coquille', 'vide', 'essentiel', 'autoprotection', 'fumeux', 'déterminant', 'inéluctable', 'prioritaire', 'quadriller', 'irréaliste', 'époque', 'raison', 'communication', 'condition', 'option', 'continuum', 'millénaire', 'foyer', 'primaire', 'impératif', 'insupportable', 'malien', 'nordiste', 'kenya', 'kikuyu', 'kipling', 'loup', 'lévrier', 'jihadisme', 'ethnisme', 'fondant', 'universel', 'piège', 'réduit', 'chemin', 'utilisation', 'démarche', 'blog', 'durée', 'environnement', 'logiciel', 'totalité', 'maximum', 'quart', 'meilleur', 'namibie', 'ouzbékistan', 'reformation', 'lassitude', 'éventuel', 'effectif', 'difficile', 'fezzan', 'ravitaillement', 'misrata', 'bloc', 'môle', 'glacis', 'résurgence', 'expansionnisme', 'paravent', 'nécessaire', 'double', 'donnée', 'voie', 'illustration', 'sahélien', 'hommage', 'chammal', 'opex', 'parc', 'sculpture', 'bronze', 'cercueil', 'invisible', 'balkans', 'mémorial', 'matinée', 'commémoration', 'monumentauxmorts', 'rt', 'essayiste', 'guillaume', 'bigot', 'élément', 'ronan', 'pointeau', 'utilité', 'précis', 'rationnel', 'intégrité', 'registre', 'considérable', 'cheval', 'neuf', 'boucle', 'choc', 'sécurisation', 'voilure', 'dissuasif', 'stable', 'désordre', 'instabilité', 'patriote', 'européiste', 'entrée', 'positif', 'quinquennat', 'construction', 'geneviève', 'darrieussecq', 'budget', 'villiers', 'bakr', 'joie', 'soulagement', 'occident', 'émergence', 'invasion', 'violent', 'soulèvement', 'salvador', 'orgie', 'gcil', 'abdelhakim', 'belhaj', 'jordanie', 'entraînement', 'safawi', 'avril', 'eii', 'levant', 'isis', 'nid', 'naissance', 'puissant', 'renseignement', 'dia', 'préparation', 'flynn', 'conseiller', 'excellent', 'tampon', 'sunnite', 'chiite', 'graham', 'fuller', 'clair', 'soleil', 'flirt', 'rambo', 'sylvester', 'stallone', 'version', 'collaboration', 'coopération', 'évident', 'yougoslavie', 'bosnie', 'kosovo', 'uck', 'albanie', 'grâce', 'financial', 'rivalité', 'militarisation', 'florissant', 'commercial', 'systématique', 'propagation', 'perdre', 'espèce', 'fasse', 'summum', 'immoralité', 'insoupçonnable', 'villepin', 'séparatisme', 'déroute', 'légitiment', 'patrimoine', 'dakar', 'parole', 'pratique', 'remise', 'sabre', 'sénégalais', 'macky', 'sall', 'ethnie', 'toucouleur', 'restitution', 'confusionnisme', 'objet', 'infanterie', 'kligenthal', 'alsace', 'permanence', 'possesseur', 'ignorance', 'alchimie', 'tâche', 'butte', 'hostilité', 'insolite', 'tall', 'haalpulaaren', 'pulaar', 'langue', 'podor', 'fouta', 'toro', 'famille', 'confrérie', 'kadiriya', 'tijaniya', 'interprétation', 'sokoto', 'calife', 'dinguiraye', 'diourbel', 'djihad', 'vallée', 'segou', 'kaarta', 'islamisation', 'nioro', 'médine', 'avancé', 'colonel', 'louis', 'faidherbe', 'ségou', 'souverain', 'refuge', 'hamdallahi', 'conquis', 'clan', 'kunta', 'bekay', 'notable', 'conquête', 'combattant', 'bandiagara', 'envahisseur', 'cupidité', 'robinson', 'soudan', 'résumé', 'conquérant', 'jadis', 'curiosité', 'attention', 'prémonitoire', 'datant', 'dispersé', 'courant', 'atlantique', 'rca', 'cycle', 'phénomène', 'dynamique', 'vache', 'lance', 'image', 'tutsi', 'houe', 'jihad', 'simplification', 'semi', 'guinéen', 'supplémentaire', 'fragile', 'central', 'opposition', 'émission', 'aveuglement', 'incompétence', 'universaliste', 'armement', 'ethnisation', 'africaniste', 'jeudi', 'soumeylou', 'maïga', 'motion', 'manifestation', 'wahhabisme', 'iyad', 'ag', 'ghali', 'prochain', 'incertitude', 'ibrahim', 'boubacar', 'keita', 'grogne', 'chérif', 'mohamed', 'ould', 'ibk', 'génocide', 'liesse', 'ligue', 'prédicateur', 'cherif', 'madani', 'haidara', 'partisan', 'traditionnel', 'universalisme', 'mythe', 'résultat', 'libre', 'élargissement', 'océan', 'autodéfense', 'capillarité', 'garnison', 'dioura', 'quarantaine', 'matériel', 'flanc', 'décentralisation', 'clé', 'alger', 'parrain', 'afghanisation', 'nœud', 'fondation', 'sociologique', 'régionale', 'solide', 'robuste', 'hyper', 'lassana', 'bathily', 'morceau', 'bravoure', 'vincennes', 'musulman', 'storytelling', 'émotion', 'nausée', 'courageux', 'distance', 'statut', 'fable', 'record', 'emploi', 'mairie', 'autobiographie', 'éditeur', 'conte', 'amedy', 'coulibaly', 'boulevard', 'périphérique', 'otage', 'issue', 'fond', 'escalier', 'colimaçon', 'manutentionnaire', 'supérette', 'moteur', 'congélateur', 'froid', 'étage', 'barrette', 'métal', 'béton', 'zarie', 'siboni', 'cran', 'soupçonnant', 'identité', 'précieux', 'trousseau', 'cou', 'patron', 'rideau', 'fer', 'raid', 'bri', 'dynamite', 'permanent', 'modeste', 'détenteur', 'séjour', 'renouvelable', 'passeport', 'maelström', 'inattendu', 'stupéfiant', 'cendrillon', 'baguette', 'magique', 'ombre', 'précarité', 'aisance', 'adulation', 'savoir', 'premier', 'loterie', 'billet', 'pétition', 'représentatif', 'naturalisation', 'légion', 'téléphone', 'personnel', 'procédure', 'sésame', 'cérémonie', 'christiane', 'taubira', 'éducation', 'najat', 'vallaud', 'permis', 'citoyen', 'félicitation', 'benyamin', 'netanyahou', 'synagogue', 'john', 'kerry', 'éloge', 'maire', 'supermarché', 'employé', 'accueil', 'cheickna', 'kamissoko', 'keïta', 'coïncidence', 'soninké', 'dîner', 'annuel', 'douzaine', 'roger', 'cukierman', 'héroïque', 'film', 'bide', 'retentissant', 'alexandre', 'arcady', 'cleveland', 'ansche', 'chesed', 'fairmount', 'temple', 'apprentissage', 'culte', 'bonté', 'robert', 'nosanchuk', 'cheryl', 'médaille', 'race', 'reflet', 'humanité', 'courage', 'holocauste', 'congrès', 'moral', 'forum', 'global', 'committe', 'ajcii', 'barbarie', 'promotion', 'fraternité', 'porteur', 'humain', 'initiative', 'michel', 'emsalem', 'actionnaire', 'unique', 'veille', 'légende', 'irréversible', 'kacimi', 'migration', 'déclaration', 'tsa', 'arabi', 'yémen', 'palestine', 'laddh', 'problématique', 'couverture', 'asile', 'déplacement', 'réfugié', 'éthiopie', 'frontalier', 'guezzam', 'tamanrasset', 'rassemblement', 'prêt', 'foucher', 'proche', 'claude', 'guéant', 'suspens', 'fonds', 'énoncé', 'mediapart', 'émirati', 'rn', 'fn', 'limite', 'in', 'score', 'contrat', 'bangui', 'centrafricain', 'capital', 'financière', 'émiratie', 'supervision', 'sulfureux', 'couriol', 'corruption', 'airbus', 'tourmente', 'philippin', 'february', 'mitterrand', 'député', 'minier', 'diamantaire', 'opérateur', 'téléphonie', 'telecel', 'group', 'papamadit', 'pêcherie', 'banquier', 'charki', 'gendre', 'mystérieux', 'djotodia', 'explication', 'edwy', 'plenel', 'inconnu', 'suisse', 'crédit', 'offshore', 'fortune', 'kodiéran', 'transfert', 'intermédiaire', 'dossier', 'rpr', 'ps', 'gabonais', 'paul', 'moreira', 'fric', 'elf', 'aquitaine', 'areva', 'mauvais', 'thalès', 'naval', 'dassault', 'nexter', 'safran', 'dessein', 'nain', 'magouille', 'anecdote', 'roland', 'dumas', 'incorrect', 'bygmalion', 'ump', 'moyen', 'nasse', 'copé', 'plafond', 'mal', 'bourse', 'régulation', 'vérification', 'pub', 'igpn', 'audace', 'directrice', 'brigitte', 'julien', 'gilet', 'jaune', 'juge', 'laboratoire', 'servier', 'pharmacovigilance', 'ansm', 'examen', 'glauque', 'médicament', 'accumulation', 'martin', 'transparence', 'seta', 'hermange', 'favorable', 'huffpost', 'digression', 'mediator', 'nocivité', 'vente', 'dr', 'hirsch', 'cabinet', 'dysfonctionnement', 'bouche', 'candidat', 'star', 'flot', 'immoral', 'pompe', 'pdg', 'major', 'polytechnique', 'inspecteur', 'école', 'nomination', 'brousse', 'compréhension', 'domaine', 'affirmation', 'ethnocide', 'gourmantché', 'kurumba', 'capable', 'envoi', 'souhait', 'poursuite', 'clarification', 'stratégique', 'sahara', 'étape', 'dramatique', 'défaut', 'réflexion', 'sanglant', 'dictateur', 'modernisation', 'abolition', 'jamahariya', 'xixème', 'idéal', 'usa', 'botte', 'doctrine', 'réveil', 'division', 'cyrénaïque', 'tripolitaine', 'tripoli', 'benghazi', 'agression', 'egypte', 'saoudite', 'ankara', 'idleb', 'skhirat', 'résolution', 'inversion', 'émiratis', 'équilibre', 'narration', 'prévisible', 'faylaq', 'gouvernorat', 'chantage', 'absence', 'transit', 'orient', 'lampedusa', 'flotte', 'maastricht', 'meyssan', 'partition', 'expédition', 'accusation', 'apparenté', 'utopique', 'motif', 'confrontation', 'roi', 'gueux', 'journaliste', 'taha', 'bouhafs', 'coin', 'boulet', 'havre', 'compagne', 'crs', 'mouarf', 'tenue', 'béziers', 'ggrmc', 'faussement', 'vulgarité', 'gouaille', 'toile', 'araignée', 'renfort', 'fascisme', 'peste', 'choléra', 'rouge', 'brun', 'carlos', 'pleurniche', 'pseudo', 'plateau', 'ruse', 'abus', 'désinformation', 'radio', 'semblant', 'entretien', 'téléphonique', 'recep', 'charles', 'désescalade', 'diplomate', 'menu', 'parisien', 'tension', 'fiable', 'nique', 'intrusion', 'muscle', 'lieutenant', 'humble', 'quémandeur', 'strapontin', 'kemal', 'atatürk', 'illustre', 'prédécesseur', 'civilisation', 'enver', 'sphère', 'machrek', 'supérieur', 'antirusse', 'créneau', 'croix', 'migault', 'souvenir', 'ottoman', 'jacques', 'attali', 'monstre', 'september', 'démonstration', 'turc', 'façade', 'autel', 'chypre', 'gazoduc', 'north', 'stream', 'niamey', 'cercle', 'kouré', 'acted', 'embuscade', 'périmètre', 'repos', 'inconcevable', 'ong', 'épicentre', 'surenchère', 'mouvance', 'trahison', 'nébuleuse', 'koufa', 'fureur', 'cherche', 'saucissonnage', 'minimum', 'mutinerie', 'boubou', 'blindé', 'kati', 'quinzaine', 'résidence', 'polisario', 'plaie', 'dépens', 'ifora', 'droukdal', 'ouargla', 'popularité', 'azawad', 'indépendant', 'phare', 'accélération', 'processus', 'négociation', 'actualisation', 'allègement', 'glissement', 'polygamie', 'match', 'expérience', 'assa', 'traoré', 'charismatique', 'propreté', 'ménage', 'hatouma', 'oumou', 'amada', 'différence', 'distinction', 'tableau', 'idyllique', 'magazine', 'critique', 'ambiance', 'prairie', 'sapristi', 'code', 'civil', 'excision', 'féminisme', 'causette', 'tenace', 'rigueur', 'régime', 'matrimonial', 'adama', 'sanctuaire', 'kabylie', 'tessalit', 'fondamentaliste', 'racine', 'modus', 'obstacle', 'maxime', 'loyal', 'allié', 'couloir', 'madama', 'réensemencement', 'jewstice', 'fiction', 'souffrance', 'des', 'navarre', 'magnifique', 'cv', 'brochure', 'sœur', 'médiatique', 'afro', 'angela', 'entremise', 'avocat', 'arié', 'wikipédia', 'scolarité', 'ii', 'fiscalité', 'diplôme', 'juriste', 'barreau', 'rtl', 'noble', 'martyr', 'préfabriqué', 'copie', 'pdf', 'orgue', 'étouffement', 'barycentre', 'médecine', 'banlieue', 'interpellation', 'défunt', 'mouloud', 'achour', 'net', 'instruction', 'truand', 'pedigree', 'truande', 'inhérent', 'honnête', 'accidentel', 'mâtin', 'dislocation', 'polydamas', 'june', 'portrait', 'mère', 'boyenval', 'étanchéité', 'recommandation', 'asphyxié', 'gendarmerie', 'persan', 'ventre', 'plainte', 'harcèlement', 'stéphane', 'compassion', 'marin', 'georgesfloyd', 'racaille', 'edouard', 'bassam', 'création', 'abou', 'walid', 'réguibat', 'émanation', 'bannière', 'artificialité', 'abdelmalek', 'mentor', 'gaïd', 'salah', 'bouteflika', 'sidi', 'hame', 'taoufik', 'chaib', 'elkheir', 'talahandak', 'approche', 'allogène', 'marocain', 'maréchal', 'virus', 'amalgame', 'sibeth', 'ndiaye', 'malade', 'bfmtv', 'march', 'obsolète', 'confinement', 'coronavirus', 'réserve', 'tas', 'chapitre', 'vélo', 'misère', 'pénible', 'marseille', 'aznavour', 'volet', 'ressemblance', 'samuel', 'zemmourian', 'pétain', 'loupiote', 'gueule', 'observation', 'scientifique', 'lyon', 'bled', 'patrick', 'drahi', 'tasse', 'thé', 'jasmin', 'normal', 'confinementotal', 'simon', 'louvet', 'corona', 'réa', 'grenoble', 'civisme', 'ensauvager', 'égoïsme', 'panique', 'chappet', 'xviiie', 'cuisse', 'poulet', 'atao', 'fliquette', 'barbès', 'élégance', 'commissaire', 'veine', 'mec', 'thomas', 'joly', 'civique', 'sanitaire', 'spécialité', 'vol', 'sport', 'vendetta', 'martiniquais', 'balade', 'dérogation', 'devoir', 'con', 'peb', 'interview', 'foresti', 'césar', 'pareil', 'gérard', 'banal', 'gentillesse', 'retraité', 'caméra', 'perso', 'dribblent', 'dribbleur', 'acceptable', 'ballon', 'impression', 'adversaire', 'archéologie', 'carotte', 'coléromètre', 'déménagement', 'manu', 'militari', 'injustice', 'commencement', 'germe', 'idiot', 'crue', 'dangereux', 'rien', 'fusil', 'nage', 'ponponil', 'remplacement', 'gillet', 'elysée', 'surprenant', 'cambriolage', 'adresse', 'baseball', 'loyer', 'jakob', 'shlomo', 'urgent', 'demie', 'vitesse', 'giro', 'concret', 'digne', 'escadron', 'qqun', 'visibilité', 'hashtag', 'l', 'rhétorique', 'nuage', 'fumée', 'engerber', 'faute', 'légitimité', 'traitement', 'artificiel', 'slogan', 'ouverture', 'efficace', 'verrou', 'littoral', 'appui', 'propagandiste', 'relais', 'fief', 'liquidation', 'inévitable', 'hermant', 'bavure', 'lille', 'infiltré', 'imperturbable', 'bel', 'informateur', 'dérive', 'écart', 'reportage', 'isolé', 'october', 'sonore', 'comité', 'youcef', 'brakni', 'houria', 'bouteldja', 'pir', 'négrophobie', 'militant', 'boutledja', 'conséquent', 'icône', 'figure', 'enregistrement', 'audio', 'palheta', 'contretemps', 'associatif', 'emmerdera', 'amitié', 'veritepouradama', 'geoffroy', 'lagasnerie', 'azerbaïdjan', 'nikol', 'pachinan', 'oui', 'artsakh', 'bakou', 'catégorie', 'élémentaire', 'william', 'goldnadel', 'rut', 'ferroviaire', 'jupe', 'fouine', 'sauverlafrance', 'rentrée', 'débat', 'continu', 'droitisent', 'proportion', 'brouhaha', 'virginie', 'économiste', 'lalucq', 'julie', 'garnier', 'emmanuelle', 'walter', 'bar', 'we', 'begin', 'quarantine', 'process', 'sursis', 'nordique', 'contamination', 'cavalier', 'surréaliste', 'suède', 'desserre', 'corset', 'épidémiologiste', 'architecte', 'efficacité', 'cesse', 'lena', 'hallengren', 'arsouille', 'complot', 'salutaire', 'véracité', 'crime', 'ariane', 'blogueuse', 'valise', 'homo', 'dgse', 'prérogative', 'davet', 'lhomme', 'vantardise', 'impudent', 'épée', 'punition', 'rétablissement', 'concurrence', 'interne', 'poing', 'neutralisation', 'gourma', 'drone', 'reaper', 'occurrence', 'bivouac', 'vert', 'largue', 'laser', 'patrouille', 'inerte', 'pur', 'publicitaire', 'présidentielle', 'pravda', 'détermination', 'lame', 'gradé', 'côtoie', 'tranche', 'lrem', 'françoise', 'excitation', 'rothschild', 'programmation', 'cema', 'goût', 'note', 'synthèse', 'incapacité', 'parlementaire', 'pietrasanta', 'propice', 'emié', 'dialogue', 'compliqué', 'féru', 'mortier', 'adepte', 'pilotage', 'uniforme', 'égide', 'fougueux', 'bajolet', 'christophe', 'gomart', 'coordination', 'nouzille', 'frange', 'traque', 'allure', 'raqqa', 'enclave', 'drian', 'florence', 'parly', 'reddition', 'relâche', 'kill', 'capture', 'atar', 'fabien', 'clain', 'frappe', 'baghouz', 'contribuable', 'cour', 'moscovici', 'élyséen', 'avenir', 'complémentaire', 'officier', 'mopti', 'commune', 'viêt', 'nam', 'urss', 'comparable', 'blason', 'délirant', 'jouet', 'cher', 'principal', 'sionisme', 'live', 'franceinfo', 'chalghoumi', 'conservateur', 'art', 'buffet', 'hippolyte', 'flandrin', 'choeur', 'saint', 'guérissant', 'jean', 'fantasme', 'colonne', 'traite', 'vichy', 'patriarcat', 'christianisme', 'chéri', 'congruence', 'kepel', 'ressortissant', 'rwandais', 'diocèse', 'cathédrale', 'tolle', 'july', 'rafle', 'lobby', 'colonial', 'déportation', 'xvii', 'triangulation', 'triangulaire', 'justicepouradama', 'danielle', 'simonnet', 'gauchisme', 'défilé', 'foule', 'honte', 'liscia', 'visible', 'édifice', 'distinct', 'effraction', 'accès', 'rugy', 'probabilité', 'météorite', 'plongée', 'étincelle', 'mainstream', 'mélange', 'péril', 'antiracisme', 'sape', 'teitgen', 'askolovitch', 'crocodile', 'interreligieux', 'gauchiste', 'johanna', 'anticléricalisme', 'effacement', 'bérangère', 'viennot', 'antitrumpienne', 'parfait', 'décrypte', 'langage', 'touite', 'gaspard', 'alizan', 'désacralisation', 'renaud', 'camus', 'picture', 'démoniaque', 'incendiaire', 'tabou', 'enlèvement', 'pensionnat', 'tournant', 'abubakar', 'kankara', 'exaction', 'exergue', 'gouverneur', 'katsina', 'aminu', 'bello', 'masari', 'rançon', 'bétail', 'kidnapping', 'chibok', 'vocal', 'rapprochement', 'manguier', 'mosquée', 'prénom', 'ahmed', 'spectre', 'internat', 'muhammadu', 'buhari', 'originaire', 'repaire', 'investigation', 'aksar', 'akser', 'infrastructure', 'réussite', 'maiduguri', 'borno', 'voisin', 'lecture', 'fierté', 'automatique', 'extrait', 'campus', 'vox', 'guerrier', 'lâche', 'destructeur', 'soldat', 'raccord', 'harmonie', 'masochisme', 'autodestruction', 'diabolique', 'bolossent', 'généreux', 'cherbourg', 'domicile', 'monteux', 'dussine', 'barre', 'émié', 'lerner', 'dgsi', 'anniversaire', 'traumatisé', 'topo', 'affirment', 'antiterrorisme', 'été', 'étatique', 'désignation', 'file', 'décloisonnement', 'information', 'machin', 'machine', 'complément', 'civilisationnel', 'autonomie', 'enchaînement', 'intérêt', 'défi', 'signalement', 'délation', 'bastringue', 'low', 'conflans', 'envergure', 'planification', 'entrave', 'imaginable', 'endogène', 'endoctrinement', 'case', 'beghal', 'kouachi', 'djamel', 'cantal', 'bérenger', 'plausible', 'client', 'conviction', 'libérable', 'mensuel', 'condamnation', 'contumace', 'dar', 'ultradroite', 'christchurch', 'foi', 'pacifique', 'respect', 'plein', 'carton', 'échelon', 'rupture', 'fluidité', 'remarquable', 'redoutable', 'intensification', 'europol', 'interopérabilité', 'internet', 'cri', 'refrain', 'reproche', 'facteur', 'élévation', 'étroitesse', 'pnat', 'pénitentiaire', 'confiance', 'scrt', 'gérald', 'darmanin', 'départemental', 'cellule', 'silt', 'hémicycle', 'arsenal', 'avia', 'patriot', 'bush', 'jr', 'cédéao', 'transition', 'conservatoire', 'temporaire', 'goïta', 'cedeao', 'inacceptable', 'arrestation', 'daw', 'moctar', 'takuba', 'suspension', 'jury', 'lci', 'progressif', 'amer', 'surge', 'sursaut', 'structurel', 'fatalisme', 'commande', 'fonctionnement', 'soucieux', 'argument', 'politisation', 'tuilage', 'continuité', 'hypothèse', 'interposition', 'misnusma', 'bien', 'chronologie', 'amont', 'composante', 'anomie', 'ambiguïté', 'fermeté', 'compromission', 'abidjan', 'académie', 'vraisemblable', 'instable', 'solhan', 'acled', 'basket', 'hamane', 'niang', 'inaction', 'fiba', 'colonie', 'prédominance', 'correspondance', 'tolérance', 'sincère', 'comportement', 'présomption', 'innocence', 'professeur', 'richard', 'mclaren', 'symptôme', 'appellation', 'salve', 'essaim', 'nuée', 'pilote', 'acuité', 'arménie', 'automne', 'hantise', 'antidrone', 'révision', 'sputnik', 'teinte', 'traité', 'start', 'réduction', 'déclenchement', 'horizon', 'cristallisation', 'taïwan', 'hausse', 'economist', 'orion', 'gamme', 'incapable', 'raisonnable', 'dévastateur', 'griffon', 'jaguar', 'frégate', 'phénix', 'innovation', 'cyberdéfense', 'lecointre', 'pandémie', 'implantation', 'wiesbaden', 'découpage', 'gel', 'african', 'lion', 'africa', 'chris', 'maléfique', 'vicenza', 'livourne', 'darby', 'limitrophe', 'participation', 'italien', 'croissant', 'conjoint', 'aire', 'coltan', 'oligopole', 'recours', 'assujettissement', 'manlio', 'dinucci', 'miroir', 'zulu', 'apparence', 'mosaïque', 'indépendantiste', 'tigré', 'pertinence', 'postulat', 'culpabilité', 'décoloniau', 'forteresse', 'académique', 'universitaire', 'catherine', 'administratif', 'portugais', 'sotho', 'xhosa', 'ovimbundu', 'kongo', 'angola', 'kru', 'mano', 'temné', 'mendé', 'sierra', 'leone', 'baoulé', 'bété', 'oromo', 'amhara', 'hutu', 'darod', 'saab', 'somalie', 'toubou', 'sara', 'cnrs', 'africanisme', 'absurde', 'droukdel', 'oubéida', 'calme', 'apocalyptique', 'non', 'infection', 'septicémie', 'bavardage', 'européocentré', 'transfrontalier', 'venue', 'odéon', 'parvis', 'altercation', 'odeon', 'joute', 'intéressant', 'portable', 'silencieux', 'antiblanche', 'dire', 'typique', 'dieudonniste', 'quenelle', 'quenellessont', 'soralien', 'traore', 'haineux', 'hein', 'victimisation', 'mehdi', 'aifa', 'zadi', 'masculin', 'zecler', 'producteur', 'rap', 'huyghe', 'iris', 'ouvrage', 'intimiste', 'maïmonatou', 'mar', 'dignité', 'woke', 'progressiste', 'réfractaire', 'imaginaire', 'multiculturel', 'story', 'success', 'douleur', 'angoisse', 'traversée', 'fratrie', 'réappropriation', 'émotionnel', 'américaine', 'ndlr', 'héroïne', 'identitaire', 'colonisateur', 'miracle', 'cmt', 'pluraliste', 'tectonique', 'chaotique', 'bruxellois', 'lobbying', 'marque', 'ccfd', 'solidaire', 'misereor', 'organisme', 'acat', 'zaghawa', 'tibesti', 'chalouba', 'ouadaï', 'diktat', 'totalitarisme', 'sudiste', 'compère', 'odieux', 'hypocrite', 'pitié', 'habyarimana', 'éternité', 'médical', 'malte', 'perspective', 'tribune', 'florian', 'philippot', 'sédition', 'créateur', 'paragraphe', 'inventeur', 'peau', 'délinquance', 'instrumentalisation', 'communautarisme', 'norme', 'professionnel', 'déchéance', 'pronunciamento', 'définition', 'alarme', 'factieux', 'failli', 'tyrannie', 'médiatisation', 'mondialiste', 'affaiblissement', 'mélenchon', 'divination', 'électoral', 'vote', 'lumpenprolétariat', 'socio', 'psycho', 'veuille', 'réservoir', 'nuance', 'électeur', 'syndical', 'cohésion', 'prime', 'tv', 'électoraliste', 'positionnement', 'antinational', 'douce', 'classe', 'socialisme', 'ruisseler', 'marchepourleclimat', 'bifurcation', 'écologique', 'minute', 'ن', 'fayard', 'kampf', 'contextualisation', 'renom', 'florent', 'brayard', 'andreas', 'wirsching', 'henry', 'christian', 'ingrao', 'tissu', 'volume', 'style', 'rugueux', 'tortueux', 'folie', 'paranoïaque', 'totem', 'curieux', 'herbe', 'fameux', 'quetel', 'comparaison', 'vogue', 'inde', 'fascinant', 'kersten', 'himmler', 'masseur', 'estomac', 'nazi', 'ss', 'manipule', 'fur', 'hypnotique', 'bouddha', 'inconscient', 'naufrage', 'détaillant', 'kersaudy', 'allusion', 'schindler', 'assassin', 'classique', 'meurtrier', 'paty', 'chichon', 'incandescence', 'fondamentalisme', 'express', 'cible', 'étude', 'antisémite', 'danemark', 'chercheur', 'suédois', 'exposition', 'geste', 'salaud', 'torture', 'dame', 'retraite', 'paradoxe', 'contre', 'vitre', 'plexiglas', 'isolement', 'inhumain', 'marguerite', 'ehpad', 'sépulture', 'ami', 'incompréhensible', 'bretagne', 'carcéral', 'anne', 'bucher', 'mathématicien', 'miquel', 'bary', 'pradelski', 'adoption', 'outil', 'hésite', 'vaccin', 'reconfinement', 'strict', 'supportable', 'privilège', 'accessible', 'raoult', 'moyenne', 'pda', 'médiamétrie', 'tnt', 'rediffusion', 'comédie', 'élève', 'ducobu', 'semoun', 'blanche', 'gardin', 'marina', 'foïs', 'flamboyance', 'michèle', 'bernier', 'présentation', 'cinéma', 'carte', 'panthéonisation', 'gisèle', 'halimi', 'benjamin', 'stora', 'élisabeth', 'moreno', 'préconisation', 'unanime', 'proposition', 'ceuta', 'sputnikvidéo', 'désapprobation', 'hospitalisation', 'brahim', 'spécialiste', 'transport', 'pauvreté', 'tourisme', 'frontex', 'covid', 'trentenaire', 'magie', 'marabout', 'francilien', 'aimé', 'sorcier', 'visioconférence', 'rituel', 'neutre', 'location', 'airbnb', 'photo', 'parfum', 'citron', 'sac', 'appartement', 'fermé', 'stupidité', 'moussaka', 'cuisinier', 'recette', 'demba', 'cuisine', 'plat', 'potiron', 'riz', 'cuit', 'aventure', 'label', 'gamelle', 'viiie', 'arrondissement', 'repas', 'passion', 'foie', 'saveur', 'quiche', 'élodie', 'lidl', 'handicapé', 'huissier', 'close', 'fenêtre', 'karine', 'béthune', 'nourriture', 'autopsie', 'lampin', 'faim', 'soif', 'obscéne', 'lénie', 'blue', 'dénutrition', 'dran', 'succession', 'meurtrie', 'aîné', 'crapuleux', 'réclusion', 'avance', 'délire', 'apéro', 'nohra', 'luc', 'gaulois', 'conclusion', 'judiciaire', 'sarah', 'meyer', 'habib', 'imagepour', 'composition', 'sylvain', 'maillard', 'pupponi', 'laetitia', 'aurore', 'joaillerie', 'luxe', 'betar', 'irresponsabilité', 'kobili', 'délinquant', 'toxicomane', 'psychiatrique', 'lucie', 'affront', 'considération', 'jugement', 'cassation', 'discernement', 'jugé', 'clôture', 'ihuellou', 'obscurantisme', 'sarahhalimi', 'happy', 'reconstitution', 'monsieur', 'permission', 'borgne', 'magistrat', 'instructeur', 'craquage', 'phrase', 'paire', 'georges', 'fenech', 'organigramme', 'refus', 'prétexte', 'collège', 'fusible', 'administration', 'rouage', 'hermine', 'mark', 'zuckerberg', 'centrafique', 'ougandais', 'yoweri', 'concurrent', 'bobi', 'transnationale', 'atlantic', 'interférence', 'snowden', 'nsa', 'hezbollah', 'télévision', 'dunia', 'ikhbariya', 'disposition', 'shelley', 'kasli', 'rédacteur', 'game', 'narendra', 'modi', 'russiagate', 'démission', 'telesur', 'bolivie', 'cuba', 'équateur', 'uruguay', 'solly', 'époux', 'roux', 'vedette', 'adjoint', 'david', 'cameron', 'câble', 'réprobation', 'multinationale', 'tillabéri', 'proclamation', 'midi', 'précision', 'ouallam', 'élu', 'hôpital', 'tongo', 'bazoum', 'anzourou', 'villageois', 'toumour', 'rasta', 'rocket', 'ca', 'australien', 'besace', 'ver', 'solitaire', 'avantageux', 'bénéfice', 'ancrage', 'déficit', 'comptable', 'illogique', 'impôt', 'exact', 'contribution', 'fiscal', 'mer', 'tarter', 'dépolarisé', 'ingagnable', 'pompon', 'dam', 'reuters', 'millier', 'contrepartie', 'discret', 'vrp', 'golfe', 'définitif', 'pré', 'carré', 'préoccupant', 'incohérent', 'inconciliable', 'incompatible', 'dévolution', 'pacte', 'xavier', 'poussard', 'pièce', 'contrecarre', 'giron', 'mouche', 'tigre', 'realgeopolitik', 'col', 'mao', 'superpuissance', 'choguel', 'concertation', 'autonome', 'consultation', 'règle', 'kremlin', 'distinguo', 'attachement', 'contingent', 'censé', 'sergueï', 'lavrov', 'torrent', 'dégoût', 'grassement', 'élevé', 'mérite', 'noire', 'esclavagisme', 'colonialisme', 'sache', 'syntaxe', 'éloquence', 'robe', 'geisha', 'gorgone', 'baron', 'edmond', 'mince', 'expertise', 'pis', 'polygame', 'elisabeth', 'normande', 'hatoumma', 'caf', 'family', 'super', 'amiante', 'structuration', 'indice', 'repli', 'mondial', 'marquant', 'extraordinaire', 'acceptation', 'joan', 'hoey', 'belgique', 'évaluation', 'pluralisme', 'baisse', 'classement', 'traîne', 'plateforme', 'participative', 'numbeo', 'ressenti', 'top', 'sûreté', 'apparition', 'bordeaux', 'doha', 'taipei', 'québec', 'zurich', 'durban', 'pretoria', 'avis', 'pollution', 'immobilier', 'canal', 'culot', 'insiste', 'pernaut', 'bébête', 'show', 'malsain', 'jt', 'abominable', 'facho', 'conception', 'militantisme', 'autoroute', 'désolant', 'parodie', 'sketch', 'sébastien', 'thoen', 'séraphine', 'cazarre', 'pascal', 'praud', 'winamax', 'foot', 'libéral', 'cnew', 'lycée', 'jonathan', 'cohen', 'taquet', 'ménès', 'cyril', 'endroit', 'bolloré', 'adulescent', 'antenne', 'orfraie', 'rude', 'croissance', 'magnat', 'vivendi', 'consensus', 'suicide', 'convention', 'polémiste', 'immeuble', 'haussmannien', 'éditorialiste', 'placide', 'cnbc', 'causeur', 'nationalisme', 'croyance', 'prééminence', 'pluralité', 'yoram', 'hazony', 'orwell', 'respectable', 'substitut', 'patriotisme', 'pico', 'récit', 'berry', 'comédien', 'louange', 'faille', 'mari', 'dominant', 'épouse', 'maladresse', 'furieux', 'tri', 'entourage', 'déprogrammation', 'téléfilm', 'zohra', 'bitan', 'immanquablesgg', 'camille', 'géraldine', 'quête', 'pureté', 'oppression', 'amoral', 'gala', 'témoignage', 'étudiant', 'nekkiche', 'francophone', 'nadège', 'abderrazak', 'sid', 'ghozali', 'leçon', 'rente', 'conjoncturel', 'épuisement', 'envolée', 'susceptible', 'titanic', 'perdition', 'joker', 'habituel', 'aiguille', 'encadrement', 'qatari', 'mouamar', 'dévoué', 'renversement', 'fama', 'victoria', 'nuland', 'équipage', 'chalutier', 'sergei', 'ryabkov', 'aimable', 'interaction', 'diplomatique', 'pessimiste', 'genève', 'chelem', 'yalta', 'vent', 'aviv', 'mécontentement', 'soviétique', 'selle', 'locution', 'cmp', 'khalifa', 'seif', 'kaddafi', 'exploration', 'désireux', 'asie', 'tadjikistan', 'biden', 'installation', 'délégation', 'odeur', 'sainteté', 'levée', 'interdiction', 'administratsiya', 'prezidenta', 'kozak', 'conversation', 'triomphaliste', 'bonheur', 'normalisation', 'approfondi', 'constructif', 'minsk', 'spécial', 'violon', 'dmitry', 'attitude', 'kgb', 'géorgie', 'trompette', 'belli', 'étrange', 'format', 'attrait', 'adhésion', 'parlant', 'antagonisme', 'dictature', 'sacrifieraient', 'deal', 'adam', 'collecte', 'spam', 'intelligence', 'injuste', 'messenger', 'whatsapp', 'oculus', 'workplace', 'portal', 'novi', 'libra', 'panier', 'serling', 'utilisateur', 'analytica', 'steve', 'bannon', 'filiale', 'aggregateiq', 'indien', 'mauricio', 'macri', 'nigel', 'farage', 'carson', 'cruz', 'iceberg', 'électronique', 'prism', 'newton', 'lee', 'defense', 'tia', 'amiral', 'poindexter', 'darpa', 'tayyip', 'reine', 'elizabeth', 'mobilisation', 'impact', 'insu', 'contagion', 'influent', 'think', 'tank', 'hughes', 'mybo', 'concepteur', 'operation', 'atteinte', 'explosion', 'ouganda', 'fact', 'alphabet', 'anglophone', 'justin', 'trudeau', 'alberto', 'fernandez', 'cristina', 'kirchner', 'rival', 'alerte', 'haugen', 'wall', 'street', 'sénat', 'numérique', 'amendement', 'taliban', 'défaite', 'fuel', 'paria', 'triomphe', 'informatique', 'photographie', 'chimique', 'présumée', 'ghoutta', 'décennale', 'joe', 'abdallah', 'cheikh', 'ben', 'zayed', 'filippo', 'damas', 'hébergeaient', 'reconduction', 'pkk', 'iraq', 'tchétchénie', 'deraa', 'osman', 'kavala', 'george', 'augure', 'prévenu', 'arrogance', 'fronde', 'radieux', 'amos', 'hochstein', 'navette', 'tsahal', 'fête', 'ramadan', 'nabbi', 'circonscription', 'bitar', 'quantité', 'diab', 'rafic', 'hariri', 'véhémence', 'dessaisissement', 'quartier', 'chrétien', 'cortège', 'samir', 'geagea', 'trentaine', 'instigation', 'champion', 'disciple', 'penseur', 'colonialiste', 'jabotinsky', 'téhéran', 'lenteur', 'raïssi', 'ebrahim', 'riyad', 'golan', 'evgueni', 'prigojine', 'réveillé', 'sédentaire', 'novosti', 'instrumentation', 'homologue', 'fabius', 'junte', 'sankara', 'prestation', 'proclame', 'technologie', 'technique', 'néant', 'beijing', 'pyongyang', 'bouclier', 'impuissant', 'triomphal', 'routier', 'redéploiement', 'crainte', 'désastre', 'centrafrique', 'prisme', 'bag', 'séculaire', 'remplaçant', 'concentration', 'inverse', 'secondaire', 'romantisme', 'caricatural', 'surréalisme', 'commandant', 'appréciation', 'minianka', 'minoritaire', 'sénoufo', 'ulcéra', 'obstiné', 'kagamé', 'urgente', 'inconvénient', 'redéfinition', 'philosophie', 'obsession', 'ethnographie', 'renoncement', 'vaccination', 'html', 'transmission', 'réinformation', 'exploitable', 'numération', 'publication', 'world', 'joueur', 'péricardite', 'pfizer', 'inflammation', 'cardiaque', 'stephen', 'confidentialité', 'adham', 'entraîneur', 'égyptien', 'caire', 'selhdar', 'majd', 'zarqa', 'alexandrie', 'club', 'ismaili', 'romina', 'angelis', 'padel', 'inexplicable', 'subite', 'anévrisme', 'grappa', 'soudain', 'league', 'supporter', 'malaise', 'southampton', 'leicester', 'city', 'inquiétude', 'lara', 'gut', 'behrami', 'ski', 'respiration', 'louise', 'entrainement', 'sofia', 'goggia', 'staff', 'souffle', 'coupé', 'rhume', 'autriche', 'nakiska', 'taekwondo', 'biktimirova', 'âgée', 'mystère', 'dave', 'bodybuilder', 'nouvelle', 'bodybuilding', 'résident', 'culturiste', 'nfl', 'stan', 'kwan', 'collègue', 'ferguson', 'sommeil', 'francisco', 'internationale', 'écossaise', 'siobhan', 'cattigan', 'rugby', 'xv', 'charbon', 'sélection', 'féminin', 'ecosse', 'écossais', 'comté', 'stirling', 'stage', 'snu', 'tweeter', 'vacciner', 'enceinte', 'alentours', 'citoyenneté', 'résilience', 'durable', 'gardien', 'triangle', 'ronald', 'mudimu', 'vasculaire', 'cérébral', 'motor', 'junior', 'nathan', 'valencia', 'nevada', 'las', 'vegas', 'ring', 'studen', 'boxe', 'détail', 'complet', 'compétition', 'avc', 'fatimah', 'shabazz', 'volleyball', 'boston', 'senior', 'chemise', 'cincinnatienne', 'tournoi', 'athlétisme', 'nc', 'darvin', 'henderson', 'arnaud', 'mazy', 'jemeppe', 'visiteur', 'mésaventure', 'tony', 'lanceur', 'similaire', 'nécrologie', 'biographie', 'wikipedia', 'ayers', 'open', 'performance', 'darts', 'corporation', 'championnat', 'pdc', 'gdynia', 'pologne', 'mieczysław', 'pasierbski', 'polonais', 'haltérophilie', 'jambe', 'genou', 'dose', 'thrombose', 'jan', 'pospieszalski', 'athlète', 'injection', 'fièvre', 'ambulance', 'horrible', 'blessure', 'amputation', 'prague', 'heidhin', 'éducatrice', 'crèche', 'dundalk', 'young', 'judoka', 'guadeloupéen', 'kenny', 'livèze', 'judo', 'perpignan', 'montpellier', 'émoi', 'médaillé', 'acbb', 'triathlète', 'dubois', 'marathon', 'ymeray', 'électrocardiogramme', 'anomalie', 'batterie', 'cardiologue', 'infarctus', 'nécrose', 'quadruple', 'pontage', 'coronarien', 'quadragénaire', 'trail', 'décuple', 'ironman', 'natation', 'dimattina', 'sévère', 'afl', 'héraut', 'footballeur', 'matt', 'tissier', 'sheffield', 'fleck', 'reading', 'civière', 'oxygène', 'bbc', 'tragédie', 'leon', 'taylor', 'gentleman', 'darlaston', 'intimité', 'attaquant', 'sheriff', 'poitrine', 'madrid', 'précaution', 'tiraspol', 'duel', 'anodin', 'nacho', 'vestiaire', 'conscient', 'maxim', 'cojocaru', 'moldave', 'manille', 'roider', 'cabrera', 'manche', 'pba', 'dyip', 'medical', 'terrafirma', 'discrétion', 'meralco', 'barangay', 'ginebra', 'maillot', 'wigan', 'sportif', 'vacciné', 'amateur', 'oscar', 'kuau', 'suta', 'pass', 'coma', 'caremeau', 'riuler', 'oliveira', 'faustino', 'internacional', 'coritiba', 'athletico', 'shonan', 'bellmare', 'défensif', 'são', 'paulo', 'hiratsuka', 'étoile', 'jab', 'trevor', 'sinclair', 'talksport', 'station', 'youtube', 'interruption', 'olympique', 'rio', 'fabio', 'basile', 'garçon', 'tiziana', 'dur', 'tendre', 'salut', 'mike', 'chair', 'instagram', 'côme', 'cristian', 'sportolloni', 'cogliatese', 'calcio', 'volant', 'asd', 'figino', 'serenza', 'sp', 'conducteur', 'hélicoptère', 'areu', 'deportivo', 'artère', 'dépliant', 'santo', 'tauro', 'stade', 'maracaná', 'séance', 'este', 'crâne', 'carniectomie', 'intubé', 'diagnostic', 'panaméen', 'cléon', 'éducateur', 'basketball', 'citadelle', 'duggar', 'baucom', 'touche', 'duke', 'indoor', 'citadel', 'stadium', 'fichier', 'préméditation', 'déséquilibré', 'voisinage', 'verbe', 'haïm', 'korsia', 'irresponsable', 'tort', 'bouffée', 'bensussan', 'persécution', 'possession', 'satanique', 'magnan', 'patient', 'trouble', 'serein', 'schizophrénique', 'aigu', 'balcon', 'mitoyen', 'fragilité', 'psychologique', 'consommation', 'fatal', 'judéité', 'dénué', 'motivation', 'casier', 'outrage', 'évocation', 'psychique', 'serviable', 'gentil', 'fiancée', 'consommateur', 'cannabis', 'adolescence', 'morand', 'exorciste', 'empoisonner', 'marabouter', 'invective', 'soeur', 'accusant', 'congédie', 'punisher', 'pyjama', 'effrayant', 'salon', 'enjambe', 'viscéral', 'théorisation', 'portée', 'échauffement', 'aigreur', 'mutation', 'monguillot', 'chauffeur', 'bus', 'mélanie', 'chauffard', 'axelle', 'dorier', 'traînée', 'sentencieux', 'boue', 'homogénéité', 'bâton', 'inénarrable', 'drancy', 'hassen', 'enthoven', 'adoubement', 'jordan', 'bardella', 'kobilitraore', 'jugerla', 'april', 'coeur', 'trocadéro', 'dray', 'marek', 'halter', 'psychiatre', 'suffi', 'communautaire', 'lang', 'malin', 'modification', 'pervers', 'interministériel', 'dilcra', 'ébullition', 'vengeance', 'collégialité', 'exclusivité', 'frédéric', 'rouillon', 'umd', 'henri', 'colin', 'dissension', 'démon', 'auxiliaire', 'déclencheur', 'thc', 'intoxication', 'apaisement', 'agressif', 'baril', 'poudre', 'judaïsme', 'attal', 'chandelier', 'daniel', 'zagury', 'altération', 'schizophrénie', 'efflorescence', 'raisonnement', 'expérimenté', 'dépénalisation', 'déliré', 'intentionnalité', 'lucidité', 'personnalité', 'imperméable', 'assimilation', 'désarroi', 'formule', 'stupide', 'obscène', 'joint', 'psychiatrie', 'perrier', 'vergogne', 'pédagogie', 'éclairage', 'délit', 'particularité', 'réanimation', 'francis', 'szpiner', 'imposteur', 'injure', 'heur', 'exigence', 'courtoisie', 'facile', 'ego', 'homère', 'odyssée', 'cahier', 'antique', 'dogme', 'individualisme', 'mercantilisme', 'séduction', 'bouillie', 'pépita', 'bonniche', 'pyramide', 'patrice', 'tmc', 'os', 'pepita', 'honteux', 'tpmp', 'humiliation', 'sadisme', 'télévisuel', 'philosophe', 'ollivier', 'pourriol', 'marigot', 'superprédateur', 'alimentaire', 'animal', 'prédateur', 'écosystème', 'balance', 'arène', 'baston', 'griffe', 'moche', 'paternalisme', 'manichéisme', 'hollywoodien', 'yao', 'chasseur', 'panel', 'souci', 'potiche', 'pouf', 'rondelle', 'audiovisuel', 'bateau', 'sy', 'esclave', 'interminable', 'thibaud', 'chevalier', 'arménien', 'blanchot', 'compagnon', 'xiie', 'lapidation', 'chevalerie', 'tchadien', 'idriss', 'suprême', 'azem', 'bermandoa', 'agouna', 'mahamat', 'intérim', 'tutelle', 'dissolution', 'rébellion', 'treillis', 'douteux', 'timan', 'erdimi', 'neveu', 'rebelle', 'présidentiel', 'gré', 'stabilisateur', 'aguerrie', 'nigérian', 'encombrant', 'piètre', 'idh', 'condoléance', 'ant', 'diversion', 'ennedi', 'tom', 'erdibi', 'bideyat', 'ufr', 'darfour', 'tama', 'bao', 'compromis', 'concorde', 'daza']\n"
     ]
    }
   ],
   "source": [
    "docFinal = []\n",
    "key='kws'\n",
    "tabWord = []\n",
    "\n",
    "for annee in data[\"data-all\"]:\n",
    "    for mois in data[\"data-all\"][annee]:\n",
    "        for article in data[\"data-all\"][annee][mois]:\n",
    "            dat = data[\"data-all\"][annee][mois][article][0]['content'].split()\n",
    "            dat = [doc.lower() for doc in dat]\n",
    "            nDat = []\n",
    "            for mot in dat:\n",
    "                nMot = mot\n",
    "                for l in mot:\n",
    "                    if l in ponctuations:\n",
    "                        if l == mot[0] or l == mot[len(mot) - 1]:\n",
    "                            nMot = nMot.replace(l, \"\")\n",
    "                        else:\n",
    "                            indice = mot.index(l)\n",
    "                            nMot = mot.replace(l, \"\")\n",
    "                            nMot = mot[:indice - 1] + mot[indice + 1:]\n",
    "\n",
    "                if nMot in data[\"data-all\"][annee][mois][article][0][key]:\n",
    "                    nDat.append(nMot)\n",
    "                    if nMot not in tabWord :\n",
    "                        tabWord.append(nMot)\n",
    "            docFinal.append(nDat)\n",
    "\n",
    "documents = [\" \".join(doc) for doc in docFinal]\n",
    "print(documents[0])\n",
    "print(tabWord)"
   ],
   "metadata": {
    "collapsed": false,
    "ExecuteTime": {
     "end_time": "2024-01-06T22:36:11.767477500Z",
     "start_time": "2024-01-06T22:36:10.814065800Z"
    }
   },
   "id": "b10856b8a8a94126"
  },
  {
   "cell_type": "markdown",
   "source": [
    "**Création du modèle word2vec avec 2 dimensions**"
   ],
   "metadata": {
    "collapsed": false
   },
   "id": "4f8e7954074d861a"
  },
  {
   "cell_type": "code",
   "execution_count": 20,
   "outputs": [],
   "source": [
    "modele = Word2Vec(docFinal, vector_size=2, window=5)"
   ],
   "metadata": {
    "collapsed": false,
    "ExecuteTime": {
     "end_time": "2024-01-06T22:36:11.872945200Z",
     "start_time": "2024-01-06T22:36:11.765477Z"
    }
   },
   "id": "d5650a1eaf3225c5"
  },
  {
   "cell_type": "markdown",
   "source": [
    "**Vectorisation des mots**"
   ],
   "metadata": {
    "collapsed": false
   },
   "id": "d09ed9ad9409c3db"
  },
  {
   "cell_type": "code",
   "execution_count": 21,
   "outputs": [],
   "source": [
    "words = modele.wv"
   ],
   "metadata": {
    "collapsed": false,
    "ExecuteTime": {
     "end_time": "2024-01-06T22:36:11.893646600Z",
     "start_time": "2024-01-06T22:36:11.873945600Z"
    }
   },
   "id": "a0aad9a36a66c416"
  },
  {
   "cell_type": "markdown",
   "source": [
    "**Similarité entre 2 mots**"
   ],
   "metadata": {
    "collapsed": false
   },
   "id": "845949272277c55f"
  },
  {
   "cell_type": "code",
   "execution_count": 22,
   "outputs": [
    {
     "name": "stdout",
     "output_type": "stream",
     "text": [
      "0.9928995\n"
     ]
    }
   ],
   "source": [
    "mot1 = \"mali\"\n",
    "mot2 = \"attaque\"\n",
    "print(words.similarity(mot1, mot2))"
   ],
   "metadata": {
    "collapsed": false,
    "ExecuteTime": {
     "end_time": "2024-01-06T22:36:11.936118900Z",
     "start_time": "2024-01-06T22:36:11.889636900Z"
    }
   },
   "id": "8ff81a126ff3ef34"
  },
  {
   "cell_type": "markdown",
   "source": [
    "**Mots les plus proches d'un autre**"
   ],
   "metadata": {
    "collapsed": false
   },
   "id": "bf365993f632ba6e"
  },
  {
   "cell_type": "code",
   "execution_count": 23,
   "outputs": [
    {
     "name": "stdout",
     "output_type": "stream",
     "text": [
      "[('compte', 1.0), ('vie', 0.9999998807907104), ('irak', 0.999999463558197), ('existence', 0.9999993443489075), ('mélenchon', 0.9999992847442627), ('discours', 0.9999992847442627), ('expansion', 0.9999985694885254), ('série', 0.999998152256012), ('arrêt', 0.9999973177909851), ('ouest', 0.9999971985816956)]\n"
     ]
    }
   ],
   "source": [
    "mot = \"mali\"\n",
    "print(words.most_similar(mot))"
   ],
   "metadata": {
    "collapsed": false,
    "ExecuteTime": {
     "end_time": "2024-01-06T22:36:11.938197300Z",
     "start_time": "2024-01-06T22:36:11.906437300Z"
    }
   },
   "id": "91bfbd2558a5460"
  },
  {
   "cell_type": "markdown",
   "source": [
    "**Mots les plus proches de la conjonction de \"mot1\" et \"mot2\" avec \"nbMots\" mots**"
   ],
   "metadata": {
    "collapsed": false
   },
   "id": "c7ce6d76e5d6c58e"
  },
  {
   "cell_type": "code",
   "execution_count": 24,
   "outputs": [
    {
     "name": "stdout",
     "output_type": "stream",
     "text": [
      "[('suite', 0.9999998807907104), ('célèbre', 0.9999998807907104), ('soral', 0.9999995231628418), ('bon', 0.9999995231628418)]\n"
     ]
    }
   ],
   "source": [
    "mot1 = \"attaque\"\n",
    "mot2 = \"mali\"\n",
    "nbMots = 4\n",
    "print(words.most_similar(positive=[mot1, mot2], topn=nbMots))"
   ],
   "metadata": {
    "collapsed": false,
    "ExecuteTime": {
     "end_time": "2024-01-06T22:36:11.998440400Z",
     "start_time": "2024-01-06T22:36:11.922537700Z"
    }
   },
   "id": "b0722d778caea8c5"
  },
  {
   "cell_type": "markdown",
   "source": [
    "**Mots les plus proches de \"mot1\" et loin de \"mot2\" avec \"nbMots\" mots**"
   ],
   "metadata": {
    "collapsed": false
   },
   "id": "116d6d14a4e30967"
  },
  {
   "cell_type": "code",
   "execution_count": 25,
   "outputs": [
    {
     "name": "stdout",
     "output_type": "stream",
     "text": [
      "[('édouard', 0.9939910769462585), ('neuf', 0.9486381411552429), ('rappel', 0.9296767115592957), ('parlementaire', 0.8945932984352112)]\n"
     ]
    }
   ],
   "source": [
    "mot1 = \"an\"\n",
    "mot2 = \"mali\"\n",
    "nbMots = 4\n",
    "print(words.most_similar(positive=[mot1], negative=[mot2], topn=nbMots))"
   ],
   "metadata": {
    "collapsed": false,
    "ExecuteTime": {
     "end_time": "2024-01-06T22:36:12.001438400Z",
     "start_time": "2024-01-06T22:36:11.934897500Z"
    }
   },
   "id": "c7cf1e36cafc868"
  },
  {
   "cell_type": "markdown",
   "source": [
    "**Récupérer un ensemble de donnée dans un dataFrame**"
   ],
   "metadata": {
    "collapsed": false
   },
   "id": "cae464d0e4f7af21"
  },
  {
   "cell_type": "code",
   "execution_count": 26,
   "outputs": [
    {
     "name": "stdout",
     "output_type": "stream",
     "text": [
      "Index(['france', 'mali', 'pays', 'français', 'président', 'état', 'politique',\n",
      "       'sahel', 'armée', 'monde',\n",
      "       ...\n",
      "       'bouhafs', 'structure', 'fou', 'coupe', 'effet', 'criminel', 'crif',\n",
      "       'attente', 'reconnaissance', 'rebelle'],\n",
      "      dtype='object', length=991)\n"
     ]
    }
   ],
   "source": [
    "df = pd.DataFrame(words.vectors, columns=['V1', 'V2'], index=words.key_to_index.keys())\n",
    "print(df.index)\n",
    "\n",
    "#sauvegarde du data frame\n",
    "# df.to_csv('./data/Dashboard/kws/Word2VecVector/df_kws_word2vec_vector----france--fr.sputniknews.africa.csv')"
   ],
   "metadata": {
    "collapsed": false,
    "ExecuteTime": {
     "end_time": "2024-01-06T22:36:12.002437500Z",
     "start_time": "2024-01-06T22:36:11.951676500Z"
    }
   },
   "id": "b564fc4688c7e88e"
  },
  {
   "cell_type": "markdown",
   "source": [
    "**Affichage de ces mots sur un graphique**"
   ],
   "metadata": {
    "collapsed": false
   },
   "id": "a39b3b5f3466f9e2"
  },
  {
   "cell_type": "code",
   "execution_count": 27,
   "outputs": [
    {
     "name": "stderr",
     "output_type": "stream",
     "text": [
      "C:\\Users\\Mathieu\\AppData\\Local\\Temp\\ipykernel_33244\\4048657312.py:3: FutureWarning:\n",
      "\n",
      "Series.__getitem__ treating keys as positions is deprecated. In a future version, integer keys will always be treated as labels (consistent with DataFrame behavior). To access a value by position, use `ser.iloc[pos]`\n",
      "\n"
     ]
    },
    {
     "data": {
      "text/plain": "<Figure size 640x480 with 1 Axes>",
      "image/png": "[encoded data removed]"
     },
     "metadata": {},
     "output_type": "display_data"
    }
   ],
   "source": [
    "plt.scatter(df.V1.head(10), df.V2.head(10), s=0.5)\n",
    "for i in range(10):\n",
    "    plt.annotate(df.index[i], (df.V1[i], df.V2[i]))\n",
    "plt.show()"
   ],
   "metadata": {
    "collapsed": true,
    "ExecuteTime": {
     "end_time": "2024-01-06T22:36:12.201409200Z",
     "start_time": "2024-01-06T22:36:11.967439200Z"
    }
   },
   "id": "initial_id"
  },
  {
   "cell_type": "markdown",
   "source": [
    "----------------------"
   ],
   "metadata": {
    "collapsed": false
   },
   "id": "5f0b5d96b6cb7a0e"
  },
  {
   "cell_type": "markdown",
   "source": [
    "# Matrice de coocurrence"
   ],
   "metadata": {
    "collapsed": false
   },
   "id": "8f56c39a5019f454"
  },
  {
   "cell_type": "markdown",
   "source": [
    "**Récupération des mots les plus cités**"
   ],
   "metadata": {
    "collapsed": false
   },
   "id": "fb259a3a3d960016"
  },
  {
   "cell_type": "code",
   "execution_count": 28,
   "outputs": [
    {
     "name": "stdout",
     "output_type": "stream",
     "text": [
      "    Keywords  Nombre occurrences\n",
      "0         an            0.007674\n",
      "1       état            0.006127\n",
      "2       pays            0.005740\n",
      "3  militaire            0.004610\n",
      "4  politique            0.004402\n",
      "5      armée            0.004313\n",
      "6  président            0.004223\n",
      "7      grand            0.003926\n",
      "8      force            0.003688\n",
      "9    afrique            0.003539\n"
     ]
    }
   ],
   "source": [
    "articles = ['mali--www.egaliteetreconciliation.fr',\n",
    "               'mali--french.presstv.ir',\n",
    "               'mali--fr.sputniknews.africa',\n",
    "               'france--www.fdesouche.com',\n",
    "               'france--www.egaliteetreconciliation.fr',\n",
    "               'france--french.presstv.ir',\n",
    "               'france--fr.sputniknews.africa']\n",
    "\n",
    "doc = articles[0]\n",
    "\n",
    "kws = pd.read_csv(f\"./data/Dashboard/kws/df_kws_occ_sans_france_mali----{doc}.csv\")\n",
    "df_subset_kws = kws.head(10)\n",
    "\n",
    "print(df_subset_kws)"
   ],
   "metadata": {
    "collapsed": false,
    "ExecuteTime": {
     "end_time": "2024-01-06T22:36:12.302672800Z",
     "start_time": "2024-01-06T22:36:12.200303700Z"
    }
   },
   "id": "ec364376ee2235e5"
  },
  {
   "cell_type": "markdown",
   "source": [
    "**Création de la matrice**"
   ],
   "metadata": {
    "collapsed": false
   },
   "id": "5219cd328ae12246"
  },
  {
   "cell_type": "code",
   "execution_count": 29,
   "outputs": [
    {
     "name": "stdout",
     "output_type": "stream",
     "text": [
      "           an  état  pays  militaire  politique  armée  président  grand  \\\n",
      "an          0     0     0          0          0      0          0      0   \n",
      "état        0     0     0          0          0      0          0      0   \n",
      "pays        0     0     0          0          0      0          0      0   \n",
      "militaire   0     0     0          0          0      0          0      0   \n",
      "politique   0     0     0          0          0      0          0      0   \n",
      "armée       0     0     0          0          0      0          0      0   \n",
      "président   0     0     0          0          0      0          0      0   \n",
      "grand       0     0     0          0          0      0          0      0   \n",
      "force       0     0     0          0          0      0          0      0   \n",
      "afrique     0     0     0          0          0      0          0      0   \n",
      "\n",
      "           force  afrique  \n",
      "an             0        0  \n",
      "état           0        0  \n",
      "pays           0        0  \n",
      "militaire      0        0  \n",
      "politique      0        0  \n",
      "armée          0        0  \n",
      "président      0        0  \n",
      "grand          0        0  \n",
      "force          0        0  \n",
      "afrique        0        0  \n",
      "            an  état  pays  militaire  politique  armée  président  grand  \\\n",
      "an         100    99    99         98         99     99         99     99   \n",
      "état        99   100    99         99         98     99         99     99   \n",
      "pays        99    99   100         99         99     99         99     99   \n",
      "militaire   98    99    99        100         97     99         99     98   \n",
      "politique   99    98    99         97         99     99         99     99   \n",
      "armée       99    99    99         99         99    100         99     99   \n",
      "président   99    99    99         99         99     99        100     99   \n",
      "grand       99    99    99         98         99     99         99    100   \n",
      "force       99    97    98         96         99     98         99     99   \n",
      "afrique     99    99    99         99         99     99         99     99   \n",
      "\n",
      "           force  afrique  \n",
      "an            99       99  \n",
      "état          97       99  \n",
      "pays          98       99  \n",
      "militaire     96       99  \n",
      "politique     99       99  \n",
      "armée         98       99  \n",
      "président     99       99  \n",
      "grand         99       99  \n",
      "force        100       98  \n",
      "afrique       98      100  \n"
     ]
    },
    {
     "data": {
      "application/vnd.plotly.v1+json": {
       "data": [
        {
         "coloraxis": "coloraxis",
         "name": "0",
         "texttemplate": "%{z}",
         "x": [
          "an",
          "état",
          "pays",
          "militaire",
          "politique",
          "armée",
          "président",
          "grand",
          "force",
          "afrique"
         ],
         "y": [
          "an",
          "état",
          "pays",
          "militaire",
          "politique",
          "armée",
          "président",
          "grand",
          "force",
          "afrique"
         ],
         "z": [
          [
           100,
           99,
           99,
           98,
           99,
           99,
           99,
           99,
           99,
           99
          ],
          [
           99,
           100,
           99,
           99,
           98,
           99,
           99,
           99,
           97,
           99
          ],
          [
           99,
           99,
           100,
           99,
           99,
           99,
           99,
           99,
           98,
           99
          ],
          [
           98,
           99,
           99,
           100,
           97,
           99,
           99,
           98,
           96,
           99
          ],
          [
           99,
           98,
           99,
           97,
           99,
           99,
           99,
           99,
           99,
           99
          ],
          [
           99,
           99,
           99,
           99,
           99,
           100,
           99,
           99,
           98,
           99
          ],
          [
           99,
           99,
           99,
           99,
           99,
           99,
           100,
           99,
           99,
           99
          ],
          [
           99,
           99,
           99,
           98,
           99,
           99,
           99,
           100,
           99,
           99
          ],
          [
           99,
           97,
           98,
           96,
           99,
           98,
           99,
           99,
           100,
           98
          ],
          [
           99,
           99,
           99,
           99,
           99,
           99,
           99,
           99,
           98,
           100
          ]
         ],
         "type": "heatmap",
         "xaxis": "x",
         "yaxis": "y",
         "hovertemplate": "x: %{x}<br>y: %{y}<br>color: %{z}<extra></extra>"
        }
       ],
       "layout": {
        "template": {
         "data": {
          "histogram2dcontour": [
           {
            "type": "histogram2dcontour",
            "colorbar": {
             "outlinewidth": 0,
             "ticks": ""
            },
            "colorscale": [
             [
              0.0,
              "#0d0887"
             ],
             [
              0.1111111111111111,
              "#46039f"
             ],
             [
              0.2222222222222222,
              "#7201a8"
             ],
             [
              0.3333333333333333,
              "#9c179e"
             ],
             [
              0.4444444444444444,
              "#bd3786"
             ],
             [
              0.5555555555555556,
              "#d8576b"
             ],
             [
              0.6666666666666666,
              "#ed7953"
             ],
             [
              0.7777777777777778,
              "#fb9f3a"
             ],
             [
              0.8888888888888888,
              "#fdca26"
             ],
             [
              1.0,
              "#f0f921"
             ]
            ]
           }
          ],
          "choropleth": [
           {
            "type": "choropleth",
            "colorbar": {
             "outlinewidth": 0,
             "ticks": ""
            }
           }
          ],
          "histogram2d": [
           {
            "type": "histogram2d",
            "colorbar": {
             "outlinewidth": 0,
             "ticks": ""
            },
            "colorscale": [
             [
              0.0,
              "#0d0887"
             ],
             [
              0.1111111111111111,
              "#46039f"
             ],
             [
              0.2222222222222222,
              "#7201a8"
             ],
             [
              0.3333333333333333,
              "#9c179e"
             ],
             [
              0.4444444444444444,
              "#bd3786"
             ],
             [
              0.5555555555555556,
              "#d8576b"
             ],
             [
              0.6666666666666666,
              "#ed7953"
             ],
             [
              0.7777777777777778,
              "#fb9f3a"
             ],
             [
              0.8888888888888888,
              "#fdca26"
             ],
             [
              1.0,
              "#f0f921"
             ]
            ]
           }
          ],
          "heatmap": [
           {
            "type": "heatmap",
            "colorbar": {
             "outlinewidth": 0,
             "ticks": ""
            },
            "colorscale": [
             [
              0.0,
              "#0d0887"
             ],
             [
              0.1111111111111111,
              "#46039f"
             ],
             [
              0.2222222222222222,
              "#7201a8"
             ],
             [
              0.3333333333333333,
              "#9c179e"
             ],
             [
              0.4444444444444444,
              "#bd3786"
             ],
             [
              0.5555555555555556,
              "#d8576b"
             ],
             [
              0.6666666666666666,
              "#ed7953"
             ],
             [
              0.7777777777777778,
              "#fb9f3a"
             ],
             [
              0.8888888888888888,
              "#fdca26"
             ],
             [
              1.0,
              "#f0f921"
             ]
            ]
           }
          ],
          "heatmapgl": [
           {
            "type": "heatmapgl",
            "colorbar": {
             "outlinewidth": 0,
             "ticks": ""
            },
            "colorscale": [
             [
              0.0,
              "#0d0887"
             ],
             [
              0.1111111111111111,
              "#46039f"
             ],
             [
              0.2222222222222222,
              "#7201a8"
             ],
             [
              0.3333333333333333,
              "#9c179e"
             ],
             [
              0.4444444444444444,
              "#bd3786"
             ],
             [
              0.5555555555555556,
              "#d8576b"
             ],
             [
              0.6666666666666666,
              "#ed7953"
             ],
             [
              0.7777777777777778,
              "#fb9f3a"
             ],
             [
              0.8888888888888888,
              "#fdca26"
             ],
             [
              1.0,
              "#f0f921"
             ]
            ]
           }
          ],
          "contourcarpet": [
           {
            "type": "contourcarpet",
            "colorbar": {
             "outlinewidth": 0,
             "ticks": ""
            }
           }
          ],
          "contour": [
           {
            "type": "contour",
            "colorbar": {
             "outlinewidth": 0,
             "ticks": ""
            },
            "colorscale": [
             [
              0.0,
              "#0d0887"
             ],
             [
              0.1111111111111111,
              "#46039f"
             ],
             [
              0.2222222222222222,
              "#7201a8"
             ],
             [
              0.3333333333333333,
              "#9c179e"
             ],
             [
              0.4444444444444444,
              "#bd3786"
             ],
             [
              0.5555555555555556,
              "#d8576b"
             ],
             [
              0.6666666666666666,
              "#ed7953"
             ],
             [
              0.7777777777777778,
              "#fb9f3a"
             ],
             [
              0.8888888888888888,
              "#fdca26"
             ],
             [
              1.0,
              "#f0f921"
             ]
            ]
           }
          ],
          "surface": [
           {
            "type": "surface",
            "colorbar": {
             "outlinewidth": 0,
             "ticks": ""
            },
            "colorscale": [
             [
              0.0,
              "#0d0887"
             ],
             [
              0.1111111111111111,
              "#46039f"
             ],
             [
              0.2222222222222222,
              "#7201a8"
             ],
             [
              0.3333333333333333,
              "#9c179e"
             ],
             [
              0.4444444444444444,
              "#bd3786"
             ],
             [
              0.5555555555555556,
              "#d8576b"
             ],
             [
              0.6666666666666666,
              "#ed7953"
             ],
             [
              0.7777777777777778,
              "#fb9f3a"
             ],
             [
              0.8888888888888888,
              "#fdca26"
             ],
             [
              1.0,
              "#f0f921"
             ]
            ]
           }
          ],
          "mesh3d": [
           {
            "type": "mesh3d",
            "colorbar": {
             "outlinewidth": 0,
             "ticks": ""
            }
           }
          ],
          "scatter": [
           {
            "marker": {
             "line": {
              "color": "#283442"
             }
            },
            "type": "scatter"
           }
          ],
          "parcoords": [
           {
            "type": "parcoords",
            "line": {
             "colorbar": {
              "outlinewidth": 0,
              "ticks": ""
             }
            }
           }
          ],
          "scatterpolargl": [
           {
            "type": "scatterpolargl",
            "marker": {
             "colorbar": {
              "outlinewidth": 0,
              "ticks": ""
             }
            }
           }
          ],
          "bar": [
           {
            "error_x": {
             "color": "#f2f5fa"
            },
            "error_y": {
             "color": "#f2f5fa"
            },
            "marker": {
             "line": {
              "color": "rgb(17,17,17)",
              "width": 0.5
             },
             "pattern": {
              "fillmode": "overlay",
              "size": 10,
              "solidity": 0.2
             }
            },
            "type": "bar"
           }
          ],
          "scattergeo": [
           {
            "type": "scattergeo",
            "marker": {
             "colorbar": {
              "outlinewidth": 0,
              "ticks": ""
             }
            }
           }
          ],
          "scatterpolar": [
           {
            "type": "scatterpolar",
            "marker": {
             "colorbar": {
              "outlinewidth": 0,
              "ticks": ""
             }
            }
           }
          ],
          "histogram": [
           {
            "marker": {
             "pattern": {
              "fillmode": "overlay",
              "size": 10,
              "solidity": 0.2
             }
            },
            "type": "histogram"
           }
          ],
          "scattergl": [
           {
            "marker": {
             "line": {
              "color": "#283442"
             }
            },
            "type": "scattergl"
           }
          ],
          "scatter3d": [
           {
            "type": "scatter3d",
            "line": {
             "colorbar": {
              "outlinewidth": 0,
              "ticks": ""
             }
            },
            "marker": {
             "colorbar": {
              "outlinewidth": 0,
              "ticks": ""
             }
            }
           }
          ],
          "scattermapbox": [
           {
            "type": "scattermapbox",
            "marker": {
             "colorbar": {
              "outlinewidth": 0,
              "ticks": ""
             }
            }
           }
          ],
          "scatterternary": [
           {
            "type": "scatterternary",
            "marker": {
             "colorbar": {
              "outlinewidth": 0,
              "ticks": ""
             }
            }
           }
          ],
          "scattercarpet": [
           {
            "type": "scattercarpet",
            "marker": {
             "colorbar": {
              "outlinewidth": 0,
              "ticks": ""
             }
            }
           }
          ],
          "carpet": [
           {
            "aaxis": {
             "endlinecolor": "#A2B1C6",
             "gridcolor": "#506784",
             "linecolor": "#506784",
             "minorgridcolor": "#506784",
             "startlinecolor": "#A2B1C6"
            },
            "baxis": {
             "endlinecolor": "#A2B1C6",
             "gridcolor": "#506784",
             "linecolor": "#506784",
             "minorgridcolor": "#506784",
             "startlinecolor": "#A2B1C6"
            },
            "type": "carpet"
           }
          ],
          "table": [
           {
            "cells": {
             "fill": {
              "color": "#506784"
             },
             "line": {
              "color": "rgb(17,17,17)"
             }
            },
            "header": {
             "fill": {
              "color": "#2a3f5f"
             },
             "line": {
              "color": "rgb(17,17,17)"
             }
            },
            "type": "table"
           }
          ],
          "barpolar": [
           {
            "marker": {
             "line": {
              "color": "rgb(17,17,17)",
              "width": 0.5
             },
             "pattern": {
              "fillmode": "overlay",
              "size": 10,
              "solidity": 0.2
             }
            },
            "type": "barpolar"
           }
          ],
          "pie": [
           {
            "automargin": true,
            "type": "pie"
           }
          ]
         },
         "layout": {
          "autotypenumbers": "strict",
          "colorway": [
           "#636efa",
           "#EF553B",
           "#00cc96",
           "#ab63fa",
           "#FFA15A",
           "#19d3f3",
           "#FF6692",
           "#B6E880",
           "#FF97FF",
           "#FECB52"
          ],
          "font": {
           "color": "#f2f5fa"
          },
          "hovermode": "closest",
          "hoverlabel": {
           "align": "left"
          },
          "paper_bgcolor": "rgb(17,17,17)",
          "plot_bgcolor": "rgb(17,17,17)",
          "polar": {
           "bgcolor": "rgb(17,17,17)",
           "angularaxis": {
            "gridcolor": "#506784",
            "linecolor": "#506784",
            "ticks": ""
           },
           "radialaxis": {
            "gridcolor": "#506784",
            "linecolor": "#506784",
            "ticks": ""
           }
          },
          "ternary": {
           "bgcolor": "rgb(17,17,17)",
           "aaxis": {
            "gridcolor": "#506784",
            "linecolor": "#506784",
            "ticks": ""
           },
           "baxis": {
            "gridcolor": "#506784",
            "linecolor": "#506784",
            "ticks": ""
           },
           "caxis": {
            "gridcolor": "#506784",
            "linecolor": "#506784",
            "ticks": ""
           }
          },
          "coloraxis": {
           "colorbar": {
            "outlinewidth": 0,
            "ticks": ""
           }
          },
          "colorscale": {
           "sequential": [
            [
             0.0,
             "#0d0887"
            ],
            [
             0.1111111111111111,
             "#46039f"
            ],
            [
             0.2222222222222222,
             "#7201a8"
            ],
            [
             0.3333333333333333,
             "#9c179e"
            ],
            [
             0.4444444444444444,
             "#bd3786"
            ],
            [
             0.5555555555555556,
             "#d8576b"
            ],
            [
             0.6666666666666666,
             "#ed7953"
            ],
            [
             0.7777777777777778,
             "#fb9f3a"
            ],
            [
             0.8888888888888888,
             "#fdca26"
            ],
            [
             1.0,
             "#f0f921"
            ]
           ],
           "sequentialminus": [
            [
             0.0,
             "#0d0887"
            ],
            [
             0.1111111111111111,
             "#46039f"
            ],
            [
             0.2222222222222222,
             "#7201a8"
            ],
            [
             0.3333333333333333,
             "#9c179e"
            ],
            [
             0.4444444444444444,
             "#bd3786"
            ],
            [
             0.5555555555555556,
             "#d8576b"
            ],
            [
             0.6666666666666666,
             "#ed7953"
            ],
            [
             0.7777777777777778,
             "#fb9f3a"
            ],
            [
             0.8888888888888888,
             "#fdca26"
            ],
            [
             1.0,
             "#f0f921"
            ]
           ],
           "diverging": [
            [
             0,
             "#8e0152"
            ],
            [
             0.1,
             "#c51b7d"
            ],
            [
             0.2,
             "#de77ae"
            ],
            [
             0.3,
             "#f1b6da"
            ],
            [
             0.4,
             "#fde0ef"
            ],
            [
             0.5,
             "#f7f7f7"
            ],
            [
             0.6,
             "#e6f5d0"
            ],
            [
             0.7,
             "#b8e186"
            ],
            [
             0.8,
             "#7fbc41"
            ],
            [
             0.9,
             "#4d9221"
            ],
            [
             1,
             "#276419"
            ]
           ]
          },
          "xaxis": {
           "gridcolor": "#283442",
           "linecolor": "#506784",
           "ticks": "",
           "title": {
            "standoff": 15
           },
           "zerolinecolor": "#283442",
           "automargin": true,
           "zerolinewidth": 2
          },
          "yaxis": {
           "gridcolor": "#283442",
           "linecolor": "#506784",
           "ticks": "",
           "title": {
            "standoff": 15
           },
           "zerolinecolor": "#283442",
           "automargin": true,
           "zerolinewidth": 2
          },
          "scene": {
           "xaxis": {
            "backgroundcolor": "rgb(17,17,17)",
            "gridcolor": "#506784",
            "linecolor": "#506784",
            "showbackground": true,
            "ticks": "",
            "zerolinecolor": "#C8D4E3",
            "gridwidth": 2
           },
           "yaxis": {
            "backgroundcolor": "rgb(17,17,17)",
            "gridcolor": "#506784",
            "linecolor": "#506784",
            "showbackground": true,
            "ticks": "",
            "zerolinecolor": "#C8D4E3",
            "gridwidth": 2
           },
           "zaxis": {
            "backgroundcolor": "rgb(17,17,17)",
            "gridcolor": "#506784",
            "linecolor": "#506784",
            "showbackground": true,
            "ticks": "",
            "zerolinecolor": "#C8D4E3",
            "gridwidth": 2
           }
          },
          "shapedefaults": {
           "line": {
            "color": "#f2f5fa"
           }
          },
          "annotationdefaults": {
           "arrowcolor": "#f2f5fa",
           "arrowhead": 0,
           "arrowwidth": 1
          },
          "geo": {
           "bgcolor": "rgb(17,17,17)",
           "landcolor": "rgb(17,17,17)",
           "subunitcolor": "#506784",
           "showland": true,
           "showlakes": true,
           "lakecolor": "rgb(17,17,17)"
          },
          "title": {
           "x": 0.05
          },
          "updatemenudefaults": {
           "bgcolor": "#506784",
           "borderwidth": 0
          },
          "sliderdefaults": {
           "bgcolor": "#C8D4E3",
           "borderwidth": 1,
           "bordercolor": "rgb(17,17,17)",
           "tickwidth": 0
          },
          "mapbox": {
           "style": "dark"
          }
         }
        },
        "xaxis": {
         "anchor": "y",
         "domain": [
          0.0,
          1.0
         ],
         "scaleanchor": "y",
         "constrain": "domain"
        },
        "yaxis": {
         "anchor": "x",
         "domain": [
          0.0,
          1.0
         ],
         "autorange": "reversed",
         "constrain": "domain"
        },
        "coloraxis": {
         "colorscale": [
          [
           0.0,
           "#0d0887"
          ],
          [
           0.1111111111111111,
           "#46039f"
          ],
          [
           0.2222222222222222,
           "#7201a8"
          ],
          [
           0.3333333333333333,
           "#9c179e"
          ],
          [
           0.4444444444444444,
           "#bd3786"
          ],
          [
           0.5555555555555556,
           "#d8576b"
          ],
          [
           0.6666666666666666,
           "#ed7953"
          ],
          [
           0.7777777777777778,
           "#fb9f3a"
          ],
          [
           0.8888888888888888,
           "#fdca26"
          ],
          [
           1.0,
           "#f0f921"
          ]
         ]
        },
        "margin": {
         "t": 60
        }
       },
       "config": {
        "plotlyServerURL": "https://plot.ly"
       }
      },
      "text/html": "<div>                            <div id=\"2ff3bca5-a7f8-4fc8-929c-315e87e378fa\" class=\"plotly-graph-div\" style=\"height:525px; width:100%;\"></div>            <script type=\"text/javascript\">                require([\"plotly\"], function(Plotly) {                    window.PLOTLYENV=window.PLOTLYENV || {};                                    if (document.getElementById(\"2ff3bca5-a7f8-4fc8-929c-315e87e378fa\")) {                    Plotly.newPlot(                        \"2ff3bca5-a7f8-4fc8-929c-315e87e378fa\",                        [{\"coloraxis\":\"coloraxis\",\"name\":\"0\",\"texttemplate\":\"%{z}\",\"x\":[\"an\",\"\\u00e9tat\",\"pays\",\"militaire\",\"politique\",\"arm\\u00e9e\",\"pr\\u00e9sident\",\"grand\",\"force\",\"afrique\"],\"y\":[\"an\",\"\\u00e9tat\",\"pays\",\"militaire\",\"politique\",\"arm\\u00e9e\",\"pr\\u00e9sident\",\"grand\",\"force\",\"afrique\"],\"z\":[[100,99,99,98,99,99,99,99,99,99],[99,100,99,99,98,99,99,99,97,99],[99,99,100,99,99,99,99,99,98,99],[98,99,99,100,97,99,99,98,96,99],[99,98,99,97,99,99,99,99,99,99],[99,99,99,99,99,100,99,99,98,99],[99,99,99,99,99,99,100,99,99,99],[99,99,99,98,99,99,99,100,99,99],[99,97,98,96,99,98,99,99,100,98],[99,99,99,99,99,99,99,99,98,100]],\"type\":\"heatmap\",\"xaxis\":\"x\",\"yaxis\":\"y\",\"hovertemplate\":\"x: %{x}\\u003cbr\\u003ey: %{y}\\u003cbr\\u003ecolor: %{z}\\u003cextra\\u003e\\u003c\\u002fextra\\u003e\"}],                        {\"template\":{\"data\":{\"histogram2dcontour\":[{\"type\":\"histogram2dcontour\",\"colorbar\":{\"outlinewidth\":0,\"ticks\":\"\"},\"colorscale\":[[0.0,\"#0d0887\"],[0.1111111111111111,\"#46039f\"],[0.2222222222222222,\"#7201a8\"],[0.3333333333333333,\"#9c179e\"],[0.4444444444444444,\"#bd3786\"],[0.5555555555555556,\"#d8576b\"],[0.6666666666666666,\"#ed7953\"],[0.7777777777777778,\"#fb9f3a\"],[0.8888888888888888,\"#fdca26\"],[1.0,\"#f0f921\"]]}],\"choropleth\":[{\"type\":\"choropleth\",\"colorbar\":{\"outlinewidth\":0,\"ticks\":\"\"}}],\"histogram2d\":[{\"type\":\"histogram2d\",\"colorbar\":{\"outlinewidth\":0,\"ticks\":\"\"},\"colorscale\":[[0.0,\"#0d0887\"],[0.1111111111111111,\"#46039f\"],[0.2222222222222222,\"#7201a8\"],[0.3333333333333333,\"#9c179e\"],[0.4444444444444444,\"#bd3786\"],[0.5555555555555556,\"#d8576b\"],[0.6666666666666666,\"#ed7953\"],[0.7777777777777778,\"#fb9f3a\"],[0.8888888888888888,\"#fdca26\"],[1.0,\"#f0f921\"]]}],\"heatmap\":[{\"type\":\"heatmap\",\"colorbar\":{\"outlinewidth\":0,\"ticks\":\"\"},\"colorscale\":[[0.0,\"#0d0887\"],[0.1111111111111111,\"#46039f\"],[0.2222222222222222,\"#7201a8\"],[0.3333333333333333,\"#9c179e\"],[0.4444444444444444,\"#bd3786\"],[0.5555555555555556,\"#d8576b\"],[0.6666666666666666,\"#ed7953\"],[0.7777777777777778,\"#fb9f3a\"],[0.8888888888888888,\"#fdca26\"],[1.0,\"#f0f921\"]]}],\"heatmapgl\":[{\"type\":\"heatmapgl\",\"colorbar\":{\"outlinewidth\":0,\"ticks\":\"\"},\"colorscale\":[[0.0,\"#0d0887\"],[0.1111111111111111,\"#46039f\"],[0.2222222222222222,\"#7201a8\"],[0.3333333333333333,\"#9c179e\"],[0.4444444444444444,\"#bd3786\"],[0.5555555555555556,\"#d8576b\"],[0.6666666666666666,\"#ed7953\"],[0.7777777777777778,\"#fb9f3a\"],[0.8888888888888888,\"#fdca26\"],[1.0,\"#f0f921\"]]}],\"contourcarpet\":[{\"type\":\"contourcarpet\",\"colorbar\":{\"outlinewidth\":0,\"ticks\":\"\"}}],\"contour\":[{\"type\":\"contour\",\"colorbar\":{\"outlinewidth\":0,\"ticks\":\"\"},\"colorscale\":[[0.0,\"#0d0887\"],[0.1111111111111111,\"#46039f\"],[0.2222222222222222,\"#7201a8\"],[0.3333333333333333,\"#9c179e\"],[0.4444444444444444,\"#bd3786\"],[0.5555555555555556,\"#d8576b\"],[0.6666666666666666,\"#ed7953\"],[0.7777777777777778,\"#fb9f3a\"],[0.8888888888888888,\"#fdca26\"],[1.0,\"#f0f921\"]]}],\"surface\":[{\"type\":\"surface\",\"colorbar\":{\"outlinewidth\":0,\"ticks\":\"\"},\"colorscale\":[[0.0,\"#0d0887\"],[0.1111111111111111,\"#46039f\"],[0.2222222222222222,\"#7201a8\"],[0.3333333333333333,\"#9c179e\"],[0.4444444444444444,\"#bd3786\"],[0.5555555555555556,\"#d8576b\"],[0.6666666666666666,\"#ed7953\"],[0.7777777777777778,\"#fb9f3a\"],[0.8888888888888888,\"#fdca26\"],[1.0,\"#f0f921\"]]}],\"mesh3d\":[{\"type\":\"mesh3d\",\"colorbar\":{\"outlinewidth\":0,\"ticks\":\"\"}}],\"scatter\":[{\"marker\":{\"line\":{\"color\":\"#283442\"}},\"type\":\"scatter\"}],\"parcoords\":[{\"type\":\"parcoords\",\"line\":{\"colorbar\":{\"outlinewidth\":0,\"ticks\":\"\"}}}],\"scatterpolargl\":[{\"type\":\"scatterpolargl\",\"marker\":{\"colorbar\":{\"outlinewidth\":0,\"ticks\":\"\"}}}],\"bar\":[{\"error_x\":{\"color\":\"#f2f5fa\"},\"error_y\":{\"color\":\"#f2f5fa\"},\"marker\":{\"line\":{\"color\":\"rgb(17,17,17)\",\"width\":0.5},\"pattern\":{\"fillmode\":\"overlay\",\"size\":10,\"solidity\":0.2}},\"type\":\"bar\"}],\"scattergeo\":[{\"type\":\"scattergeo\",\"marker\":{\"colorbar\":{\"outlinewidth\":0,\"ticks\":\"\"}}}],\"scatterpolar\":[{\"type\":\"scatterpolar\",\"marker\":{\"colorbar\":{\"outlinewidth\":0,\"ticks\":\"\"}}}],\"histogram\":[{\"marker\":{\"pattern\":{\"fillmode\":\"overlay\",\"size\":10,\"solidity\":0.2}},\"type\":\"histogram\"}],\"scattergl\":[{\"marker\":{\"line\":{\"color\":\"#283442\"}},\"type\":\"scattergl\"}],\"scatter3d\":[{\"type\":\"scatter3d\",\"line\":{\"colorbar\":{\"outlinewidth\":0,\"ticks\":\"\"}},\"marker\":{\"colorbar\":{\"outlinewidth\":0,\"ticks\":\"\"}}}],\"scattermapbox\":[{\"type\":\"scattermapbox\",\"marker\":{\"colorbar\":{\"outlinewidth\":0,\"ticks\":\"\"}}}],\"scatterternary\":[{\"type\":\"scatterternary\",\"marker\":{\"colorbar\":{\"outlinewidth\":0,\"ticks\":\"\"}}}],\"scattercarpet\":[{\"type\":\"scattercarpet\",\"marker\":{\"colorbar\":{\"outlinewidth\":0,\"ticks\":\"\"}}}],\"carpet\":[{\"aaxis\":{\"endlinecolor\":\"#A2B1C6\",\"gridcolor\":\"#506784\",\"linecolor\":\"#506784\",\"minorgridcolor\":\"#506784\",\"startlinecolor\":\"#A2B1C6\"},\"baxis\":{\"endlinecolor\":\"#A2B1C6\",\"gridcolor\":\"#506784\",\"linecolor\":\"#506784\",\"minorgridcolor\":\"#506784\",\"startlinecolor\":\"#A2B1C6\"},\"type\":\"carpet\"}],\"table\":[{\"cells\":{\"fill\":{\"color\":\"#506784\"},\"line\":{\"color\":\"rgb(17,17,17)\"}},\"header\":{\"fill\":{\"color\":\"#2a3f5f\"},\"line\":{\"color\":\"rgb(17,17,17)\"}},\"type\":\"table\"}],\"barpolar\":[{\"marker\":{\"line\":{\"color\":\"rgb(17,17,17)\",\"width\":0.5},\"pattern\":{\"fillmode\":\"overlay\",\"size\":10,\"solidity\":0.2}},\"type\":\"barpolar\"}],\"pie\":[{\"automargin\":true,\"type\":\"pie\"}]},\"layout\":{\"autotypenumbers\":\"strict\",\"colorway\":[\"#636efa\",\"#EF553B\",\"#00cc96\",\"#ab63fa\",\"#FFA15A\",\"#19d3f3\",\"#FF6692\",\"#B6E880\",\"#FF97FF\",\"#FECB52\"],\"font\":{\"color\":\"#f2f5fa\"},\"hovermode\":\"closest\",\"hoverlabel\":{\"align\":\"left\"},\"paper_bgcolor\":\"rgb(17,17,17)\",\"plot_bgcolor\":\"rgb(17,17,17)\",\"polar\":{\"bgcolor\":\"rgb(17,17,17)\",\"angularaxis\":{\"gridcolor\":\"#506784\",\"linecolor\":\"#506784\",\"ticks\":\"\"},\"radialaxis\":{\"gridcolor\":\"#506784\",\"linecolor\":\"#506784\",\"ticks\":\"\"}},\"ternary\":{\"bgcolor\":\"rgb(17,17,17)\",\"aaxis\":{\"gridcolor\":\"#506784\",\"linecolor\":\"#506784\",\"ticks\":\"\"},\"baxis\":{\"gridcolor\":\"#506784\",\"linecolor\":\"#506784\",\"ticks\":\"\"},\"caxis\":{\"gridcolor\":\"#506784\",\"linecolor\":\"#506784\",\"ticks\":\"\"}},\"coloraxis\":{\"colorbar\":{\"outlinewidth\":0,\"ticks\":\"\"}},\"colorscale\":{\"sequential\":[[0.0,\"#0d0887\"],[0.1111111111111111,\"#46039f\"],[0.2222222222222222,\"#7201a8\"],[0.3333333333333333,\"#9c179e\"],[0.4444444444444444,\"#bd3786\"],[0.5555555555555556,\"#d8576b\"],[0.6666666666666666,\"#ed7953\"],[0.7777777777777778,\"#fb9f3a\"],[0.8888888888888888,\"#fdca26\"],[1.0,\"#f0f921\"]],\"sequentialminus\":[[0.0,\"#0d0887\"],[0.1111111111111111,\"#46039f\"],[0.2222222222222222,\"#7201a8\"],[0.3333333333333333,\"#9c179e\"],[0.4444444444444444,\"#bd3786\"],[0.5555555555555556,\"#d8576b\"],[0.6666666666666666,\"#ed7953\"],[0.7777777777777778,\"#fb9f3a\"],[0.8888888888888888,\"#fdca26\"],[1.0,\"#f0f921\"]],\"diverging\":[[0,\"#8e0152\"],[0.1,\"#c51b7d\"],[0.2,\"#de77ae\"],[0.3,\"#f1b6da\"],[0.4,\"#fde0ef\"],[0.5,\"#f7f7f7\"],[0.6,\"#e6f5d0\"],[0.7,\"#b8e186\"],[0.8,\"#7fbc41\"],[0.9,\"#4d9221\"],[1,\"#276419\"]]},\"xaxis\":{\"gridcolor\":\"#283442\",\"linecolor\":\"#506784\",\"ticks\":\"\",\"title\":{\"standoff\":15},\"zerolinecolor\":\"#283442\",\"automargin\":true,\"zerolinewidth\":2},\"yaxis\":{\"gridcolor\":\"#283442\",\"linecolor\":\"#506784\",\"ticks\":\"\",\"title\":{\"standoff\":15},\"zerolinecolor\":\"#283442\",\"automargin\":true,\"zerolinewidth\":2},\"scene\":{\"xaxis\":{\"backgroundcolor\":\"rgb(17,17,17)\",\"gridcolor\":\"#506784\",\"linecolor\":\"#506784\",\"showbackground\":true,\"ticks\":\"\",\"zerolinecolor\":\"#C8D4E3\",\"gridwidth\":2},\"yaxis\":{\"backgroundcolor\":\"rgb(17,17,17)\",\"gridcolor\":\"#506784\",\"linecolor\":\"#506784\",\"showbackground\":true,\"ticks\":\"\",\"zerolinecolor\":\"#C8D4E3\",\"gridwidth\":2},\"zaxis\":{\"backgroundcolor\":\"rgb(17,17,17)\",\"gridcolor\":\"#506784\",\"linecolor\":\"#506784\",\"showbackground\":true,\"ticks\":\"\",\"zerolinecolor\":\"#C8D4E3\",\"gridwidth\":2}},\"shapedefaults\":{\"line\":{\"color\":\"#f2f5fa\"}},\"annotationdefaults\":{\"arrowcolor\":\"#f2f5fa\",\"arrowhead\":0,\"arrowwidth\":1},\"geo\":{\"bgcolor\":\"rgb(17,17,17)\",\"landcolor\":\"rgb(17,17,17)\",\"subunitcolor\":\"#506784\",\"showland\":true,\"showlakes\":true,\"lakecolor\":\"rgb(17,17,17)\"},\"title\":{\"x\":0.05},\"updatemenudefaults\":{\"bgcolor\":\"#506784\",\"borderwidth\":0},\"sliderdefaults\":{\"bgcolor\":\"#C8D4E3\",\"borderwidth\":1,\"bordercolor\":\"rgb(17,17,17)\",\"tickwidth\":0},\"mapbox\":{\"style\":\"dark\"}}},\"xaxis\":{\"anchor\":\"y\",\"domain\":[0.0,1.0],\"scaleanchor\":\"y\",\"constrain\":\"domain\"},\"yaxis\":{\"anchor\":\"x\",\"domain\":[0.0,1.0],\"autorange\":\"reversed\",\"constrain\":\"domain\"},\"coloraxis\":{\"colorscale\":[[0.0,\"#0d0887\"],[0.1111111111111111,\"#46039f\"],[0.2222222222222222,\"#7201a8\"],[0.3333333333333333,\"#9c179e\"],[0.4444444444444444,\"#bd3786\"],[0.5555555555555556,\"#d8576b\"],[0.6666666666666666,\"#ed7953\"],[0.7777777777777778,\"#fb9f3a\"],[0.8888888888888888,\"#fdca26\"],[1.0,\"#f0f921\"]]},\"margin\":{\"t\":60}},                        {\"responsive\": true}                    ).then(function(){\n                            \nvar gd = document.getElementById('2ff3bca5-a7f8-4fc8-929c-315e87e378fa');\nvar x = new MutationObserver(function (mutations, observer) {{\n        var display = window.getComputedStyle(gd).display;\n        if (!display || display === 'none') {{\n            console.log([gd, 'removed!']);\n            Plotly.purge(gd);\n            observer.disconnect();\n        }}\n}});\n\n// Listen for the removal of the full notebook cells\nvar notebookContainer = gd.closest('#notebook-container');\nif (notebookContainer) {{\n    x.observe(notebookContainer, {childList: true});\n}}\n\n// Listen for the clearing of the current output cell\nvar outputEl = gd.closest('.output');\nif (outputEl) {{\n    x.observe(outputEl, {childList: true});\n}}\n\n                        })                };                });            </script>        </div>"
     },
     "metadata": {},
     "output_type": "display_data"
    }
   ],
   "source": [
    "#Création de la matrice vide\n",
    "df = pd.DataFrame(index=df_subset_kws['Keywords'].tolist(), columns=df_subset_kws['Keywords'].tolist())\n",
    "\n",
    "#On la remplie de 0\n",
    "df = df.fillna(0)\n",
    "print(df)\n",
    "\n",
    "#On la remplie\n",
    "for word1 in df_subset_kws['Keywords'].tolist() :\n",
    "    for word2 in df_subset_kws['Keywords'].tolist() :\n",
    "        if word1 in modele.wv.key_to_index and word2 in modele.wv.key_to_index :\n",
    "            df.at[word1,word2] = int(words.similarity(word1, word2)*100)\n",
    "\n",
    "# Supprimer les lignes où toutes les valeurs sont zéros\n",
    "df = df.loc[(df != 0).any(axis=1)]\n",
    "\n",
    "# Supprimer les colonnes où toutes les valeurs sont zéros\n",
    "df = df.loc[:, (df != 0).any(axis=0)]\n",
    "\n",
    "\n",
    "print(df)\n",
    "\n",
    "fig = px.imshow(df, text_auto=True)\n",
    "fig.show()"
   ],
   "metadata": {
    "collapsed": false,
    "ExecuteTime": {
     "end_time": "2024-01-06T22:36:12.348934900Z",
     "start_time": "2024-01-06T22:36:12.245841800Z"
    }
   },
   "id": "88551d5817d6664e"
  },
  {
   "cell_type": "markdown",
   "source": [
    "**Sauvegarde du data frame**"
   ],
   "metadata": {
    "collapsed": false
   },
   "id": "24d23ea22fa0e6d7"
  },
  {
   "cell_type": "code",
   "execution_count": 30,
   "outputs": [],
   "source": [
    "# df.to_csv('./data/Dashboard/kws/Word2VecMatrice/df_kws_word2vec_sans_france_mali----france--fr.sputniknews.africa.csv', index=False)"
   ],
   "metadata": {
    "collapsed": false,
    "ExecuteTime": {
     "end_time": "2024-01-06T22:36:12.367014400Z",
     "start_time": "2024-01-06T22:36:12.341922400Z"
    }
   },
   "id": "2daba82f4ae8f0dd"
  },
  {
   "cell_type": "markdown",
   "source": [],
   "metadata": {
    "collapsed": false
   },
   "id": "814c7a6a4ba76aa4"
  }
 ],
 "metadata": {
  "kernelspec": {
   "display_name": "Python 3",
   "language": "python",
   "name": "python3"
  },
  "language_info": {
   "codemirror_mode": {
    "name": "ipython",
    "version": 2
   },
   "file_extension": ".py",
   "mimetype": "text/x-python",
   "name": "python",
   "nbconvert_exporter": "python",
   "pygments_lexer": "ipython2",
   "version": "2.7.6"
  }
 },
 "nbformat": 4,
 "nbformat_minor": 5
}
