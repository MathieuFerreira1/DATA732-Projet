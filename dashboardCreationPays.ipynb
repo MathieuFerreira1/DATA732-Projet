{
 "cells": [
  {
   "cell_type": "code",
   "execution_count": 19,
   "outputs": [],
   "source": [
    "import json\n",
    "import math\n",
    "import numpy as np\n",
    "\n",
    "import pandas as pd\n",
    "from dash import Dash, dcc, html, Input, Output\n",
    "import plotly.express as px\n",
    "\n",
    "import matplotlib.pyplot as plt\n",
    "import os\n",
    "\n",
    "import string\n",
    "from gensim.models import Word2Vec"
   ],
   "metadata": {
    "collapsed": false,
    "ExecuteTime": {
     "end_time": "2024-01-06T22:44:46.421631700Z",
     "start_time": "2024-01-06T22:44:46.098616300Z"
    }
   },
   "id": "42b7c9afb71a2ed1"
  },
  {
   "cell_type": "markdown",
   "source": [
    "----------------------------------------------------------------------------------------"
   ],
   "metadata": {
    "collapsed": false
   },
   "id": "6b0c520d865c5bb0"
  },
  {
   "cell_type": "markdown",
   "source": [
    "# PAYS"
   ],
   "metadata": {
    "collapsed": false
   },
   "id": "4213cf5343f00367"
  },
  {
   "cell_type": "markdown",
   "source": [
    "**Liste des pays**"
   ],
   "metadata": {
    "collapsed": false
   },
   "id": "f85b1161dad7dba9"
  },
  {
   "cell_type": "code",
   "execution_count": 20,
   "outputs": [],
   "source": [
    "liste_pays = [\n",
    "    \"Afghanistan\", \"Afrique du Sud\", \"Albanie\", \"Algérie\", \"Allemagne\", \"Andorre\", \"Angola\",\n",
    "    \"Antigua-et-Barbuda\", \"Arabie saoudite\", \"Argentine\", \"Arménie\", \"Australie\", \"Autriche\",\n",
    "    \"Azerbaïdjan\", \"Bahamas\", \"Bahreïn\", \"Bangladesh\", \"Barbade\", \"Belgique\", \"Belize\",\n",
    "    \"Bénin\", \"Bhoutan\", \"Biélorussie\", \"Birmanie (Myanmar)\", \"Bolivie\", \"Bosnie-Herzégovine\",\n",
    "    \"Botswana\", \"Brésil\", \"Brunei\", \"Bulgarie\", \"Burkina Faso\", \"Burundi\", \"Cambodge\",\n",
    "    \"Cameroun\", \"Canada\", \"Cap-Vert\", \"Centrafrique\", \"Chili\", \"Chine\", \"Chypre\",\n",
    "    \"Colombie\", \"Comores\", \"Corée du Nord\", \"Corée du Sud\", \"Costa Rica\", \"Côte d'Ivoire\",\n",
    "    \"Croatie\", \"Cuba\", \"Danemark\", \"Djibouti\", \"Dominique\", \"Égypte\", \"Émirats arabes unis\",\n",
    "    \"Équateur\", \"Érythrée\", \"Espagne\", \"Estonie\", \"États-Unis\", \"Éthiopie\", \"Fidji\",\n",
    "    \"Finlande\", \"France\", \"Gabon\", \"Gambie\", \"Géorgie\", \"Ghana\", \"Grèce\", \"Grenade\",\n",
    "    \"Guatemala\", \"Guinée\", \"Guinée équatoriale\", \"Guinée-Bissau\", \"Guyana\", \"Haïti\",\n",
    "    \"Honduras\", \"Hongrie\", \"Îles Marshall\", \"Îles Salomon\", \"Inde\", \"Indonésie\",\n",
    "    \"Irak\", \"Iran\", \"Irlande\", \"Islande\", \"Israël\", \"Italie\", \"Jamaïque\", \"Japon\",\n",
    "    \"Jordanie\", \"Kazakhstan\", \"Kenya\", \"Kirghizistan\", \"Kiribati\", \"Koweït\", \"Laos\",\n",
    "    \"Lesotho\", \"Lettonie\", \"Liban\", \"Liberia\", \"Libye\", \"Liechtenstein\", \"Lituanie\",\n",
    "    \"Luxembourg\", \"Macédoine\", \"Madagascar\", \"Malaisie\", \"Malawi\", \"Maldives\",\n",
    "    \"Mali\", \"Malte\", \"Maroc\", \"Maurice\", \"Mauritanie\", \"Mexique\", \"Micronésie\",\n",
    "    \"Moldavie\", \"Monaco\", \"Mongolie\", \"Monténégro\", \"Mozambique\", \"Namibie\", \"Nauru\",\n",
    "    \"Népal\", \"Nicaragua\", \"Niger\", \"Nigéria\", \"Niue\", \"Norvège\", \"Nouvelle-Zélande\",\n",
    "    \"Oman\", \"Ouganda\", \"Ouzbékistan\", \"Pakistan\", \"Palaos\", \"Panama\", \"Papouasie-Nouvelle-Guinée\",\n",
    "    \"Paraguay\", \"Pays-Bas\", \"Pérou\", \"Philippines\", \"Pologne\", \"Portugal\", \"Qatar\",\n",
    "    \"République centrafricaine\", \"République démocratique du Congo\", \"République dominicaine\",\n",
    "    \"République tchèque\", \"Roumanie\", \"Royaume-Uni\", \"Russie\", \"Rwanda\",\n",
    "    \"Saint-Christophe-et-Niévès\", \"Saint-Marin\", \"Saint-Vincent-et-les-Grenadines\",\n",
    "    \"Sainte-Lucie\", \"Salvador\", \"Samoa\", \"Sao Tomé-et-Principe\", \"Sénégal\", \"Serbie\",\n",
    "    \"Seychelles\", \"Sierra Leone\", \"Singapour\", \"Slovaquie\", \"Slovénie\", \"Somalie\",\n",
    "    \"Soudan\", \"Soudan du Sud\", \"Sri Lanka\", \"Suède\", \"Suisse\", \"Suriname\",\n",
    "    \"Swaziland\", \"Syrie\", \"Tadjikistan\", \"Tanzanie\", \"Tchad\", \"Thaïlande\",\n",
    "    \"Timor oriental\", \"Togo\", \"Tonga\", \"Trinité-et-Tobago\", \"Tunisie\",\n",
    "    \"Turkménistan\", \"Turquie\", \"Tuvalu\", \"Ukraine\", \"Uruguay\", \"Vanuatu\",\n",
    "    \"Vatican\", \"Venezuela\", \"Viêt Nam\", \"Yémen\", \"Zambie\", \"Zimbabwe\"\n",
    "]\n"
   ],
   "metadata": {
    "collapsed": false,
    "ExecuteTime": {
     "end_time": "2024-01-06T22:44:46.578413500Z",
     "start_time": "2024-01-06T22:44:46.456738600Z"
    }
   },
   "id": "343c03a49b1df13b"
  },
  {
   "cell_type": "markdown",
   "source": [
    "# Word2Vec"
   ],
   "metadata": {
    "collapsed": false
   },
   "id": "d7b72329712c308"
  },
  {
   "cell_type": "markdown",
   "source": [
    "**Lecture fichier**"
   ],
   "metadata": {
    "collapsed": false
   },
   "id": "ce2c149ae8298f4e"
  },
  {
   "cell_type": "code",
   "execution_count": 21,
   "outputs": [],
   "source": [
    "# name of the lightest file\n",
    "file_name = \"./jsonBases/topaz-data732--mali--www.egaliteetreconciliation.fr--20190101--20211231.json\"\n",
    "\n",
    "# open and load file\n",
    "f = open(file_name, 'r', encoding='utf-8')\n",
    "data = json.loads(f.read())\n",
    "f.close()"
   ],
   "metadata": {
    "collapsed": false,
    "ExecuteTime": {
     "end_time": "2024-01-06T22:44:46.668758300Z",
     "start_time": "2024-01-06T22:44:46.490742100Z"
    }
   },
   "id": "79bc7c8d283cfad0"
  },
  {
   "cell_type": "markdown",
   "source": [
    "**Ponctuations**"
   ],
   "metadata": {
    "collapsed": false
   },
   "id": "34e49d848ddd5c18"
  },
  {
   "cell_type": "code",
   "execution_count": 22,
   "outputs": [],
   "source": [
    "ponctuations = list(string.punctuation)\n",
    "ponctuations.append('’')"
   ],
   "metadata": {
    "collapsed": false,
    "ExecuteTime": {
     "end_time": "2024-01-06T22:44:46.759363300Z",
     "start_time": "2024-01-06T22:44:46.623904400Z"
    }
   },
   "id": "a608a8d8add3eb17"
  },
  {
   "cell_type": "markdown",
   "source": [
    "**Recréation des articles avec seulement les mots importants et dans leur forme simple**"
   ],
   "metadata": {
    "collapsed": false
   },
   "id": "15ce214ca1f0ee1a"
  },
  {
   "cell_type": "code",
   "execution_count": 23,
   "outputs": [
    {
     "name": "stdout",
     "output_type": "stream",
     "text": [
      "[[], [], ['France', 'France', 'France', 'France', 'France', 'France'], [], ['France', 'Niger', 'Mali', 'Niger', 'Niger', 'Mali', 'Mali', 'Niger', 'Niger', 'France'], ['Mali', 'Mali', 'Niger', 'Mali', 'Niger', 'Niger'], ['Mali', 'France', 'Mali', 'France', 'France', 'France', 'France', 'France', 'Niger', 'France', 'France', 'France', 'Niger', 'Mali', 'France'], ['Syrie', 'Syrie', 'Syrie', 'États-Unis', 'Israël', 'Russie', 'États-Unis', 'Israël', 'Russie', 'Russie', 'Israël', 'Syrie', 'Syrie', 'France', 'Russie', 'Russie', 'Syrie', 'Russie', 'Russie', 'Syrie', 'Russie', 'Russie', 'Russie', 'Russie', 'Israël', 'France', 'Israël', 'Russie', 'Russie', 'Russie', 'Russie', 'Syrie', 'Russie', 'France', 'Russie', 'Russie', 'Russie', 'Russie', 'Israël', 'Russie', 'Israël', 'Russie', 'Russie', 'Israël', 'Israël', 'Israël', 'Israël', 'Israël', 'Israël', 'Israël', 'Russie'], ['Mali', 'France', 'Mali', 'France', 'Mali', 'France', 'France', 'France', 'France'], ['Allemagne', 'France', 'Qatar', 'France', 'Djibouti', 'Djibouti', 'Ghana', 'Djibouti', 'Ghana'], ['France', 'Mali', 'France', 'France', 'Mali', 'France', 'France', 'France', 'France', 'France', 'Mali', 'France', 'France', 'Mali', 'Tchad', 'France', 'France', 'France', 'Mali', 'Mali', 'Niger', 'Tchad', 'Mali', 'Mali', 'Mali', 'France', 'France', 'Royaume-Uni', 'Royaume-Uni', 'Royaume-Uni', 'France', 'France', 'France', 'France', 'France', 'France', 'France', 'France', 'France', 'France'], ['Grèce', 'Espagne', 'Italie', 'Royaume-Uni', 'France', 'États-Unis', 'Syrie', 'Norvège', 'Norvège', 'États-Unis', 'Espagne', 'France', 'Grèce', 'France', 'Russie', 'États-Unis', 'Chine', 'Chine', 'France', 'Ukraine', 'Russie', 'France', 'États-Unis', 'France', 'Irak', 'France', 'France', 'Israël', 'Syrie', 'Allemagne', 'Allemagne', 'Israël', 'Grèce', 'Brésil', 'Italie', 'Espagne', 'Allemagne', 'Royaume-Uni', 'France', 'France', 'États-Unis', 'France', 'Russie', 'Italie', 'Brésil', 'Russie', 'États-Unis', 'Israël', 'France', 'Chine'], ['Mali', 'Mali', 'Mali'], ['Mali', 'Mali', 'Mali', 'Niger', 'Niger', 'Niger'], ['France'], ['France', 'France'], ['France', 'France', 'Niger', 'Niger', 'Niger', 'France'], ['France', 'France', 'France', 'Tchad', 'Mali', 'Liban', 'Irak', 'Syrie', 'France', 'France', 'France', 'France', 'Afghanistan', 'Liban', 'Tchad', 'Afghanistan', 'Mali', 'Afghanistan', 'Irak', 'Syrie', 'France', 'Tchad', 'Mali', 'Mali', 'Niger', 'France', 'Niger', 'Mali', 'Niger', 'Irak', 'Syrie', 'Irak', 'France', 'Mali'], ['États-Unis', 'États-Unis', 'Irak', 'Irak', 'Irak', 'Libye', 'Syrie', 'États-Unis', 'États-Unis', 'Jordanie', 'Jordanie', 'Irak', 'Syrie', 'Irak', 'Irak', 'Syrie', 'Syrie', 'États-Unis', 'États-Unis', 'Irak', 'États-Unis', 'Afghanistan', 'Afghanistan', 'États-Unis', 'Mali', 'Mali', 'Syrie', 'Irak', 'Mali', 'Chine', 'États-Unis', 'Chine', 'Chine', 'Irak', 'Afghanistan', 'Libye', 'Syrie', 'États-Unis', 'Afghanistan', 'Irak', 'Libye'], ['Sénégal', 'Mali', 'France', 'Mali', 'Sénégal', 'Sénégal', 'Mali', 'Sénégal', 'Mali', 'France', 'Mali', 'France'], ['Mali', 'Mali', 'Mali', 'Mali'], ['France', 'France', 'Mali', 'Mali', 'Mali', 'France', 'France', 'Mali', 'Mali', 'Mali', 'Mali', 'Mali', 'Algérie', 'Algérie', 'Algérie', 'Mali'], ['France', 'France', 'Mali', 'France', 'Mali', 'France'], ['Algérie', 'Mali', 'Niger', 'Algérie', 'Syrie', 'Algérie', 'Algérie', 'Syrie', 'Yémen', 'Algérie', 'Turquie', 'Égypte', 'Soudan', 'Mali', 'Niger', 'Algérie', 'Algérie', 'Algérie', 'Syrie', 'Yémen', 'Turquie', 'Égypte', 'Soudan', 'Niger'], ['France', 'France'], ['Mali', 'Niger', 'Mali', 'Mali', 'Niger', 'Mali'], ['France', 'Niger', 'France', 'France', 'France', 'Mali'], ['Libye', 'Libye', 'Libye', 'Turquie', 'Qatar', 'Russie', 'Turquie', 'Qatar', 'Turquie', 'Turquie', 'Syrie', 'Tunisie', 'Syrie', 'Libye', 'Libye', 'Syrie', 'Turquie', 'Russie', 'Turquie', 'Turquie', 'Turquie', 'Libye', 'Tunisie'], ['France', 'France', 'Mali'], ['France', 'France'], ['Turquie', 'Grèce', 'Turquie', 'Grèce', 'Turquie', 'Russie', 'Turquie', 'États-Unis', 'Turquie', 'Russie', 'Grèce', 'Turquie'], ['Niger', 'Niger'], ['Mali', 'Mali'], ['Mali', 'Mali', 'Algérie', 'Mali', 'Algérie', 'Mali', 'Mali'], [], ['Algérie', 'Mali', 'Algérie', 'Algérie', 'Mali', 'Algérie', 'Mali', 'Mali', 'Algérie'], ['France', 'France', 'Mali', 'Mali', 'France'], [], ['France', 'France', 'France', 'France', 'France'], ['France', 'France', 'France', 'France'], ['Mali', 'Mali', 'Mali', 'Mali'], ['Mali', 'Mali', 'Mali', 'Mali', 'France', 'France'], ['Azerbaïdjan', 'Turquie', 'France', 'Azerbaïdjan', 'Turquie', 'Turquie', 'Azerbaïdjan', 'France', 'France', 'Suède', 'Suède'], ['France', 'France', 'France', 'France', 'France', 'Irak', 'Syrie', 'France', 'France', 'Irak', 'Syrie', 'Irak', 'Syrie', 'France', 'Syrie', 'Syrie', 'Irak', 'France', 'Mali', 'Mali', 'France'], ['France', 'France', 'Mali', 'Mali', 'France'], ['Niger'], ['France', 'Mali', 'Mali', 'France'], ['France', 'France', 'France', 'France', 'France', 'Algérie', 'Algérie', 'France', 'France', 'France', 'France'], ['France', 'Mali', 'France', 'Mali', 'France', 'Mali', 'France', 'Mali', 'France', 'Mali', 'France'], ['Mali', 'Mali'], ['Mali', 'France', 'France', 'France', 'Tchad', 'Mali'], ['Mali', 'Mali'], ['France', 'France', 'Russie', 'France', 'Mali', 'Mali', 'France', 'Russie', 'France', 'France'], ['Maroc', 'Maroc', 'Espagne', 'Maroc', 'Espagne', 'Maroc', 'Maroc'], ['Éthiopie', 'Éthiopie', 'Éthiopie'], ['Mali', 'Mali', 'Algérie', 'Mali', 'Mali', 'Mali'], ['France', 'Mali', 'Mali', 'France', 'Mali', 'Mali', 'Mali'], ['France', 'États-Unis', 'France', 'États-Unis', 'France', 'France', 'France', 'États-Unis'], ['Tchad', 'Tchad', 'Tchad', 'Tchad', 'Tchad', 'Tchad'], ['France', 'France', 'France', 'France', 'France', 'France'], ['France', 'France', 'Russie', 'France', 'France', 'Espagne', 'France', 'Espagne', 'Espagne'], ['France', 'France', 'France'], ['États-Unis', 'Inde', 'Inde', 'États-Unis'], ['Niger', 'Mali', 'Niger', 'Mali'], ['France', 'Australie', 'Mali', 'France', 'France', 'France', 'France', 'France', 'France', 'France', 'France', 'France', 'France', 'France', 'Australie', 'Chine', 'Chine', 'Afghanistan', 'France', 'Mali', 'Mali', 'Mali', 'Mali', 'France', 'Russie', 'France', 'Mali', 'France', 'France', 'France', 'Chine', 'Chine', 'Chine', 'Russie'], ['France', 'France', 'Mali', 'Mali', 'Mali', 'France', 'France', 'France', 'Mali', 'France'], ['France', 'France', 'France', 'France', 'France', 'France', 'Mali', 'Mali', 'France', 'Mali', 'Mali', 'Mali', 'France'], ['France', 'France', 'France', 'France', 'France', 'Suisse', 'France', 'France', 'France', 'France', 'France', 'Suisse'], ['France', 'France', 'France', 'Tchad', 'Mali', 'Tchad', 'France', 'Mali', 'Mali'], ['France', 'Mali', 'France', 'Mali', 'France', 'France', 'Mali', 'Mali', 'Mali', 'Mali'], ['Russie', 'États-Unis', 'Russie', 'États-Unis', 'Russie', 'États-Unis', 'Mali', 'Mali', 'Mali', 'États-Unis', 'Mali', 'Libye', 'Russie', 'États-Unis', 'Libye', 'Libye', 'Russie', 'États-Unis', 'États-Unis', 'Russie', 'Russie', 'États-Unis', 'États-Unis', 'États-Unis', 'Russie', 'États-Unis', 'Ukraine', 'Moldavie', 'Russie', 'États-Unis', 'Moldavie', 'Russie', 'Libye', 'États-Unis', 'Ukraine', 'Géorgie', 'Ukraine', 'Ukraine', 'Russie', 'États-Unis', 'Russie', 'Ukraine', 'États-Unis', 'Russie', 'France', 'Allemagne', 'France', 'Allemagne', 'Russie', 'France', 'Allemagne', 'Russie', 'États-Unis', 'Ukraine', 'Géorgie', 'États-Unis', 'États-Unis'], ['États-Unis', 'Israël', 'Israël', 'États-Unis', 'Argentine', 'États-Unis', 'Canada', 'Canada', 'Argentine', 'Brésil', 'Canada', 'Argentine', 'Brésil', 'États-Unis', 'États-Unis'], ['Russie', 'Syrie', 'Turquie', 'Israël', 'Iran', 'États-Unis', 'Syrie', 'États-Unis', 'Syrie', 'Iran', 'Syrie', 'Jordanie', 'Syrie', 'États-Unis', 'Syrie', 'Jordanie', 'Turquie', 'Syrie', 'Syrie', 'Russie', 'Turquie', 'États-Unis', 'Libye', 'Syrie', 'Russie', 'Jordanie', 'Israël', 'États-Unis', 'Turquie', 'États-Unis', 'France', 'Libye', 'Qatar', 'Turquie', 'États-Unis', 'France', 'Turquie', 'Liban', 'Liban', 'Russie', 'Liban', 'Israël', 'États-Unis', 'Liban', 'États-Unis', 'États-Unis', 'Russie', 'Israël', 'Iran', 'Turquie', 'Qatar', 'Iran', 'Turquie', 'Syrie', 'Israël', 'Syrie', 'Syrie', 'Iran', 'Mali', 'France', 'Russie', 'Syrie', 'Turquie', 'Mali', 'Russie', 'Centrafrique', 'France', 'Mali', 'Mali', 'France', 'France', 'Syrie', 'Russie', 'France', 'Centrafrique', 'Chine', 'Chine', 'Russie', 'Chine', 'Russie', 'Syrie'], ['France', 'France', 'Niger', 'Niger', 'Mali', 'Mali', 'Mali', 'France', 'Mali', 'France'], ['Suisse', 'Suisse', 'Brésil', 'Brésil', 'Italie', 'Italie'], ['France', 'Mali', 'Mali', 'France', 'France', 'France'], [], [], ['Tchad', 'Tchad', 'Tchad', 'Libye', 'France', 'Libye', 'Mali', 'Mali', 'Mali', 'Niger', 'Tchad', 'France', 'Tchad', 'France', 'France', 'France', 'Tchad', 'Libye', 'Mali', 'Niger', 'Libye', 'Tchad', 'Mali', 'Tchad', 'France']]\n",
      "\n",
      "['France', 'Niger', 'Mali', 'Syrie', 'États-Unis', 'Israël', 'Russie', 'Allemagne', 'Qatar', 'Djibouti', 'Ghana', 'Tchad', 'Royaume-Uni', 'Grèce', 'Espagne', 'Italie', 'Norvège', 'Chine', 'Ukraine', 'Irak', 'Brésil', 'Liban', 'Afghanistan', 'Libye', 'Jordanie', 'Sénégal', 'Algérie', 'Yémen', 'Turquie', 'Égypte', 'Soudan', 'Tunisie', 'Azerbaïdjan', 'Suède', 'Maroc', 'Éthiopie', 'Inde', 'Australie', 'Suisse', 'Moldavie', 'Géorgie', 'Argentine', 'Canada', 'Iran', 'Centrafrique']\n"
     ]
    }
   ],
   "source": [
    "docFinal = []\n",
    "key = 'loc'\n",
    "tabWord = []\n",
    "\n",
    "for annee in data[\"data-all\"]:\n",
    "    for mois in data[\"data-all\"][annee]:\n",
    "        for article in data[\"data-all\"][annee][mois]:\n",
    "            dat = data[\"data-all\"][annee][mois][article][0]['content'].split()\n",
    "            nDat = []\n",
    "            for mot in dat:\n",
    "                nMot = mot\n",
    "                for l in mot:\n",
    "                    if l in ponctuations:\n",
    "                        if l == mot[0] or l == mot[len(mot) - 1]:\n",
    "                            nMot = nMot.replace(l, \"\")\n",
    "                        elif l==\"’\":\n",
    "                            indice = mot.index(l)\n",
    "                            nMot = mot.replace(l, \"\")\n",
    "                            nMot = mot[:indice - 1] + mot[indice + 1:]\n",
    "\n",
    "                if nMot in data[\"data-all\"][annee][mois][article][0][key]:\n",
    "                    if nMot in liste_pays :\n",
    "                        nDat.append(nMot)\n",
    "                        if nMot not in tabWord:\n",
    "                            tabWord.append(nMot)\n",
    "            docFinal.append(nDat)\n",
    "\n",
    "print(docFinal)\n",
    "documents = [\" \".join(doc) for doc in docFinal]\n",
    "print(documents[0])\n",
    "print(tabWord)"
   ],
   "metadata": {
    "collapsed": false,
    "ExecuteTime": {
     "end_time": "2024-01-06T22:44:47.127752800Z",
     "start_time": "2024-01-06T22:44:46.651732600Z"
    }
   },
   "id": "b10856b8a8a94126"
  },
  {
   "cell_type": "markdown",
   "source": [
    "**Création du modèle word2vec avec 2 dimensions**"
   ],
   "metadata": {
    "collapsed": false
   },
   "id": "b35e13e891b6d214"
  },
  {
   "cell_type": "code",
   "execution_count": 24,
   "outputs": [],
   "source": [
    "modele = Word2Vec(docFinal, vector_size=2, window=5)"
   ],
   "metadata": {
    "collapsed": false,
    "ExecuteTime": {
     "end_time": "2024-01-06T22:44:47.249482Z",
     "start_time": "2024-01-06T22:44:47.071837600Z"
    }
   },
   "id": "d5650a1eaf3225c5"
  },
  {
   "cell_type": "markdown",
   "source": [
    "**Vectorisation des mots**"
   ],
   "metadata": {
    "collapsed": false
   },
   "id": "1bb8bac2af93850a"
  },
  {
   "cell_type": "code",
   "execution_count": 25,
   "outputs": [],
   "source": [
    "words = modele.wv"
   ],
   "metadata": {
    "collapsed": false,
    "ExecuteTime": {
     "end_time": "2024-01-06T22:44:47.250478200Z",
     "start_time": "2024-01-06T22:44:47.145158200Z"
    }
   },
   "id": "a0aad9a36a66c416"
  },
  {
   "cell_type": "markdown",
   "source": [
    "**Similarité entre 2 mots**"
   ],
   "metadata": {
    "collapsed": false
   },
   "id": "2af13ec55272919e"
  },
  {
   "cell_type": "code",
   "execution_count": 26,
   "outputs": [
    {
     "name": "stdout",
     "output_type": "stream",
     "text": [
      "-0.9897783\n"
     ]
    }
   ],
   "source": [
    "mot1 = \"Brésil\"\n",
    "mot2 = \"France\"\n",
    "print(words.similarity(mot1, mot2))"
   ],
   "metadata": {
    "collapsed": false,
    "ExecuteTime": {
     "end_time": "2024-01-06T22:44:47.302024500Z",
     "start_time": "2024-01-06T22:44:47.161913700Z"
    }
   },
   "id": "8ff81a126ff3ef34"
  },
  {
   "cell_type": "markdown",
   "source": [
    "**Mots les plus proches d'un autre**"
   ],
   "metadata": {
    "collapsed": false
   },
   "id": "9f5c267651cceb8d"
  },
  {
   "cell_type": "code",
   "execution_count": 27,
   "outputs": [
    {
     "name": "stdout",
     "output_type": "stream",
     "text": [
      "[('Iran', 0.9935394525527954), ('Italie', 0.9882559776306152), ('Royaume-Uni', 0.9742034673690796), ('Turquie', 0.9620325565338135), ('Qatar', 0.9162675142288208), ('Espagne', 0.8348533511161804), ('Allemagne', 0.71096271276474), ('Israël', 0.6361353993415833), ('Syrie', 0.5118902325630188), ('Afghanistan', 0.44570523500442505)]\n"
     ]
    }
   ],
   "source": [
    "mot = \"France\"\n",
    "print(words.most_similar(mot))"
   ],
   "metadata": {
    "collapsed": false,
    "ExecuteTime": {
     "end_time": "2024-01-06T22:44:47.303034200Z",
     "start_time": "2024-01-06T22:44:47.172818100Z"
    }
   },
   "id": "91bfbd2558a5460"
  },
  {
   "cell_type": "markdown",
   "source": [
    "**Mots les plus proches de la conjonction de \"mot1\" et \"mot2\" avec \"nbMots\" mots**"
   ],
   "metadata": {
    "collapsed": false
   },
   "id": "2c586011043e367"
  },
  {
   "cell_type": "code",
   "execution_count": 28,
   "outputs": [
    {
     "name": "stdout",
     "output_type": "stream",
     "text": [
      "[('Libye', 0.9911567568778992), ('Tchad', 0.9810859560966492), ('États-Unis', 0.9733542203903198), ('Jordanie', 0.9701318144798279)]\n"
     ]
    }
   ],
   "source": [
    "mot1 = \"Brésil\"\n",
    "mot2 = \"France\"\n",
    "nbMots = 4\n",
    "print(words.most_similar(positive=[mot1, mot2], topn=nbMots))"
   ],
   "metadata": {
    "collapsed": false,
    "ExecuteTime": {
     "end_time": "2024-01-06T22:44:47.304022400Z",
     "start_time": "2024-01-06T22:44:47.189596300Z"
    }
   },
   "id": "b0722d778caea8c5"
  },
  {
   "cell_type": "markdown",
   "source": [
    "**Mots les plus proches de \"mot1\" et loin de \"mot2\" avec \"nbMots\" mots**"
   ],
   "metadata": {
    "collapsed": false
   },
   "id": "380628f81329773a"
  },
  {
   "cell_type": "code",
   "execution_count": 29,
   "outputs": [
    {
     "name": "stdout",
     "output_type": "stream",
     "text": [
      "[('Ukraine', 0.9912881255149841), ('Chine', 0.9485360980033875), ('Niger', 0.8624892830848694), ('Irak', 0.511055052280426)]\n"
     ]
    }
   ],
   "source": [
    "mot1 = \"Brésil\"\n",
    "mot2 = \"France\"\n",
    "nbMots = 4\n",
    "print(words.most_similar(positive=[mot1], negative=[mot2], topn=nbMots))"
   ],
   "metadata": {
    "collapsed": false,
    "ExecuteTime": {
     "end_time": "2024-01-06T22:44:47.305025800Z",
     "start_time": "2024-01-06T22:44:47.205620800Z"
    }
   },
   "id": "c7cf1e36cafc868"
  },
  {
   "cell_type": "markdown",
   "source": [
    "**Récupérer un ensemble de donnée dans un dataFrame**"
   ],
   "metadata": {
    "collapsed": false
   },
   "id": "9c5bcbfc6ddeae94"
  },
  {
   "cell_type": "code",
   "execution_count": 30,
   "outputs": [
    {
     "name": "stdout",
     "output_type": "stream",
     "text": [
      "Index(['France', 'Mali', 'Russie', 'États-Unis', 'Syrie', 'Niger', 'Turquie',\n",
      "       'Israël', 'Tchad', 'Algérie', 'Libye', 'Irak', 'Chine', 'Espagne',\n",
      "       'Afghanistan', 'Allemagne', 'Ukraine', 'Grèce', 'Brésil', 'Liban',\n",
      "       'Royaume-Uni', 'Maroc', 'Qatar', 'Italie', 'Jordanie', 'Iran'],\n",
      "      dtype='object')\n"
     ]
    }
   ],
   "source": [
    "df = pd.DataFrame(words.vectors, columns=['V1', 'V2'], index=words.key_to_index.keys())\n",
    "print(df.index)\n",
    "\n",
    "#sauvegarde du data frame\n",
    "# df.to_csv('./data/Dashboard/pays/Word2VecVector/df_loc_pays_word2vec_vector----mali--www.egaliteetreconciliation.fr.csv')"
   ],
   "metadata": {
    "collapsed": false,
    "ExecuteTime": {
     "end_time": "2024-01-06T22:44:47.356859700Z",
     "start_time": "2024-01-06T22:44:47.264500400Z"
    }
   },
   "id": "b564fc4688c7e88e"
  },
  {
   "cell_type": "markdown",
   "source": [
    "**Affichage de ces mots sur un graphique**"
   ],
   "metadata": {
    "collapsed": false
   },
   "id": "d06a9edbd66bc3ce"
  },
  {
   "cell_type": "code",
   "execution_count": 31,
   "outputs": [
    {
     "name": "stderr",
     "output_type": "stream",
     "text": [
      "C:\\Users\\Mathieu\\AppData\\Local\\Temp\\ipykernel_31920\\2726915483.py:3: FutureWarning:\n",
      "\n",
      "Series.__getitem__ treating keys as positions is deprecated. In a future version, integer keys will always be treated as labels (consistent with DataFrame behavior). To access a value by position, use `ser.iloc[pos]`\n",
      "\n"
     ]
    },
    {
     "data": {
      "text/plain": "<Figure size 640x480 with 1 Axes>",
      "image/png": "[encoded data removed]"
     },
     "metadata": {},
     "output_type": "display_data"
    }
   ],
   "source": [
    "plt.scatter(df.V1, df.V2, s=0.5)\n",
    "for i in range(df.shape[0]):\n",
    "    plt.annotate(df.index[i], (df.V1[i], df.V2[i]))\n",
    "plt.show()"
   ],
   "metadata": {
    "collapsed": true,
    "ExecuteTime": {
     "end_time": "2024-01-06T22:44:47.788748500Z",
     "start_time": "2024-01-06T22:44:47.359866800Z"
    }
   },
   "id": "initial_id"
  },
  {
   "cell_type": "markdown",
   "source": [
    "----------------------"
   ],
   "metadata": {
    "collapsed": false
   },
   "id": "5f0b5d96b6cb7a0e"
  },
  {
   "cell_type": "markdown",
   "source": [
    "# Matrice de coocurrence"
   ],
   "metadata": {
    "collapsed": false
   },
   "id": "9eaf87b5cd051798"
  },
  {
   "cell_type": "markdown",
   "source": [
    "**Récupération des pays les plus cités**"
   ],
   "metadata": {
    "collapsed": false
   },
   "id": "bbfe69ac7ff38612"
  },
  {
   "cell_type": "code",
   "execution_count": 32,
   "outputs": [
    {
     "name": "stdout",
     "output_type": "stream",
     "text": [
      "           Pays  Nombre articles pays Code_ISO3\n",
      "0         Niger                    15       NER\n",
      "1    États-Unis                    13       USA\n",
      "2  Burkina Faso                    12       BFA\n",
      "3        Russie                     9       RUS\n",
      "4         Syrie                     8       SYR\n",
      "5       Algérie                     7       DZA\n",
      "6         Tchad                     6       TCD\n",
      "7         Libye                     5       LBY\n",
      "8       Turquie                     5       TUR\n",
      "9        Israël                     4       ISR\n"
     ]
    }
   ],
   "source": [
    "articles = ['mali--www.egaliteetreconciliation.fr',\n",
    "               'mali--french.presstv.ir',\n",
    "               'mali--fr.sputniknews.africa',\n",
    "               'france--www.fdesouche.com',\n",
    "               'france--www.egaliteetreconciliation.fr',\n",
    "               'france--french.presstv.ir',\n",
    "               'france--fr.sputniknews.africa']\n",
    "\n",
    "doc = articles[0]\n",
    "\n",
    "pays = pd.read_csv(f\"./data/Dashboard/pays/df_loc_nb_pays_occ_sans_france_mali----{doc}.csv\")\n",
    "df_subset_pays = pays.head(10)\n",
    "\n",
    "print(df_subset_pays)"
   ],
   "metadata": {
    "collapsed": false,
    "ExecuteTime": {
     "end_time": "2024-01-06T22:44:47.893915900Z",
     "start_time": "2024-01-06T22:44:47.722655500Z"
    }
   },
   "id": "ec364376ee2235e5"
  },
  {
   "cell_type": "markdown",
   "source": [
    "**Création de la matrice**"
   ],
   "metadata": {
    "collapsed": false
   },
   "id": "d250dc4e5168b890"
  },
  {
   "cell_type": "code",
   "execution_count": 33,
   "outputs": [
    {
     "name": "stdout",
     "output_type": "stream",
     "text": [
      "              Niger  États-Unis  Burkina Faso  Russie  Syrie  Algérie  Tchad  \\\n",
      "Niger             0           0             0       0      0        0      0   \n",
      "États-Unis        0           0             0       0      0        0      0   \n",
      "Burkina Faso      0           0             0       0      0        0      0   \n",
      "Russie            0           0             0       0      0        0      0   \n",
      "Syrie             0           0             0       0      0        0      0   \n",
      "Algérie           0           0             0       0      0        0      0   \n",
      "Tchad             0           0             0       0      0        0      0   \n",
      "Libye             0           0             0       0      0        0      0   \n",
      "Turquie           0           0             0       0      0        0      0   \n",
      "Israël            0           0             0       0      0        0      0   \n",
      "\n",
      "              Libye  Turquie  Israël  \n",
      "Niger             0        0       0  \n",
      "États-Unis        0        0       0  \n",
      "Burkina Faso      0        0       0  \n",
      "Russie            0        0       0  \n",
      "Syrie             0        0       0  \n",
      "Algérie           0        0       0  \n",
      "Tchad             0        0       0  \n",
      "Libye             0        0       0  \n",
      "Turquie           0        0       0  \n",
      "Israël            0        0       0  \n",
      "            Niger  États-Unis  Russie  Syrie  Algérie  Tchad  Libye  Turquie  \\\n",
      "Niger          99          29     -81    -90      -55     66     61      -63   \n",
      "États-Unis     29         100     -79    -66      -95     91     93       54   \n",
      "Russie        -81         -79     100     98       93    -97    -95        7   \n",
      "Syrie         -90         -66      98    100       84    -91    -88       25   \n",
      "Algérie       -55         -95      93     84      100    -99    -99      -28   \n",
      "Tchad          66          91     -97    -91      -99    100     99       15   \n",
      "Libye          61          93     -95    -88      -99     99     99       21   \n",
      "Turquie       -63          54       7     25      -28     15     21      100   \n",
      "Israël        -96         -54      94     98       76    -84    -80       40   \n",
      "\n",
      "            Israël  \n",
      "Niger          -96  \n",
      "États-Unis     -54  \n",
      "Russie          94  \n",
      "Syrie           98  \n",
      "Algérie         76  \n",
      "Tchad          -84  \n",
      "Libye          -80  \n",
      "Turquie         40  \n",
      "Israël          99  \n"
     ]
    },
    {
     "data": {
      "application/vnd.plotly.v1+json": {
       "data": [
        {
         "coloraxis": "coloraxis",
         "name": "0",
         "texttemplate": "%{z}",
         "x": [
          "Niger",
          "États-Unis",
          "Russie",
          "Syrie",
          "Algérie",
          "Tchad",
          "Libye",
          "Turquie",
          "Israël"
         ],
         "y": [
          "Niger",
          "États-Unis",
          "Russie",
          "Syrie",
          "Algérie",
          "Tchad",
          "Libye",
          "Turquie",
          "Israël"
         ],
         "z": [
          [
           99,
           29,
           -81,
           -90,
           -55,
           66,
           61,
           -63,
           -96
          ],
          [
           29,
           100,
           -79,
           -66,
           -95,
           91,
           93,
           54,
           -54
          ],
          [
           -81,
           -79,
           100,
           98,
           93,
           -97,
           -95,
           7,
           94
          ],
          [
           -90,
           -66,
           98,
           100,
           84,
           -91,
           -88,
           25,
           98
          ],
          [
           -55,
           -95,
           93,
           84,
           100,
           -99,
           -99,
           -28,
           76
          ],
          [
           66,
           91,
           -97,
           -91,
           -99,
           100,
           99,
           15,
           -84
          ],
          [
           61,
           93,
           -95,
           -88,
           -99,
           99,
           99,
           21,
           -80
          ],
          [
           -63,
           54,
           7,
           25,
           -28,
           15,
           21,
           100,
           40
          ],
          [
           -96,
           -54,
           94,
           98,
           76,
           -84,
           -80,
           40,
           99
          ]
         ],
         "type": "heatmap",
         "xaxis": "x",
         "yaxis": "y",
         "hovertemplate": "x: %{x}<br>y: %{y}<br>color: %{z}<extra></extra>"
        }
       ],
       "layout": {
        "template": {
         "data": {
          "histogram2dcontour": [
           {
            "type": "histogram2dcontour",
            "colorbar": {
             "outlinewidth": 0,
             "ticks": ""
            },
            "colorscale": [
             [
              0.0,
              "#0d0887"
             ],
             [
              0.1111111111111111,
              "#46039f"
             ],
             [
              0.2222222222222222,
              "#7201a8"
             ],
             [
              0.3333333333333333,
              "#9c179e"
             ],
             [
              0.4444444444444444,
              "#bd3786"
             ],
             [
              0.5555555555555556,
              "#d8576b"
             ],
             [
              0.6666666666666666,
              "#ed7953"
             ],
             [
              0.7777777777777778,
              "#fb9f3a"
             ],
             [
              0.8888888888888888,
              "#fdca26"
             ],
             [
              1.0,
              "#f0f921"
             ]
            ]
           }
          ],
          "choropleth": [
           {
            "type": "choropleth",
            "colorbar": {
             "outlinewidth": 0,
             "ticks": ""
            }
           }
          ],
          "histogram2d": [
           {
            "type": "histogram2d",
            "colorbar": {
             "outlinewidth": 0,
             "ticks": ""
            },
            "colorscale": [
             [
              0.0,
              "#0d0887"
             ],
             [
              0.1111111111111111,
              "#46039f"
             ],
             [
              0.2222222222222222,
              "#7201a8"
             ],
             [
              0.3333333333333333,
              "#9c179e"
             ],
             [
              0.4444444444444444,
              "#bd3786"
             ],
             [
              0.5555555555555556,
              "#d8576b"
             ],
             [
              0.6666666666666666,
              "#ed7953"
             ],
             [
              0.7777777777777778,
              "#fb9f3a"
             ],
             [
              0.8888888888888888,
              "#fdca26"
             ],
             [
              1.0,
              "#f0f921"
             ]
            ]
           }
          ],
          "heatmap": [
           {
            "type": "heatmap",
            "colorbar": {
             "outlinewidth": 0,
             "ticks": ""
            },
            "colorscale": [
             [
              0.0,
              "#0d0887"
             ],
             [
              0.1111111111111111,
              "#46039f"
             ],
             [
              0.2222222222222222,
              "#7201a8"
             ],
             [
              0.3333333333333333,
              "#9c179e"
             ],
             [
              0.4444444444444444,
              "#bd3786"
             ],
             [
              0.5555555555555556,
              "#d8576b"
             ],
             [
              0.6666666666666666,
              "#ed7953"
             ],
             [
              0.7777777777777778,
              "#fb9f3a"
             ],
             [
              0.8888888888888888,
              "#fdca26"
             ],
             [
              1.0,
              "#f0f921"
             ]
            ]
           }
          ],
          "heatmapgl": [
           {
            "type": "heatmapgl",
            "colorbar": {
             "outlinewidth": 0,
             "ticks": ""
            },
            "colorscale": [
             [
              0.0,
              "#0d0887"
             ],
             [
              0.1111111111111111,
              "#46039f"
             ],
             [
              0.2222222222222222,
              "#7201a8"
             ],
             [
              0.3333333333333333,
              "#9c179e"
             ],
             [
              0.4444444444444444,
              "#bd3786"
             ],
             [
              0.5555555555555556,
              "#d8576b"
             ],
             [
              0.6666666666666666,
              "#ed7953"
             ],
             [
              0.7777777777777778,
              "#fb9f3a"
             ],
             [
              0.8888888888888888,
              "#fdca26"
             ],
             [
              1.0,
              "#f0f921"
             ]
            ]
           }
          ],
          "contourcarpet": [
           {
            "type": "contourcarpet",
            "colorbar": {
             "outlinewidth": 0,
             "ticks": ""
            }
           }
          ],
          "contour": [
           {
            "type": "contour",
            "colorbar": {
             "outlinewidth": 0,
             "ticks": ""
            },
            "colorscale": [
             [
              0.0,
              "#0d0887"
             ],
             [
              0.1111111111111111,
              "#46039f"
             ],
             [
              0.2222222222222222,
              "#7201a8"
             ],
             [
              0.3333333333333333,
              "#9c179e"
             ],
             [
              0.4444444444444444,
              "#bd3786"
             ],
             [
              0.5555555555555556,
              "#d8576b"
             ],
             [
              0.6666666666666666,
              "#ed7953"
             ],
             [
              0.7777777777777778,
              "#fb9f3a"
             ],
             [
              0.8888888888888888,
              "#fdca26"
             ],
             [
              1.0,
              "#f0f921"
             ]
            ]
           }
          ],
          "surface": [
           {
            "type": "surface",
            "colorbar": {
             "outlinewidth": 0,
             "ticks": ""
            },
            "colorscale": [
             [
              0.0,
              "#0d0887"
             ],
             [
              0.1111111111111111,
              "#46039f"
             ],
             [
              0.2222222222222222,
              "#7201a8"
             ],
             [
              0.3333333333333333,
              "#9c179e"
             ],
             [
              0.4444444444444444,
              "#bd3786"
             ],
             [
              0.5555555555555556,
              "#d8576b"
             ],
             [
              0.6666666666666666,
              "#ed7953"
             ],
             [
              0.7777777777777778,
              "#fb9f3a"
             ],
             [
              0.8888888888888888,
              "#fdca26"
             ],
             [
              1.0,
              "#f0f921"
             ]
            ]
           }
          ],
          "mesh3d": [
           {
            "type": "mesh3d",
            "colorbar": {
             "outlinewidth": 0,
             "ticks": ""
            }
           }
          ],
          "scatter": [
           {
            "marker": {
             "line": {
              "color": "#283442"
             }
            },
            "type": "scatter"
           }
          ],
          "parcoords": [
           {
            "type": "parcoords",
            "line": {
             "colorbar": {
              "outlinewidth": 0,
              "ticks": ""
             }
            }
           }
          ],
          "scatterpolargl": [
           {
            "type": "scatterpolargl",
            "marker": {
             "colorbar": {
              "outlinewidth": 0,
              "ticks": ""
             }
            }
           }
          ],
          "bar": [
           {
            "error_x": {
             "color": "#f2f5fa"
            },
            "error_y": {
             "color": "#f2f5fa"
            },
            "marker": {
             "line": {
              "color": "rgb(17,17,17)",
              "width": 0.5
             },
             "pattern": {
              "fillmode": "overlay",
              "size": 10,
              "solidity": 0.2
             }
            },
            "type": "bar"
           }
          ],
          "scattergeo": [
           {
            "type": "scattergeo",
            "marker": {
             "colorbar": {
              "outlinewidth": 0,
              "ticks": ""
             }
            }
           }
          ],
          "scatterpolar": [
           {
            "type": "scatterpolar",
            "marker": {
             "colorbar": {
              "outlinewidth": 0,
              "ticks": ""
             }
            }
           }
          ],
          "histogram": [
           {
            "marker": {
             "pattern": {
              "fillmode": "overlay",
              "size": 10,
              "solidity": 0.2
             }
            },
            "type": "histogram"
           }
          ],
          "scattergl": [
           {
            "marker": {
             "line": {
              "color": "#283442"
             }
            },
            "type": "scattergl"
           }
          ],
          "scatter3d": [
           {
            "type": "scatter3d",
            "line": {
             "colorbar": {
              "outlinewidth": 0,
              "ticks": ""
             }
            },
            "marker": {
             "colorbar": {
              "outlinewidth": 0,
              "ticks": ""
             }
            }
           }
          ],
          "scattermapbox": [
           {
            "type": "scattermapbox",
            "marker": {
             "colorbar": {
              "outlinewidth": 0,
              "ticks": ""
             }
            }
           }
          ],
          "scatterternary": [
           {
            "type": "scatterternary",
            "marker": {
             "colorbar": {
              "outlinewidth": 0,
              "ticks": ""
             }
            }
           }
          ],
          "scattercarpet": [
           {
            "type": "scattercarpet",
            "marker": {
             "colorbar": {
              "outlinewidth": 0,
              "ticks": ""
             }
            }
           }
          ],
          "carpet": [
           {
            "aaxis": {
             "endlinecolor": "#A2B1C6",
             "gridcolor": "#506784",
             "linecolor": "#506784",
             "minorgridcolor": "#506784",
             "startlinecolor": "#A2B1C6"
            },
            "baxis": {
             "endlinecolor": "#A2B1C6",
             "gridcolor": "#506784",
             "linecolor": "#506784",
             "minorgridcolor": "#506784",
             "startlinecolor": "#A2B1C6"
            },
            "type": "carpet"
           }
          ],
          "table": [
           {
            "cells": {
             "fill": {
              "color": "#506784"
             },
             "line": {
              "color": "rgb(17,17,17)"
             }
            },
            "header": {
             "fill": {
              "color": "#2a3f5f"
             },
             "line": {
              "color": "rgb(17,17,17)"
             }
            },
            "type": "table"
           }
          ],
          "barpolar": [
           {
            "marker": {
             "line": {
              "color": "rgb(17,17,17)",
              "width": 0.5
             },
             "pattern": {
              "fillmode": "overlay",
              "size": 10,
              "solidity": 0.2
             }
            },
            "type": "barpolar"
           }
          ],
          "pie": [
           {
            "automargin": true,
            "type": "pie"
           }
          ]
         },
         "layout": {
          "autotypenumbers": "strict",
          "colorway": [
           "#636efa",
           "#EF553B",
           "#00cc96",
           "#ab63fa",
           "#FFA15A",
           "#19d3f3",
           "#FF6692",
           "#B6E880",
           "#FF97FF",
           "#FECB52"
          ],
          "font": {
           "color": "#f2f5fa"
          },
          "hovermode": "closest",
          "hoverlabel": {
           "align": "left"
          },
          "paper_bgcolor": "rgb(17,17,17)",
          "plot_bgcolor": "rgb(17,17,17)",
          "polar": {
           "bgcolor": "rgb(17,17,17)",
           "angularaxis": {
            "gridcolor": "#506784",
            "linecolor": "#506784",
            "ticks": ""
           },
           "radialaxis": {
            "gridcolor": "#506784",
            "linecolor": "#506784",
            "ticks": ""
           }
          },
          "ternary": {
           "bgcolor": "rgb(17,17,17)",
           "aaxis": {
            "gridcolor": "#506784",
            "linecolor": "#506784",
            "ticks": ""
           },
           "baxis": {
            "gridcolor": "#506784",
            "linecolor": "#506784",
            "ticks": ""
           },
           "caxis": {
            "gridcolor": "#506784",
            "linecolor": "#506784",
            "ticks": ""
           }
          },
          "coloraxis": {
           "colorbar": {
            "outlinewidth": 0,
            "ticks": ""
           }
          },
          "colorscale": {
           "sequential": [
            [
             0.0,
             "#0d0887"
            ],
            [
             0.1111111111111111,
             "#46039f"
            ],
            [
             0.2222222222222222,
             "#7201a8"
            ],
            [
             0.3333333333333333,
             "#9c179e"
            ],
            [
             0.4444444444444444,
             "#bd3786"
            ],
            [
             0.5555555555555556,
             "#d8576b"
            ],
            [
             0.6666666666666666,
             "#ed7953"
            ],
            [
             0.7777777777777778,
             "#fb9f3a"
            ],
            [
             0.8888888888888888,
             "#fdca26"
            ],
            [
             1.0,
             "#f0f921"
            ]
           ],
           "sequentialminus": [
            [
             0.0,
             "#0d0887"
            ],
            [
             0.1111111111111111,
             "#46039f"
            ],
            [
             0.2222222222222222,
             "#7201a8"
            ],
            [
             0.3333333333333333,
             "#9c179e"
            ],
            [
             0.4444444444444444,
             "#bd3786"
            ],
            [
             0.5555555555555556,
             "#d8576b"
            ],
            [
             0.6666666666666666,
             "#ed7953"
            ],
            [
             0.7777777777777778,
             "#fb9f3a"
            ],
            [
             0.8888888888888888,
             "#fdca26"
            ],
            [
             1.0,
             "#f0f921"
            ]
           ],
           "diverging": [
            [
             0,
             "#8e0152"
            ],
            [
             0.1,
             "#c51b7d"
            ],
            [
             0.2,
             "#de77ae"
            ],
            [
             0.3,
             "#f1b6da"
            ],
            [
             0.4,
             "#fde0ef"
            ],
            [
             0.5,
             "#f7f7f7"
            ],
            [
             0.6,
             "#e6f5d0"
            ],
            [
             0.7,
             "#b8e186"
            ],
            [
             0.8,
             "#7fbc41"
            ],
            [
             0.9,
             "#4d9221"
            ],
            [
             1,
             "#276419"
            ]
           ]
          },
          "xaxis": {
           "gridcolor": "#283442",
           "linecolor": "#506784",
           "ticks": "",
           "title": {
            "standoff": 15
           },
           "zerolinecolor": "#283442",
           "automargin": true,
           "zerolinewidth": 2
          },
          "yaxis": {
           "gridcolor": "#283442",
           "linecolor": "#506784",
           "ticks": "",
           "title": {
            "standoff": 15
           },
           "zerolinecolor": "#283442",
           "automargin": true,
           "zerolinewidth": 2
          },
          "scene": {
           "xaxis": {
            "backgroundcolor": "rgb(17,17,17)",
            "gridcolor": "#506784",
            "linecolor": "#506784",
            "showbackground": true,
            "ticks": "",
            "zerolinecolor": "#C8D4E3",
            "gridwidth": 2
           },
           "yaxis": {
            "backgroundcolor": "rgb(17,17,17)",
            "gridcolor": "#506784",
            "linecolor": "#506784",
            "showbackground": true,
            "ticks": "",
            "zerolinecolor": "#C8D4E3",
            "gridwidth": 2
           },
           "zaxis": {
            "backgroundcolor": "rgb(17,17,17)",
            "gridcolor": "#506784",
            "linecolor": "#506784",
            "showbackground": true,
            "ticks": "",
            "zerolinecolor": "#C8D4E3",
            "gridwidth": 2
           }
          },
          "shapedefaults": {
           "line": {
            "color": "#f2f5fa"
           }
          },
          "annotationdefaults": {
           "arrowcolor": "#f2f5fa",
           "arrowhead": 0,
           "arrowwidth": 1
          },
          "geo": {
           "bgcolor": "rgb(17,17,17)",
           "landcolor": "rgb(17,17,17)",
           "subunitcolor": "#506784",
           "showland": true,
           "showlakes": true,
           "lakecolor": "rgb(17,17,17)"
          },
          "title": {
           "x": 0.05
          },
          "updatemenudefaults": {
           "bgcolor": "#506784",
           "borderwidth": 0
          },
          "sliderdefaults": {
           "bgcolor": "#C8D4E3",
           "borderwidth": 1,
           "bordercolor": "rgb(17,17,17)",
           "tickwidth": 0
          },
          "mapbox": {
           "style": "dark"
          }
         }
        },
        "xaxis": {
         "anchor": "y",
         "domain": [
          0.0,
          1.0
         ],
         "scaleanchor": "y",
         "constrain": "domain"
        },
        "yaxis": {
         "anchor": "x",
         "domain": [
          0.0,
          1.0
         ],
         "autorange": "reversed",
         "constrain": "domain"
        },
        "coloraxis": {
         "colorscale": [
          [
           0.0,
           "#0d0887"
          ],
          [
           0.1111111111111111,
           "#46039f"
          ],
          [
           0.2222222222222222,
           "#7201a8"
          ],
          [
           0.3333333333333333,
           "#9c179e"
          ],
          [
           0.4444444444444444,
           "#bd3786"
          ],
          [
           0.5555555555555556,
           "#d8576b"
          ],
          [
           0.6666666666666666,
           "#ed7953"
          ],
          [
           0.7777777777777778,
           "#fb9f3a"
          ],
          [
           0.8888888888888888,
           "#fdca26"
          ],
          [
           1.0,
           "#f0f921"
          ]
         ]
        },
        "margin": {
         "t": 60
        }
       },
       "config": {
        "plotlyServerURL": "https://plot.ly"
       }
      },
      "text/html": "<div>                            <div id=\"1d0a10de-40e2-440c-82d8-df400215f1a8\" class=\"plotly-graph-div\" style=\"height:525px; width:100%;\"></div>            <script type=\"text/javascript\">                require([\"plotly\"], function(Plotly) {                    window.PLOTLYENV=window.PLOTLYENV || {};                                    if (document.getElementById(\"1d0a10de-40e2-440c-82d8-df400215f1a8\")) {                    Plotly.newPlot(                        \"1d0a10de-40e2-440c-82d8-df400215f1a8\",                        [{\"coloraxis\":\"coloraxis\",\"name\":\"0\",\"texttemplate\":\"%{z}\",\"x\":[\"Niger\",\"\\u00c9tats-Unis\",\"Russie\",\"Syrie\",\"Alg\\u00e9rie\",\"Tchad\",\"Libye\",\"Turquie\",\"Isra\\u00ebl\"],\"y\":[\"Niger\",\"\\u00c9tats-Unis\",\"Russie\",\"Syrie\",\"Alg\\u00e9rie\",\"Tchad\",\"Libye\",\"Turquie\",\"Isra\\u00ebl\"],\"z\":[[99,29,-81,-90,-55,66,61,-63,-96],[29,100,-79,-66,-95,91,93,54,-54],[-81,-79,100,98,93,-97,-95,7,94],[-90,-66,98,100,84,-91,-88,25,98],[-55,-95,93,84,100,-99,-99,-28,76],[66,91,-97,-91,-99,100,99,15,-84],[61,93,-95,-88,-99,99,99,21,-80],[-63,54,7,25,-28,15,21,100,40],[-96,-54,94,98,76,-84,-80,40,99]],\"type\":\"heatmap\",\"xaxis\":\"x\",\"yaxis\":\"y\",\"hovertemplate\":\"x: %{x}\\u003cbr\\u003ey: %{y}\\u003cbr\\u003ecolor: %{z}\\u003cextra\\u003e\\u003c\\u002fextra\\u003e\"}],                        {\"template\":{\"data\":{\"histogram2dcontour\":[{\"type\":\"histogram2dcontour\",\"colorbar\":{\"outlinewidth\":0,\"ticks\":\"\"},\"colorscale\":[[0.0,\"#0d0887\"],[0.1111111111111111,\"#46039f\"],[0.2222222222222222,\"#7201a8\"],[0.3333333333333333,\"#9c179e\"],[0.4444444444444444,\"#bd3786\"],[0.5555555555555556,\"#d8576b\"],[0.6666666666666666,\"#ed7953\"],[0.7777777777777778,\"#fb9f3a\"],[0.8888888888888888,\"#fdca26\"],[1.0,\"#f0f921\"]]}],\"choropleth\":[{\"type\":\"choropleth\",\"colorbar\":{\"outlinewidth\":0,\"ticks\":\"\"}}],\"histogram2d\":[{\"type\":\"histogram2d\",\"colorbar\":{\"outlinewidth\":0,\"ticks\":\"\"},\"colorscale\":[[0.0,\"#0d0887\"],[0.1111111111111111,\"#46039f\"],[0.2222222222222222,\"#7201a8\"],[0.3333333333333333,\"#9c179e\"],[0.4444444444444444,\"#bd3786\"],[0.5555555555555556,\"#d8576b\"],[0.6666666666666666,\"#ed7953\"],[0.7777777777777778,\"#fb9f3a\"],[0.8888888888888888,\"#fdca26\"],[1.0,\"#f0f921\"]]}],\"heatmap\":[{\"type\":\"heatmap\",\"colorbar\":{\"outlinewidth\":0,\"ticks\":\"\"},\"colorscale\":[[0.0,\"#0d0887\"],[0.1111111111111111,\"#46039f\"],[0.2222222222222222,\"#7201a8\"],[0.3333333333333333,\"#9c179e\"],[0.4444444444444444,\"#bd3786\"],[0.5555555555555556,\"#d8576b\"],[0.6666666666666666,\"#ed7953\"],[0.7777777777777778,\"#fb9f3a\"],[0.8888888888888888,\"#fdca26\"],[1.0,\"#f0f921\"]]}],\"heatmapgl\":[{\"type\":\"heatmapgl\",\"colorbar\":{\"outlinewidth\":0,\"ticks\":\"\"},\"colorscale\":[[0.0,\"#0d0887\"],[0.1111111111111111,\"#46039f\"],[0.2222222222222222,\"#7201a8\"],[0.3333333333333333,\"#9c179e\"],[0.4444444444444444,\"#bd3786\"],[0.5555555555555556,\"#d8576b\"],[0.6666666666666666,\"#ed7953\"],[0.7777777777777778,\"#fb9f3a\"],[0.8888888888888888,\"#fdca26\"],[1.0,\"#f0f921\"]]}],\"contourcarpet\":[{\"type\":\"contourcarpet\",\"colorbar\":{\"outlinewidth\":0,\"ticks\":\"\"}}],\"contour\":[{\"type\":\"contour\",\"colorbar\":{\"outlinewidth\":0,\"ticks\":\"\"},\"colorscale\":[[0.0,\"#0d0887\"],[0.1111111111111111,\"#46039f\"],[0.2222222222222222,\"#7201a8\"],[0.3333333333333333,\"#9c179e\"],[0.4444444444444444,\"#bd3786\"],[0.5555555555555556,\"#d8576b\"],[0.6666666666666666,\"#ed7953\"],[0.7777777777777778,\"#fb9f3a\"],[0.8888888888888888,\"#fdca26\"],[1.0,\"#f0f921\"]]}],\"surface\":[{\"type\":\"surface\",\"colorbar\":{\"outlinewidth\":0,\"ticks\":\"\"},\"colorscale\":[[0.0,\"#0d0887\"],[0.1111111111111111,\"#46039f\"],[0.2222222222222222,\"#7201a8\"],[0.3333333333333333,\"#9c179e\"],[0.4444444444444444,\"#bd3786\"],[0.5555555555555556,\"#d8576b\"],[0.6666666666666666,\"#ed7953\"],[0.7777777777777778,\"#fb9f3a\"],[0.8888888888888888,\"#fdca26\"],[1.0,\"#f0f921\"]]}],\"mesh3d\":[{\"type\":\"mesh3d\",\"colorbar\":{\"outlinewidth\":0,\"ticks\":\"\"}}],\"scatter\":[{\"marker\":{\"line\":{\"color\":\"#283442\"}},\"type\":\"scatter\"}],\"parcoords\":[{\"type\":\"parcoords\",\"line\":{\"colorbar\":{\"outlinewidth\":0,\"ticks\":\"\"}}}],\"scatterpolargl\":[{\"type\":\"scatterpolargl\",\"marker\":{\"colorbar\":{\"outlinewidth\":0,\"ticks\":\"\"}}}],\"bar\":[{\"error_x\":{\"color\":\"#f2f5fa\"},\"error_y\":{\"color\":\"#f2f5fa\"},\"marker\":{\"line\":{\"color\":\"rgb(17,17,17)\",\"width\":0.5},\"pattern\":{\"fillmode\":\"overlay\",\"size\":10,\"solidity\":0.2}},\"type\":\"bar\"}],\"scattergeo\":[{\"type\":\"scattergeo\",\"marker\":{\"colorbar\":{\"outlinewidth\":0,\"ticks\":\"\"}}}],\"scatterpolar\":[{\"type\":\"scatterpolar\",\"marker\":{\"colorbar\":{\"outlinewidth\":0,\"ticks\":\"\"}}}],\"histogram\":[{\"marker\":{\"pattern\":{\"fillmode\":\"overlay\",\"size\":10,\"solidity\":0.2}},\"type\":\"histogram\"}],\"scattergl\":[{\"marker\":{\"line\":{\"color\":\"#283442\"}},\"type\":\"scattergl\"}],\"scatter3d\":[{\"type\":\"scatter3d\",\"line\":{\"colorbar\":{\"outlinewidth\":0,\"ticks\":\"\"}},\"marker\":{\"colorbar\":{\"outlinewidth\":0,\"ticks\":\"\"}}}],\"scattermapbox\":[{\"type\":\"scattermapbox\",\"marker\":{\"colorbar\":{\"outlinewidth\":0,\"ticks\":\"\"}}}],\"scatterternary\":[{\"type\":\"scatterternary\",\"marker\":{\"colorbar\":{\"outlinewidth\":0,\"ticks\":\"\"}}}],\"scattercarpet\":[{\"type\":\"scattercarpet\",\"marker\":{\"colorbar\":{\"outlinewidth\":0,\"ticks\":\"\"}}}],\"carpet\":[{\"aaxis\":{\"endlinecolor\":\"#A2B1C6\",\"gridcolor\":\"#506784\",\"linecolor\":\"#506784\",\"minorgridcolor\":\"#506784\",\"startlinecolor\":\"#A2B1C6\"},\"baxis\":{\"endlinecolor\":\"#A2B1C6\",\"gridcolor\":\"#506784\",\"linecolor\":\"#506784\",\"minorgridcolor\":\"#506784\",\"startlinecolor\":\"#A2B1C6\"},\"type\":\"carpet\"}],\"table\":[{\"cells\":{\"fill\":{\"color\":\"#506784\"},\"line\":{\"color\":\"rgb(17,17,17)\"}},\"header\":{\"fill\":{\"color\":\"#2a3f5f\"},\"line\":{\"color\":\"rgb(17,17,17)\"}},\"type\":\"table\"}],\"barpolar\":[{\"marker\":{\"line\":{\"color\":\"rgb(17,17,17)\",\"width\":0.5},\"pattern\":{\"fillmode\":\"overlay\",\"size\":10,\"solidity\":0.2}},\"type\":\"barpolar\"}],\"pie\":[{\"automargin\":true,\"type\":\"pie\"}]},\"layout\":{\"autotypenumbers\":\"strict\",\"colorway\":[\"#636efa\",\"#EF553B\",\"#00cc96\",\"#ab63fa\",\"#FFA15A\",\"#19d3f3\",\"#FF6692\",\"#B6E880\",\"#FF97FF\",\"#FECB52\"],\"font\":{\"color\":\"#f2f5fa\"},\"hovermode\":\"closest\",\"hoverlabel\":{\"align\":\"left\"},\"paper_bgcolor\":\"rgb(17,17,17)\",\"plot_bgcolor\":\"rgb(17,17,17)\",\"polar\":{\"bgcolor\":\"rgb(17,17,17)\",\"angularaxis\":{\"gridcolor\":\"#506784\",\"linecolor\":\"#506784\",\"ticks\":\"\"},\"radialaxis\":{\"gridcolor\":\"#506784\",\"linecolor\":\"#506784\",\"ticks\":\"\"}},\"ternary\":{\"bgcolor\":\"rgb(17,17,17)\",\"aaxis\":{\"gridcolor\":\"#506784\",\"linecolor\":\"#506784\",\"ticks\":\"\"},\"baxis\":{\"gridcolor\":\"#506784\",\"linecolor\":\"#506784\",\"ticks\":\"\"},\"caxis\":{\"gridcolor\":\"#506784\",\"linecolor\":\"#506784\",\"ticks\":\"\"}},\"coloraxis\":{\"colorbar\":{\"outlinewidth\":0,\"ticks\":\"\"}},\"colorscale\":{\"sequential\":[[0.0,\"#0d0887\"],[0.1111111111111111,\"#46039f\"],[0.2222222222222222,\"#7201a8\"],[0.3333333333333333,\"#9c179e\"],[0.4444444444444444,\"#bd3786\"],[0.5555555555555556,\"#d8576b\"],[0.6666666666666666,\"#ed7953\"],[0.7777777777777778,\"#fb9f3a\"],[0.8888888888888888,\"#fdca26\"],[1.0,\"#f0f921\"]],\"sequentialminus\":[[0.0,\"#0d0887\"],[0.1111111111111111,\"#46039f\"],[0.2222222222222222,\"#7201a8\"],[0.3333333333333333,\"#9c179e\"],[0.4444444444444444,\"#bd3786\"],[0.5555555555555556,\"#d8576b\"],[0.6666666666666666,\"#ed7953\"],[0.7777777777777778,\"#fb9f3a\"],[0.8888888888888888,\"#fdca26\"],[1.0,\"#f0f921\"]],\"diverging\":[[0,\"#8e0152\"],[0.1,\"#c51b7d\"],[0.2,\"#de77ae\"],[0.3,\"#f1b6da\"],[0.4,\"#fde0ef\"],[0.5,\"#f7f7f7\"],[0.6,\"#e6f5d0\"],[0.7,\"#b8e186\"],[0.8,\"#7fbc41\"],[0.9,\"#4d9221\"],[1,\"#276419\"]]},\"xaxis\":{\"gridcolor\":\"#283442\",\"linecolor\":\"#506784\",\"ticks\":\"\",\"title\":{\"standoff\":15},\"zerolinecolor\":\"#283442\",\"automargin\":true,\"zerolinewidth\":2},\"yaxis\":{\"gridcolor\":\"#283442\",\"linecolor\":\"#506784\",\"ticks\":\"\",\"title\":{\"standoff\":15},\"zerolinecolor\":\"#283442\",\"automargin\":true,\"zerolinewidth\":2},\"scene\":{\"xaxis\":{\"backgroundcolor\":\"rgb(17,17,17)\",\"gridcolor\":\"#506784\",\"linecolor\":\"#506784\",\"showbackground\":true,\"ticks\":\"\",\"zerolinecolor\":\"#C8D4E3\",\"gridwidth\":2},\"yaxis\":{\"backgroundcolor\":\"rgb(17,17,17)\",\"gridcolor\":\"#506784\",\"linecolor\":\"#506784\",\"showbackground\":true,\"ticks\":\"\",\"zerolinecolor\":\"#C8D4E3\",\"gridwidth\":2},\"zaxis\":{\"backgroundcolor\":\"rgb(17,17,17)\",\"gridcolor\":\"#506784\",\"linecolor\":\"#506784\",\"showbackground\":true,\"ticks\":\"\",\"zerolinecolor\":\"#C8D4E3\",\"gridwidth\":2}},\"shapedefaults\":{\"line\":{\"color\":\"#f2f5fa\"}},\"annotationdefaults\":{\"arrowcolor\":\"#f2f5fa\",\"arrowhead\":0,\"arrowwidth\":1},\"geo\":{\"bgcolor\":\"rgb(17,17,17)\",\"landcolor\":\"rgb(17,17,17)\",\"subunitcolor\":\"#506784\",\"showland\":true,\"showlakes\":true,\"lakecolor\":\"rgb(17,17,17)\"},\"title\":{\"x\":0.05},\"updatemenudefaults\":{\"bgcolor\":\"#506784\",\"borderwidth\":0},\"sliderdefaults\":{\"bgcolor\":\"#C8D4E3\",\"borderwidth\":1,\"bordercolor\":\"rgb(17,17,17)\",\"tickwidth\":0},\"mapbox\":{\"style\":\"dark\"}}},\"xaxis\":{\"anchor\":\"y\",\"domain\":[0.0,1.0],\"scaleanchor\":\"y\",\"constrain\":\"domain\"},\"yaxis\":{\"anchor\":\"x\",\"domain\":[0.0,1.0],\"autorange\":\"reversed\",\"constrain\":\"domain\"},\"coloraxis\":{\"colorscale\":[[0.0,\"#0d0887\"],[0.1111111111111111,\"#46039f\"],[0.2222222222222222,\"#7201a8\"],[0.3333333333333333,\"#9c179e\"],[0.4444444444444444,\"#bd3786\"],[0.5555555555555556,\"#d8576b\"],[0.6666666666666666,\"#ed7953\"],[0.7777777777777778,\"#fb9f3a\"],[0.8888888888888888,\"#fdca26\"],[1.0,\"#f0f921\"]]},\"margin\":{\"t\":60}},                        {\"responsive\": true}                    ).then(function(){\n                            \nvar gd = document.getElementById('1d0a10de-40e2-440c-82d8-df400215f1a8');\nvar x = new MutationObserver(function (mutations, observer) {{\n        var display = window.getComputedStyle(gd).display;\n        if (!display || display === 'none') {{\n            console.log([gd, 'removed!']);\n            Plotly.purge(gd);\n            observer.disconnect();\n        }}\n}});\n\n// Listen for the removal of the full notebook cells\nvar notebookContainer = gd.closest('#notebook-container');\nif (notebookContainer) {{\n    x.observe(notebookContainer, {childList: true});\n}}\n\n// Listen for the clearing of the current output cell\nvar outputEl = gd.closest('.output');\nif (outputEl) {{\n    x.observe(outputEl, {childList: true});\n}}\n\n                        })                };                });            </script>        </div>"
     },
     "metadata": {},
     "output_type": "display_data"
    }
   ],
   "source": [
    "#Création de la matrice vide\n",
    "df = pd.DataFrame(index=df_subset_pays['Pays'].tolist(), columns=df_subset_pays['Pays'].tolist())\n",
    "\n",
    "#On la remplie de 0\n",
    "df = df.fillna(0)\n",
    "print(df)\n",
    "\n",
    "#On la remplie\n",
    "for pays1 in df_subset_pays['Pays'].tolist() :\n",
    "    for pays2 in df_subset_pays['Pays'].tolist() :\n",
    "        if pays1 in modele.wv.key_to_index and pays2 in modele.wv.key_to_index :\n",
    "            df.at[pays1,pays2] = int(words.similarity(pays1, pays2)*100)\n",
    "\n",
    "# Supprimer les lignes où toutes les valeurs sont zéros\n",
    "df = df.loc[(df != 0).any(axis=1)]\n",
    "\n",
    "# Supprimer les colonnes où toutes les valeurs sont zéros\n",
    "df = df.loc[:, (df != 0).any(axis=0)]\n",
    "\n",
    "\n",
    "print(df)\n",
    "\n",
    "fig = px.imshow(df, text_auto=True)\n",
    "fig.show()"
   ],
   "metadata": {
    "collapsed": false,
    "ExecuteTime": {
     "end_time": "2024-01-06T22:44:47.964673200Z",
     "start_time": "2024-01-06T22:44:47.771899800Z"
    }
   },
   "id": "88551d5817d6664e"
  },
  {
   "cell_type": "markdown",
   "source": [
    "**Sauvegarde du data frame**"
   ],
   "metadata": {
    "collapsed": false
   },
   "id": "d8455cbe609406a"
  },
  {
   "cell_type": "code",
   "execution_count": 34,
   "outputs": [],
   "source": [
    "# df.to_csv('./data/Dashboard/pays/Word2VecMatrice/df_loc_pays_word2vec_sans_france_mali----mali--www.egaliteetreconciliation.fr.csv', index=False)"
   ],
   "metadata": {
    "collapsed": false,
    "ExecuteTime": {
     "end_time": "2024-01-06T22:44:48.054389500Z",
     "start_time": "2024-01-06T22:44:47.905915500Z"
    }
   },
   "id": "2daba82f4ae8f0dd"
  }
 ],
 "metadata": {
  "kernelspec": {
   "display_name": "Python 3",
   "language": "python",
   "name": "python3"
  },
  "language_info": {
   "codemirror_mode": {
    "name": "ipython",
    "version": 2
   },
   "file_extension": ".py",
   "mimetype": "text/x-python",
   "name": "python",
   "nbconvert_exporter": "python",
   "pygments_lexer": "ipython2",
   "version": "2.7.6"
  }
 },
 "nbformat": 4,
 "nbformat_minor": 5
}
